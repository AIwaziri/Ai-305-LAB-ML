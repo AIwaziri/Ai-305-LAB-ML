{
 "cells": [
  {
   "cell_type": "markdown",
   "metadata": {},
   "source": [
    "# AI305 Lab 3 - Linear Regression\n",
    "\n",
    "Objective: Build Linear regression model using gradient descent and normal equations\n",
    "\n"
   ]
  },
  {
   "cell_type": "markdown",
   "metadata": {},
   "source": [
    "#### Read the dataset and show the first five records.\n",
    "\n",
    "Datasets are provided as csv file, and `pandas` library is used to read csv files. \n",
    "\n",
    "`read_csv` function writes the dataset into the variable called `“data”`.\n",
    "\n",
    "`head()` function returns the first 5 rows of the dataset.\n",
    "\n",
    "NOTE: the Jupyter notebook and the csv files should be in the same directory to write the code as above, otherwise you have to copy the full path where your csv file is stored:\n",
    "\n",
    "`data = pd.read_csv(r\"Full path\\Filename.csv\")`"
   ]
  },
  {
   "cell_type": "code",
   "execution_count": 1,
   "metadata": {},
   "outputs": [],
   "source": [
    "import pandas as pd\n",
    "import numpy as np"
   ]
  },
  {
   "cell_type": "code",
   "execution_count": 2,
   "metadata": {},
   "outputs": [
    {
     "name": "stdout",
     "output_type": "stream",
     "text": [
      "    x          y\n",
      "0  24  21.549452\n",
      "1  50  47.464463\n",
      "2  15  17.218656\n",
      "3  38  36.586398\n",
      "4  87  87.288984\n"
     ]
    }
   ],
   "source": [
    "data = pd.read_csv(\"train.csv\")               \n",
    "print(data.head())"
   ]
  },
  {
   "cell_type": "markdown",
   "metadata": {},
   "source": [
    "After the csv file is read, x and y values should be stored as separate variables in order to be able to work with them. This can be done in many ways.\n",
    "\n",
    "In this example we will convert the data from a pandas Series to a Python list. This is done to to simplify working with the data in certain algorithms or libraries. \n",
    "\n",
    "The type of X and Y variables is pandas series. Pandas series is more complex data structure than both numpy arrays and python lists. That is why it requires a lot more time to do operations on pandas series. For this reason, we convert X and Y from pandas series to python lists:"
   ]
  },
  {
   "cell_type": "code",
   "execution_count": 3,
   "metadata": {},
   "outputs": [],
   "source": [
    "X1 = data['x']; Y1 = data['y']\n",
    "X = X1.tolist()\n",
    "Y = Y1.tolist()"
   ]
  },
  {
   "cell_type": "markdown",
   "metadata": {},
   "source": [
    "For visualization, matplotlib library is used."
   ]
  },
  {
   "cell_type": "code",
   "execution_count": 4,
   "metadata": {},
   "outputs": [
    {
     "data": {
      "image/png": "[encoded data removed]",
      "text/plain": [
       "<Figure size 432x288 with 1 Axes>"
      ]
     },
     "metadata": {
      "needs_background": "light"
     },
     "output_type": "display_data"
    }
   ],
   "source": [
    "import matplotlib.pyplot as plt\n",
    "plt.scatter(X, Y)\n",
    "plt.grid()\n",
    "plt.xlabel(\"x values\")\n",
    "plt.ylabel(\"y values\")\n",
    "plt.show()"
   ]
  },
  {
   "cell_type": "markdown",
   "metadata": {},
   "source": [
    "Every dot in the graph represents one sample from the dataset. As is seen from the output, Linear Regression Algorithm is quite appropriate for this dataset."
   ]
  },
  {
   "cell_type": "markdown",
   "metadata": {},
   "source": [
    "## Gradient Descent \n"
   ]
  },
  {
   "attachments": {
    "b.png": {
     "image/png": "[encoded data removed]"
    },
    "cost.png": {
     "image/png": "[encoded data removed]"
    },
    "hx.png": {
     "image/png": "[encoded data removed]"
    },
    "w.png": {
     "image/png": "[encoded data removed]"
    }
   },
   "cell_type": "markdown",
   "metadata": {},
   "source": [
    "#### the hypothesis:\n",
    "![hx.png](attachment:hx.png)\n",
    "\n",
    "#### Cost function\n",
    "![cost.png](attachment:cost.png)\n",
    "It’s used to calculate how well the line fits the data\n",
    "\n",
    "#### Gradient Descent\n",
    "We start the algorithm with random initial values (usually zero) of w and b, thus the cost function will return some high value. So we somehow have to optimize w and b to reduce the return of the cost function. In each iteration gradient descent algorithm updates the values of w and b and the line fits the data better.\n",
    "\n",
    "![w.png](attachment:w.png)\n",
    "\n",
    "![b.png](attachment:b.png)"
   ]
  },
  {
   "cell_type": "markdown",
   "metadata": {},
   "source": [
    "Inputs:\n",
    "- X: A list or array of input feature values (the independent variable).\n",
    "- Y: A list or array of target values (the dependent variable).\n",
    "- w: The initial weight (slope) of the regression line.\n",
    "- b: The initial bias (intercept) of the regression line.\n",
    "- alpha: The learning rate, which controls how big the update steps are during gradient descent."
   ]
  },
  {
   "cell_type": "code",
   "execution_count": 5,
   "metadata": {},
   "outputs": [],
   "source": [
    "#alpha - learning rate\n",
    "def gradient_descent(X, Y, w, b, alpha):\n",
    " \n",
    "    dl_dw = 0.0 #gradient with respect to the weight w\n",
    "    dl_db = 0.0 #gradient with respect to the weight b\n",
    "    N = len(X) #the total number of data points\n",
    "\n",
    "    #loop Through Data Points to Calculate Gradients\n",
    "    for i in range(N):\n",
    "        dl_dw += -1*X[i] * (Y[i] - (w*X[i] + b))\n",
    "        dl_db += -1*(Y[i] - (w*X[i] + b))\n",
    "    \n",
    "    #update w and b\n",
    "    #adding a normalization factor 1/float(N) to prevent w and b from becoming too large\n",
    "    w = w - (1/float(N))* dl_dw * alpha \n",
    "    b = b -  (1/float(N))* dl_db * alpha\n",
    "\n",
    "    return w, b"
   ]
  },
  {
   "cell_type": "markdown",
   "metadata": {},
   "source": [
    "Inputs:\n",
    "- X: A list or array of input feature values (independent variables).\n",
    "- Y: A list or array of target values (dependent variables).\n",
    "- w: The weight (slope) of the linear regression model.\n",
    "- b: The bias (intercept) of the linear regression model."
   ]
  },
  {
   "cell_type": "code",
   "execution_count": 6,
   "metadata": {},
   "outputs": [],
   "source": [
    "#cost function: Mean Squared Error (MSE)\n",
    "def cost_function (X, Y, w, b):\n",
    "\n",
    "    N = len(X)\n",
    "    total_error = 0.0 #total squared error over all data points (will be updated) \n",
    "    \n",
    "    #loop Through Data Points\n",
    "    for i in range(N):\n",
    "        total_error += (Y[i] - (w*X[i] - b))**2\n",
    "\n",
    "    return total_error / (2*float(N))"
   ]
  },
  {
   "cell_type": "markdown",
   "metadata": {},
   "source": [
    "#### Function to plot the linear regressor\n"
   ]
  },
  {
   "cell_type": "code",
   "execution_count": 7,
   "metadata": {},
   "outputs": [],
   "source": [
    "def plot_LR (X,Y,w,b):\n",
    "            plt.grid()\n",
    "            plt.xlabel(\"x values\")\n",
    "            plt.ylabel(\"y values\")\n",
    "\n",
    "            xx=np.linspace(-3,100)\n",
    "            h=w*xx+b\n",
    "            plt.plot(xx,h,color=\"red\")\n",
    "            plt.scatter(X, Y,s=5)\n",
    "            plt.pause(0.05)\n",
    "            plt.show()"
   ]
  },
  {
   "cell_type": "code",
   "execution_count": 8,
   "metadata": {},
   "outputs": [],
   "source": [
    "def train(X, Y, w, b, alpha, n_iter):\n",
    "\n",
    "    for i in range(n_iter):\n",
    "        w, b = gradient_descent(X, Y, w, b, alpha)\n",
    "\n",
    "        if i % 50 == 0:\n",
    "            print (\"iteration:\", i, \"cost: \", cost_function(X, Y, w, b))\n",
    "            plot_LR(X, Y, w, b)\n",
    "    \n",
    "    return w, b"
   ]
  },
  {
   "cell_type": "code",
   "execution_count": 9,
   "metadata": {},
   "outputs": [],
   "source": [
    "def predict(x, w, b):\n",
    "    return x*w + b"
   ]
  },
  {
   "cell_type": "markdown",
   "metadata": {},
   "source": [
    "## Train the model"
   ]
  },
  {
   "cell_type": "code",
   "execution_count": 10,
   "metadata": {},
   "outputs": [
    {
     "name": "stdout",
     "output_type": "stream",
     "text": [
      "iteration: 0 cost:  1560.6930531150774\n"
     ]
    },
    {
     "data": {
      "image/png": "[encoded data removed]",
      "text/plain": [
       "<Figure size 432x288 with 1 Axes>"
      ]
     },
     "metadata": {
      "needs_background": "light"
     },
     "output_type": "display_data"
    },
    {
     "name": "stdout",
     "output_type": "stream",
     "text": [
      "iteration: 50 cost:  56.29383720546444\n"
     ]
    },
    {
     "data": {
      "image/png": "[encoded data removed]",
      "text/plain": [
       "<Figure size 432x288 with 1 Axes>"
      ]
     },
     "metadata": {
      "needs_background": "light"
     },
     "output_type": "display_data"
    },
    {
     "name": "stdout",
     "output_type": "stream",
     "text": [
      "iteration: 100 cost:  5.728466166807908\n"
     ]
    },
    {
     "data": {
      "image/png": "[encoded data removed]",
      "text/plain": [
       "<Figure size 432x288 with 1 Axes>"
      ]
     },
     "metadata": {
      "needs_background": "light"
     },
     "output_type": "display_data"
    },
    {
     "name": "stdout",
     "output_type": "stream",
     "text": [
      "iteration: 150 cost:  4.002556742099759\n"
     ]
    },
    {
     "data": {
      "image/png": "[encoded data removed]",
      "text/plain": [
       "<Figure size 432x288 with 1 Axes>"
      ]
     },
     "metadata": {
      "needs_background": "light"
     },
     "output_type": "display_data"
    }
   ],
   "source": [
    "# w, b = train(X, Y, w, b, alpha, num_iter)\n",
    "w, b = train(X, Y, 0.0, 0.0, 0.00001, 200)"
   ]
  },
  {
   "cell_type": "markdown",
   "metadata": {},
   "source": [
    "## Test the model"
   ]
  },
  {
   "cell_type": "markdown",
   "metadata": {},
   "source": [
    "Now we can use our trained model to predict new values using LR:"
   ]
  },
  {
   "cell_type": "code",
   "execution_count": 11,
   "metadata": {
    "scrolled": true
   },
   "outputs": [
    {
     "name": "stdout",
     "output_type": "stream",
     "text": [
      "theta1=  0.9977055278803528\n",
      "theta0=  0.014886097345588488\n",
      "the new predicted value 49.90016249136323\n"
     ]
    }
   ],
   "source": [
    "x_new = 50.0 #input feature\n",
    "\n",
    "#call the predict() function to compute the predicted value y_new based on the input x_new\n",
    "y_new = predict(x_new, w, b)\n",
    "\n",
    "print(\"theta1= \", w)\n",
    "print(\"theta0= \",b)\n",
    "print(\"the new predicted value\",y_new) "
   ]
  },
  {
   "cell_type": "markdown",
   "metadata": {},
   "source": [
    "## sklearn linear regression\n"
   ]
  },
  {
   "cell_type": "markdown",
   "metadata": {},
   "source": [
    "Use the `LinearRegression` class in the `scikit-learn` library to fit a linear model to the data:"
   ]
  },
  {
   "cell_type": "code",
   "execution_count": 12,
   "metadata": {},
   "outputs": [],
   "source": [
    "from sklearn.linear_model import LinearRegression\n",
    "import pandas as pd"
   ]
  },
  {
   "cell_type": "markdown",
   "metadata": {},
   "source": [
    "Converting the data into DataFrames is necessary because `scikit-learn` models often work well with structured data like DataFrames."
   ]
  },
  {
   "cell_type": "code",
   "execution_count": 13,
   "metadata": {},
   "outputs": [
    {
     "data": {
      "text/plain": [
       "LinearRegression()"
      ]
     },
     "execution_count": 13,
     "metadata": {},
     "output_type": "execute_result"
    }
   ],
   "source": [
    "l_reg = LinearRegression() #create an instance of the model\n",
    "\n",
    "#convert data into dataframes\n",
    "X2=pd.DataFrame(X1)\n",
    "Y2=pd.DataFrame(Y1)\n",
    "\n",
    "#the model is trained (or \"fit\") to the data\n",
    "l_reg.fit(X2, Y2)"
   ]
  },
  {
   "cell_type": "markdown",
   "metadata": {},
   "source": [
    "Extract information about the model’s performance and the parameters it learned during training:\n",
    "- R² score: tells you how well the model fits the data. It ranges from 0 to 1.\n",
    "- - 1 means the model perfectly explains all the variance in the target variable.\n",
    "- - 0 means the model does not explain any of the variance in the target variable.\n",
    "- Slope: tells you how much the target variable changes for a unit change in the corresponding feature.\n",
    "- Intercept (bias): is the point where the regression line crosses the y-axis when all feature values are 0."
   ]
  },
  {
   "cell_type": "code",
   "execution_count": 14,
   "metadata": {},
   "outputs": [
    {
     "name": "stdout",
     "output_type": "stream",
     "text": [
      "Coefficient of determination (R²): 0.9907015319025518\n",
      "Slope (Coefficients): [[1.00065638]]\n",
      "Intercept: [-0.10726546]\n"
     ]
    }
   ],
   "source": [
    "# Coefficient of determination\n",
    "r_squared = l_reg.score(X2, Y2)\n",
    "print(\"Coefficient of determination (R²):\", r_squared)\n",
    "\n",
    "# Slope\n",
    "slope = l_reg.coef_\n",
    "print(\"Slope (Coefficients):\", slope)\n",
    "\n",
    "# Intercept\n",
    "intercept = l_reg.intercept_\n",
    "print(\"Intercept:\", intercept)"
   ]
  },
  {
   "cell_type": "markdown",
   "metadata": {},
   "source": [
    "Now we can read the test data from the CSV file, then use the trained LR model (l_reg) to make predictions based on the test data."
   ]
  },
  {
   "cell_type": "code",
   "execution_count": 15,
   "metadata": {},
   "outputs": [
    {
     "name": "stdout",
     "output_type": "stream",
     "text": [
      "[[76.94327594]\n",
      " [20.90651855]\n",
      " [21.90717494]\n",
      " [19.90586217]\n",
      " [35.91636428]\n",
      " [14.90258026]\n",
      " [61.93343021]\n",
      " [94.95509081]\n",
      " [19.90586217]\n",
      " [ 4.89601644]\n",
      " [ 3.89536006]\n",
      " [18.90520579]\n",
      " [95.95574719]\n",
      " [61.93343021]\n",
      " [35.91636428]\n",
      " [14.90258026]\n",
      " [64.93539936]\n",
      " [13.90192388]\n",
      " [86.94983976]\n",
      " [68.93802488]\n",
      " [88.95115252]\n",
      " [50.92621001]\n",
      " [88.95115252]\n",
      " [26.91045685]\n",
      " [96.95640358]\n",
      " [57.93080468]\n",
      " [78.9445887 ]\n",
      " [20.90651855]\n",
      " [92.95377805]\n",
      " [26.91045685]\n",
      " [98.95771634]\n",
      " [30.91308237]\n",
      " [32.91439514]\n",
      " [79.94524508]\n",
      " [27.91111323]\n",
      " [46.92358448]\n",
      " [52.92752277]\n",
      " [68.93802488]\n",
      " [27.91111323]\n",
      " [32.91439514]\n",
      " [90.95246528]\n",
      " [70.93933765]\n",
      " [49.92555363]\n",
      " [75.94261956]\n",
      " [ 3.89536006]\n",
      " [36.91702066]\n",
      " [69.93868127]\n",
      " [67.9373685 ]\n",
      " [39.91898981]\n",
      " [34.9157079 ]\n",
      " [93.95443443]\n",
      " [87.95049614]\n",
      " [51.92686639]\n",
      " [30.91308237]\n",
      " [58.93146107]\n",
      " [-0.10726546]\n",
      " [38.91833343]\n",
      " [63.93474297]\n",
      " [68.93802488]\n",
      " [56.9301483 ]\n",
      " [12.9012675 ]\n",
      " [71.93999403]\n",
      " [75.94261956]\n",
      " [60.93277383]\n",
      " [81.94655785]\n",
      " [17.90454941]\n",
      " [40.91964619]\n",
      " [49.92555363]\n",
      " [54.92883554]\n",
      " [12.9012675 ]\n",
      " [45.9229281 ]\n",
      " [12.9012675 ]\n",
      " [78.9445887 ]\n",
      " [52.92752277]\n",
      " [14.90258026]\n",
      " [27.91111323]\n",
      " [80.94590147]\n",
      " [68.93802488]\n",
      " [51.92686639]\n",
      " [83.94787061]\n",
      " [67.9373685 ]\n",
      " [26.91045685]\n",
      " [55.92949192]\n",
      " [47.92424086]\n",
      " [39.91898981]\n",
      " [38.91833343]\n",
      " [81.94655785]\n",
      " [99.95837272]\n",
      " [58.93146107]\n",
      " [42.92095896]\n",
      " [66.93671212]\n",
      " [37.91767705]\n",
      " [62.93408659]\n",
      " [90.95246528]\n",
      " [59.93211745]\n",
      " [13.90192388]\n",
      " [20.90651855]\n",
      " [86.94983976]\n",
      " [72.94065041]\n",
      " [31.91373876]\n",
      " [ 1.8940473 ]\n",
      " [81.94655785]\n",
      " [18.90520579]\n",
      " [73.94130679]\n",
      " [41.92030257]\n",
      " [11.90061112]\n",
      " [ 0.89339092]\n",
      " [89.9518089 ]\n",
      " [88.95115252]\n",
      " [-0.10726546]\n",
      " [40.91964619]\n",
      " [15.90323665]\n",
      " [93.95443443]\n",
      " [96.95640358]\n",
      " [65.93605574]\n",
      " [23.9084877 ]\n",
      " [16.90389303]\n",
      " [89.9518089 ]\n",
      " [12.9012675 ]\n",
      " [-0.10726546]\n",
      " [63.93474297]\n",
      " [95.95574719]\n",
      " [97.95705996]\n",
      " [11.90061112]\n",
      " [40.91964619]\n",
      " [46.92358448]\n",
      " [77.94393232]\n",
      " [19.90586217]\n",
      " [88.95115252]\n",
      " [28.91176961]\n",
      " [63.93474297]\n",
      " [74.94196317]\n",
      " [11.90061112]\n",
      " [24.90914408]\n",
      " [27.91111323]\n",
      " [29.91242599]\n",
      " [64.93539936]\n",
      " [58.93146107]\n",
      " [63.93474297]\n",
      " [52.92752277]\n",
      " [70.93933765]\n",
      " [96.95640358]\n",
      " [72.94065041]\n",
      " [ 8.89864197]\n",
      " [11.90061112]\n",
      " [62.93408659]\n",
      " [98.95771634]\n",
      " [59.93211745]\n",
      " [34.9157079 ]\n",
      " [ 1.8940473 ]\n",
      " [59.93211745]\n",
      " [31.91373876]\n",
      " [93.95443443]\n",
      " [83.94787061]\n",
      " [62.93408659]\n",
      " [21.90717494]\n",
      " [80.94590147]\n",
      " [92.95377805]\n",
      " [32.91439514]\n",
      " [ 6.89732921]\n",
      " [41.92030257]\n",
      " [45.9229281 ]\n",
      " [53.92817916]\n",
      " [15.90323665]\n",
      " [48.92489725]\n",
      " [42.92095896]\n",
      " [94.95509081]\n",
      " [65.93605574]\n",
      " [20.90651855]\n",
      " [34.9157079 ]\n",
      " [79.94524508]\n",
      " [36.91702066]\n",
      " [53.92817916]\n",
      " [55.92949192]\n",
      " [ 0.89339092]\n",
      " [31.91373876]\n",
      " [57.93080468]\n",
      " [31.91373876]\n",
      " [45.9229281 ]\n",
      " [71.93999403]\n",
      " [16.90389303]\n",
      " [96.95640358]\n",
      " [92.95377805]\n",
      " [90.95246528]\n",
      " [36.91702066]\n",
      " [ 3.89536006]\n",
      " [53.92817916]\n",
      " [50.92621001]\n",
      " [26.91045685]\n",
      " [45.9229281 ]\n",
      " [91.95312167]\n",
      " [72.94065041]\n",
      " [76.94327594]\n",
      " [90.95246528]\n",
      " [60.93277383]\n",
      " [98.95771634]\n",
      " [ 3.89536006]\n",
      " [71.93999403]\n",
      " [18.90520579]\n",
      " [56.9301483 ]\n",
      " [77.94393232]\n",
      " [25.90980046]\n",
      " [73.94130679]\n",
      " [89.9518089 ]\n",
      " [65.93605574]\n",
      " [12.9012675 ]\n",
      " [39.91898981]\n",
      " [76.94327594]\n",
      " [66.93671212]\n",
      " [74.94196317]\n",
      " [22.90783132]\n",
      " [44.92227172]\n",
      " [58.93146107]\n",
      " [43.92161534]\n",
      " [22.90783132]\n",
      " [54.92883554]\n",
      " [54.92883554]\n",
      " [94.95509081]\n",
      " [11.90061112]\n",
      " [ 3.89536006]\n",
      " [ 6.89732921]\n",
      " [99.95837272]\n",
      " [47.92424086]\n",
      " [41.92030257]\n",
      " [95.95574719]\n",
      " [38.91833343]\n",
      " [99.95837272]\n",
      " [86.94983976]\n",
      " [13.90192388]\n",
      " [13.90192388]\n",
      " [36.91702066]\n",
      " [ 4.89601644]\n",
      " [87.95049614]\n",
      " [90.95246528]\n",
      " [64.93539936]\n",
      " [73.94130679]\n",
      " [55.92949192]\n",
      " [15.90323665]\n",
      " [ 4.89601644]\n",
      " [27.91111323]\n",
      " [91.95312167]\n",
      " [45.9229281 ]\n",
      " [53.92817916]\n",
      " [38.91833343]\n",
      " [43.92161534]\n",
      " [30.91308237]\n",
      " [67.9373685 ]\n",
      " [85.94918338]\n",
      " [89.9518089 ]\n",
      " [37.91767705]\n",
      " [20.90651855]\n",
      " [94.95509081]\n",
      " [55.92949192]\n",
      " [59.93211745]\n",
      " [64.93539936]\n",
      " [77.94393232]\n",
      " [88.95115252]\n",
      " [ 5.89667283]\n",
      " [66.93671212]\n",
      " [35.91636428]\n",
      " [15.90323665]\n",
      " [99.95837272]\n",
      " [44.92227172]\n",
      " [72.94065041]\n",
      " [56.9301483 ]\n",
      " [19.90586217]\n",
      " [75.94261956]\n",
      " [33.91505152]\n",
      " [54.92883554]\n",
      " [71.93999403]\n",
      " [54.92883554]\n",
      " [ 7.89798559]\n",
      " [55.92949192]\n",
      " [71.93999403]\n",
      " [57.93080468]\n",
      " [ 5.89667283]\n",
      " [95.95574719]\n",
      " [22.90783132]\n",
      " [57.93080468]\n",
      " [22.90783132]\n",
      " [18.90520579]\n",
      " [24.90914408]\n",
      " [63.93474297]\n",
      " [20.90651855]\n",
      " [58.93146107]\n",
      " [18.90520579]\n",
      " [15.90323665]\n",
      " [41.92030257]\n",
      " [42.92095896]\n",
      " [60.93277383]\n",
      " [91.95312167]\n",
      " [10.89995474]\n",
      " [40.91964619]\n",
      " [ 0.89339092]\n",
      " [ 7.89798559]\n",
      " [70.93933765]\n",
      " [45.9229281 ]\n",
      " [54.92883554]\n",
      " [61.93343021]\n",
      " [46.92358448]]\n"
     ]
    }
   ],
   "source": [
    "testdata = pd.read_csv(\"test.csv\")\n",
    "x_test = pd.DataFrame(testdata['x']); y_test = pd.DataFrame(testdata['y'])\n",
    "y_pred = l_reg.predict(x_test)\n",
    "\n",
    "print(y_pred)"
   ]
  },
  {
   "cell_type": "markdown",
   "metadata": {},
   "source": [
    "### Calculating R-squared (R2) score.\n",
    "calculating the R² score for the model's predictions on the test data"
   ]
  },
  {
   "cell_type": "code",
   "execution_count": 16,
   "metadata": {},
   "outputs": [
    {
     "name": "stdout",
     "output_type": "stream",
     "text": [
      "98.88014444327563 %\n"
     ]
    }
   ],
   "source": [
    "r2_score = l_reg.score(x_test,y_test)\n",
    "print(r2_score*100,'%') #multiply the R² score by 100 to convert it into a percentage"
   ]
  },
  {
   "cell_type": "markdown",
   "metadata": {},
   "source": [
    "# Activities\n",
    "## 1. Implement the normal equations method and compare the result with the previous results"
   ]
  },
  {
   "cell_type": "code",
   "execution_count": null,
   "metadata": {},
   "outputs": [],
   "source": []
  },
  {
   "cell_type": "markdown",
   "metadata": {},
   "source": [
    "## 2. Update the gradient descent method for multiple input features"
   ]
  },
  {
   "cell_type": "code",
   "execution_count": null,
   "metadata": {},
   "outputs": [],
   "source": []
  }
 ],
 "metadata": {
  "kernelspec": {
   "display_name": "Python 3 (ipykernel)",
   "language": "python",
   "name": "python3"
  },
  "language_info": {
   "codemirror_mode": {
    "name": "ipython",
    "version": 3
   },
   "file_extension": ".py",
   "mimetype": "text/x-python",
   "name": "python",
   "nbconvert_exporter": "python",
   "pygments_lexer": "ipython3",
   "version": "3.9.12"
  }
 },
 "nbformat": 4,
 "nbformat_minor": 2
}
