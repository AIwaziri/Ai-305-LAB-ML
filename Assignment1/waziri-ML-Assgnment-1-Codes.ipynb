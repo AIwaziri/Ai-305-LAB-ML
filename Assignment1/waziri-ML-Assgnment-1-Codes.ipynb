{
 "cells": [
  {
   "metadata": {
    "ExecuteTime": {
     "end_time": "2024-10-15T09:05:38.148685Z",
     "start_time": "2024-10-15T09:05:38.146956Z"
    }
   },
   "cell_type": "code",
   "source": "import numpy as np",
   "id": "7800d8ab6e37f771",
   "outputs": [],
   "execution_count": 1
  },
  {
   "metadata": {},
   "cell_type": "markdown",
   "source": "### Question 1 ",
   "id": "9aa5a0eec084bdfa"
  },
  {
   "metadata": {
    "ExecuteTime": {
     "end_time": "2024-10-15T09:08:39.449324Z",
     "start_time": "2024-10-15T09:08:39.446476Z"
    }
   },
   "cell_type": "code",
   "source": [
    "# Define the coefficients\n",
    "beta_0 = 50    # Intercept\n",
    "beta_1 = 20    # Coefficient for GPA\n",
    "beta_2 = 0.07  # Coefficient for IQ\n",
    "beta_3 = 35    # Coefficient for Level (College)\n",
    "beta_4 = 0.01  # Coefficient for product of GPA and IQ\n",
    "beta_5 = -10   # Coefficient for product of GPA and Level"
   ],
   "id": "5d93a54b01cc2f5d",
   "outputs": [],
   "execution_count": 2
  },
  {
   "metadata": {
    "ExecuteTime": {
     "end_time": "2024-10-15T09:08:43.388318Z",
     "start_time": "2024-10-15T09:08:43.385497Z"
    }
   },
   "cell_type": "code",
   "source": [
    "# Function to predict salary\n",
    "def predict_salary(gpa, iq, level):\n",
    "    # Calculate the products\n",
    "    x4 = gpa * iq           # Product of GPA and IQ\n",
    "    x5 = gpa * level        # Product of GPA and Level (1 for College, 0 for High School)\n",
    "    \n",
    "    # Calculate the salary using the linear model\n",
    "    salary = (beta_0 + \n",
    "              beta_1 * gpa + \n",
    "              beta_2 * iq + \n",
    "              beta_3 * level + \n",
    "              beta_4 * x4 + \n",
    "              beta_5 * x5)\n",
    "    \n",
    "    return salary\n",
    "\n"
   ],
   "id": "de14842e9c6f5477",
   "outputs": [],
   "execution_count": 3
  },
  {
   "metadata": {
    "ExecuteTime": {
     "end_time": "2024-10-15T09:10:45.541182Z",
     "start_time": "2024-10-15T09:10:45.539313Z"
    }
   },
   "cell_type": "code",
   "source": [
    "# Example values\n",
    "gpa = 3.0      # GPA\n",
    "iq = 50       # IQ\n",
    "level = 1      # Level (1 for College, 0 for High School)"
   ],
   "id": "f3f6bb064c5ae20c",
   "outputs": [],
   "execution_count": 8
  },
  {
   "metadata": {
    "ExecuteTime": {
     "end_time": "2024-10-15T09:10:46.112316Z",
     "start_time": "2024-10-15T09:10:46.109712Z"
    }
   },
   "cell_type": "code",
   "source": [
    "# Predict the salary\n",
    "predicted_salary = predict_salary(gpa, iq, level)\n",
    "print(f\"The predicted salary of a college graduate with a GPA of {gpa} and an IQ of {iq} is: ${predicted_salary * 1000:.2f}\")"
   ],
   "id": "4cca830a2f4499e",
   "outputs": [
    {
     "name": "stdout",
     "output_type": "stream",
     "text": [
      "The predicted salary of a college graduate with a GPA of 3.0 and an IQ of 50 is: $120000.00\n"
     ]
    }
   ],
   "execution_count": 9
  },
  {
   "metadata": {},
   "cell_type": "code",
   "outputs": [],
   "execution_count": null,
   "source": "",
   "id": "a721c73ed987eb3"
  },
  {
   "metadata": {},
   "cell_type": "markdown",
   "source": "### Question 2",
   "id": "f9504eb4ee294326"
  },
  {
   "metadata": {
    "ExecuteTime": {
     "end_time": "2024-10-15T09:21:34.440969Z",
     "start_time": "2024-10-15T09:21:34.435568Z"
    }
   },
   "cell_type": "code",
   "source": [
    "#Question 2a\n",
    "\n",
    "# Define coefficients\n",
    "beta_0 = -6\n",
    "beta_1 = 0.05\n",
    "beta_2 = 1"
   ],
   "id": "9c7450885cf67c0e",
   "outputs": [],
   "execution_count": 11
  },
  {
   "metadata": {
    "ExecuteTime": {
     "end_time": "2024-10-15T09:21:42.584227Z",
     "start_time": "2024-10-15T09:21:42.581601Z"
    }
   },
   "cell_type": "code",
   "source": [
    "# Function to calculate probability of receiving an A\n",
    "def probability_of_A(hours_studied, gpa):\n",
    "    linear_predictor = beta_0 + beta_1 * hours_studied + beta_2 * gpa\n",
    "    probability = 1 / (1 + np.exp(-linear_predictor))\n",
    "    return probability"
   ],
   "id": "b376a4ad373aa518",
   "outputs": [],
   "execution_count": 12
  },
  {
   "metadata": {
    "ExecuteTime": {
     "end_time": "2024-10-15T09:22:21.117907Z",
     "start_time": "2024-10-15T09:22:21.115364Z"
    }
   },
   "cell_type": "code",
   "source": [
    "hours_studied_a = 40\n",
    "gpa_a = 3.5\n",
    "prob_a = probability_of_A(hours_studied_a, gpa_a)\n",
    "print(f\"The estimated probability of getting an A is: {prob_a:.4f}\")"
   ],
   "id": "540a7d3f55bc93f8",
   "outputs": [
    {
     "name": "stdout",
     "output_type": "stream",
     "text": [
      "The estimated probability of getting an A is: 0.3775\n"
     ]
    }
   ],
   "execution_count": 14
  },
  {
   "metadata": {
    "ExecuteTime": {
     "end_time": "2024-10-15T09:25:33.437444Z",
     "start_time": "2024-10-15T09:25:33.434352Z"
    }
   },
   "cell_type": "code",
   "source": [
    "#Question 2b\n",
    "\n",
    "# Part b: Calculate hours needed for 50% chance\n",
    "def hours_for_50_percent_chance(gpa):\n",
    "    hours_needed = (-beta_0 - beta_2 * gpa) / beta_1\n",
    "    return hours_needed"
   ],
   "id": "1d925809e96b9e80",
   "outputs": [],
   "execution_count": 17
  },
  {
   "metadata": {
    "ExecuteTime": {
     "end_time": "2024-10-15T09:25:33.906569Z",
     "start_time": "2024-10-15T09:25:33.904518Z"
    }
   },
   "cell_type": "code",
   "source": [
    "# Calculate hours needed for a GPA of 3.5\n",
    "gpa_b = 3.5\n",
    "hours_needed_b = hours_for_50_percent_chance(gpa_b)\n",
    "print(f\"Hours needed to have a 50% chance of getting an A: {hours_needed_b:.2f} hours\")"
   ],
   "id": "8a3b197cd947f112",
   "outputs": [
    {
     "name": "stdout",
     "output_type": "stream",
     "text": [
      "Hours needed to have a 50% chance of getting an A: 50.00 hours\n"
     ]
    }
   ],
   "execution_count": 18
  },
  {
   "metadata": {},
   "cell_type": "markdown",
   "source": "### Question 3\n",
   "id": "f119080635c95820"
  },
  {
   "metadata": {
    "ExecuteTime": {
     "end_time": "2024-10-15T10:08:25.746184Z",
     "start_time": "2024-10-15T10:08:25.741213Z"
    }
   },
   "cell_type": "code",
   "source": [
    "import pandas as pd\n",
    "\n",
    "# Create the dataset\n",
    "data = {\n",
    "    'Color': ['Red', 'Blue', 'Green', 'Red', 'Green','Green', 'Blue', 'Blue', 'Red', 'Blue',  'Green', 'Red', 'Green','Green'],\n",
    "    'Type': ['SUV', 'Minivan', 'Car', 'Minivan', 'Car', 'SUV', 'SUV', 'Car', 'SUV', 'Car', 'SUV', 'Car','SUV', 'Minivan'],\n",
    "    'Doors': [2, 4, 4, 4, 2, 4, 2, 2, 2, 4, 4, 2, 2, 4],\n",
    "    'Tires': ['Whitewall', 'Whitewall', 'Whitewall', 'Blackwall', 'Blackwall', 'Blackwall', 'Blackwall', 'Whitewall', 'Blackwall', 'Blackwall', 'Whitewall', 'Blackwall', 'Blackwall', 'Whitewall'],\n",
    "    'Class': ['+', '-','-','-', '+', '-', '-', '+', '-', '-', '+','+', '-','-']\n",
    "}\n",
    "\n",
    "df = pd.DataFrame(data)\n",
    "print(df)"
   ],
   "id": "dbd13c77bc79e4da",
   "outputs": [
    {
     "name": "stdout",
     "output_type": "stream",
     "text": [
      "    Color     Type  Doors      Tires Class\n",
      "0     Red      SUV      2  Whitewall     +\n",
      "1    Blue  Minivan      4  Whitewall     -\n",
      "2   Green      Car      4  Whitewall     -\n",
      "3     Red  Minivan      4  Blackwall     -\n",
      "4   Green      Car      2  Blackwall     +\n",
      "5   Green      SUV      4  Blackwall     -\n",
      "6    Blue      SUV      2  Blackwall     -\n",
      "7    Blue      Car      2  Whitewall     +\n",
      "8     Red      SUV      2  Blackwall     -\n",
      "9    Blue      Car      4  Blackwall     -\n",
      "10  Green      SUV      4  Whitewall     +\n",
      "11    Red      Car      2  Blackwall     +\n",
      "12  Green      SUV      2  Blackwall     -\n",
      "13  Green  Minivan      4  Whitewall     -\n"
     ]
    }
   ],
   "execution_count": 33
  },
  {
   "metadata": {
    "ExecuteTime": {
     "end_time": "2024-10-15T10:08:26.792326Z",
     "start_time": "2024-10-15T10:08:26.789998Z"
    }
   },
   "cell_type": "code",
   "source": [
    "from sklearn.tree import DecisionTreeClassifier, export_text\n",
    "from sklearn.metrics import accuracy_score"
   ],
   "id": "a3bbc146e4c29dca",
   "outputs": [],
   "execution_count": 34
  },
  {
   "metadata": {
    "ExecuteTime": {
     "end_time": "2024-10-15T10:08:28.041333Z",
     "start_time": "2024-10-15T10:08:28.035968Z"
    }
   },
   "cell_type": "code",
   "source": [
    "# Prepare the data\n",
    "X = df[['Color', 'Type', 'Doors', 'Tires']]\n",
    "y = df['Class']\n",
    "\n",
    "# Convert categorical variables to numeric using one-hot encoding\n",
    "X_encoded = pd.get_dummies(X)"
   ],
   "id": "462c8de6be51d0d9",
   "outputs": [],
   "execution_count": 35
  },
  {
   "metadata": {
    "ExecuteTime": {
     "end_time": "2024-10-15T10:08:32.338919Z",
     "start_time": "2024-10-15T10:08:32.335729Z"
    }
   },
   "cell_type": "code",
   "source": [
    "# Create a decision tree classifier with different criteria\n",
    "tree_entropy = DecisionTreeClassifier(criterion='entropy', random_state=0)\n",
    "tree_gini = DecisionTreeClassifier(criterion='gini', random_state=0)"
   ],
   "id": "5b9ce48240947831",
   "outputs": [],
   "execution_count": 36
  },
  {
   "metadata": {
    "ExecuteTime": {
     "end_time": "2024-10-15T10:08:39.010596Z",
     "start_time": "2024-10-15T10:08:39.001723Z"
    }
   },
   "cell_type": "code",
   "source": [
    "# Fit the models\n",
    "tree_entropy.fit(X_encoded, y)\n",
    "tree_gini.fit(X_encoded, y)"
   ],
   "id": "e80a6eb6d2a40c0e",
   "outputs": [
    {
     "data": {
      "text/plain": [
       "DecisionTreeClassifier(random_state=0)"
      ],
      "text/html": [
       "<style>#sk-container-id-2 {\n",
       "  /* Definition of color scheme common for light and dark mode */\n",
       "  --sklearn-color-text: black;\n",
       "  --sklearn-color-line: gray;\n",
       "  /* Definition of color scheme for unfitted estimators */\n",
       "  --sklearn-color-unfitted-level-0: #fff5e6;\n",
       "  --sklearn-color-unfitted-level-1: #f6e4d2;\n",
       "  --sklearn-color-unfitted-level-2: #ffe0b3;\n",
       "  --sklearn-color-unfitted-level-3: chocolate;\n",
       "  /* Definition of color scheme for fitted estimators */\n",
       "  --sklearn-color-fitted-level-0: #f0f8ff;\n",
       "  --sklearn-color-fitted-level-1: #d4ebff;\n",
       "  --sklearn-color-fitted-level-2: #b3dbfd;\n",
       "  --sklearn-color-fitted-level-3: cornflowerblue;\n",
       "\n",
       "  /* Specific color for light theme */\n",
       "  --sklearn-color-text-on-default-background: var(--sg-text-color, var(--theme-code-foreground, var(--jp-content-font-color1, black)));\n",
       "  --sklearn-color-background: var(--sg-background-color, var(--theme-background, var(--jp-layout-color0, white)));\n",
       "  --sklearn-color-border-box: var(--sg-text-color, var(--theme-code-foreground, var(--jp-content-font-color1, black)));\n",
       "  --sklearn-color-icon: #696969;\n",
       "\n",
       "  @media (prefers-color-scheme: dark) {\n",
       "    /* Redefinition of color scheme for dark theme */\n",
       "    --sklearn-color-text-on-default-background: var(--sg-text-color, var(--theme-code-foreground, var(--jp-content-font-color1, white)));\n",
       "    --sklearn-color-background: var(--sg-background-color, var(--theme-background, var(--jp-layout-color0, #111)));\n",
       "    --sklearn-color-border-box: var(--sg-text-color, var(--theme-code-foreground, var(--jp-content-font-color1, white)));\n",
       "    --sklearn-color-icon: #878787;\n",
       "  }\n",
       "}\n",
       "\n",
       "#sk-container-id-2 {\n",
       "  color: var(--sklearn-color-text);\n",
       "}\n",
       "\n",
       "#sk-container-id-2 pre {\n",
       "  padding: 0;\n",
       "}\n",
       "\n",
       "#sk-container-id-2 input.sk-hidden--visually {\n",
       "  border: 0;\n",
       "  clip: rect(1px 1px 1px 1px);\n",
       "  clip: rect(1px, 1px, 1px, 1px);\n",
       "  height: 1px;\n",
       "  margin: -1px;\n",
       "  overflow: hidden;\n",
       "  padding: 0;\n",
       "  position: absolute;\n",
       "  width: 1px;\n",
       "}\n",
       "\n",
       "#sk-container-id-2 div.sk-dashed-wrapped {\n",
       "  border: 1px dashed var(--sklearn-color-line);\n",
       "  margin: 0 0.4em 0.5em 0.4em;\n",
       "  box-sizing: border-box;\n",
       "  padding-bottom: 0.4em;\n",
       "  background-color: var(--sklearn-color-background);\n",
       "}\n",
       "\n",
       "#sk-container-id-2 div.sk-container {\n",
       "  /* jupyter's `normalize.less` sets `[hidden] { display: none; }`\n",
       "     but bootstrap.min.css set `[hidden] { display: none !important; }`\n",
       "     so we also need the `!important` here to be able to override the\n",
       "     default hidden behavior on the sphinx rendered scikit-learn.org.\n",
       "     See: https://github.com/scikit-learn/scikit-learn/issues/21755 */\n",
       "  display: inline-block !important;\n",
       "  position: relative;\n",
       "}\n",
       "\n",
       "#sk-container-id-2 div.sk-text-repr-fallback {\n",
       "  display: none;\n",
       "}\n",
       "\n",
       "div.sk-parallel-item,\n",
       "div.sk-serial,\n",
       "div.sk-item {\n",
       "  /* draw centered vertical line to link estimators */\n",
       "  background-image: linear-gradient(var(--sklearn-color-text-on-default-background), var(--sklearn-color-text-on-default-background));\n",
       "  background-size: 2px 100%;\n",
       "  background-repeat: no-repeat;\n",
       "  background-position: center center;\n",
       "}\n",
       "\n",
       "/* Parallel-specific style estimator block */\n",
       "\n",
       "#sk-container-id-2 div.sk-parallel-item::after {\n",
       "  content: \"\";\n",
       "  width: 100%;\n",
       "  border-bottom: 2px solid var(--sklearn-color-text-on-default-background);\n",
       "  flex-grow: 1;\n",
       "}\n",
       "\n",
       "#sk-container-id-2 div.sk-parallel {\n",
       "  display: flex;\n",
       "  align-items: stretch;\n",
       "  justify-content: center;\n",
       "  background-color: var(--sklearn-color-background);\n",
       "  position: relative;\n",
       "}\n",
       "\n",
       "#sk-container-id-2 div.sk-parallel-item {\n",
       "  display: flex;\n",
       "  flex-direction: column;\n",
       "}\n",
       "\n",
       "#sk-container-id-2 div.sk-parallel-item:first-child::after {\n",
       "  align-self: flex-end;\n",
       "  width: 50%;\n",
       "}\n",
       "\n",
       "#sk-container-id-2 div.sk-parallel-item:last-child::after {\n",
       "  align-self: flex-start;\n",
       "  width: 50%;\n",
       "}\n",
       "\n",
       "#sk-container-id-2 div.sk-parallel-item:only-child::after {\n",
       "  width: 0;\n",
       "}\n",
       "\n",
       "/* Serial-specific style estimator block */\n",
       "\n",
       "#sk-container-id-2 div.sk-serial {\n",
       "  display: flex;\n",
       "  flex-direction: column;\n",
       "  align-items: center;\n",
       "  background-color: var(--sklearn-color-background);\n",
       "  padding-right: 1em;\n",
       "  padding-left: 1em;\n",
       "}\n",
       "\n",
       "\n",
       "/* Toggleable style: style used for estimator/Pipeline/ColumnTransformer box that is\n",
       "clickable and can be expanded/collapsed.\n",
       "- Pipeline and ColumnTransformer use this feature and define the default style\n",
       "- Estimators will overwrite some part of the style using the `sk-estimator` class\n",
       "*/\n",
       "\n",
       "/* Pipeline and ColumnTransformer style (default) */\n",
       "\n",
       "#sk-container-id-2 div.sk-toggleable {\n",
       "  /* Default theme specific background. It is overwritten whether we have a\n",
       "  specific estimator or a Pipeline/ColumnTransformer */\n",
       "  background-color: var(--sklearn-color-background);\n",
       "}\n",
       "\n",
       "/* Toggleable label */\n",
       "#sk-container-id-2 label.sk-toggleable__label {\n",
       "  cursor: pointer;\n",
       "  display: block;\n",
       "  width: 100%;\n",
       "  margin-bottom: 0;\n",
       "  padding: 0.5em;\n",
       "  box-sizing: border-box;\n",
       "  text-align: center;\n",
       "}\n",
       "\n",
       "#sk-container-id-2 label.sk-toggleable__label-arrow:before {\n",
       "  /* Arrow on the left of the label */\n",
       "  content: \"▸\";\n",
       "  float: left;\n",
       "  margin-right: 0.25em;\n",
       "  color: var(--sklearn-color-icon);\n",
       "}\n",
       "\n",
       "#sk-container-id-2 label.sk-toggleable__label-arrow:hover:before {\n",
       "  color: var(--sklearn-color-text);\n",
       "}\n",
       "\n",
       "/* Toggleable content - dropdown */\n",
       "\n",
       "#sk-container-id-2 div.sk-toggleable__content {\n",
       "  max-height: 0;\n",
       "  max-width: 0;\n",
       "  overflow: hidden;\n",
       "  text-align: left;\n",
       "  /* unfitted */\n",
       "  background-color: var(--sklearn-color-unfitted-level-0);\n",
       "}\n",
       "\n",
       "#sk-container-id-2 div.sk-toggleable__content.fitted {\n",
       "  /* fitted */\n",
       "  background-color: var(--sklearn-color-fitted-level-0);\n",
       "}\n",
       "\n",
       "#sk-container-id-2 div.sk-toggleable__content pre {\n",
       "  margin: 0.2em;\n",
       "  border-radius: 0.25em;\n",
       "  color: var(--sklearn-color-text);\n",
       "  /* unfitted */\n",
       "  background-color: var(--sklearn-color-unfitted-level-0);\n",
       "}\n",
       "\n",
       "#sk-container-id-2 div.sk-toggleable__content.fitted pre {\n",
       "  /* unfitted */\n",
       "  background-color: var(--sklearn-color-fitted-level-0);\n",
       "}\n",
       "\n",
       "#sk-container-id-2 input.sk-toggleable__control:checked~div.sk-toggleable__content {\n",
       "  /* Expand drop-down */\n",
       "  max-height: 200px;\n",
       "  max-width: 100%;\n",
       "  overflow: auto;\n",
       "}\n",
       "\n",
       "#sk-container-id-2 input.sk-toggleable__control:checked~label.sk-toggleable__label-arrow:before {\n",
       "  content: \"▾\";\n",
       "}\n",
       "\n",
       "/* Pipeline/ColumnTransformer-specific style */\n",
       "\n",
       "#sk-container-id-2 div.sk-label input.sk-toggleable__control:checked~label.sk-toggleable__label {\n",
       "  color: var(--sklearn-color-text);\n",
       "  background-color: var(--sklearn-color-unfitted-level-2);\n",
       "}\n",
       "\n",
       "#sk-container-id-2 div.sk-label.fitted input.sk-toggleable__control:checked~label.sk-toggleable__label {\n",
       "  background-color: var(--sklearn-color-fitted-level-2);\n",
       "}\n",
       "\n",
       "/* Estimator-specific style */\n",
       "\n",
       "/* Colorize estimator box */\n",
       "#sk-container-id-2 div.sk-estimator input.sk-toggleable__control:checked~label.sk-toggleable__label {\n",
       "  /* unfitted */\n",
       "  background-color: var(--sklearn-color-unfitted-level-2);\n",
       "}\n",
       "\n",
       "#sk-container-id-2 div.sk-estimator.fitted input.sk-toggleable__control:checked~label.sk-toggleable__label {\n",
       "  /* fitted */\n",
       "  background-color: var(--sklearn-color-fitted-level-2);\n",
       "}\n",
       "\n",
       "#sk-container-id-2 div.sk-label label.sk-toggleable__label,\n",
       "#sk-container-id-2 div.sk-label label {\n",
       "  /* The background is the default theme color */\n",
       "  color: var(--sklearn-color-text-on-default-background);\n",
       "}\n",
       "\n",
       "/* On hover, darken the color of the background */\n",
       "#sk-container-id-2 div.sk-label:hover label.sk-toggleable__label {\n",
       "  color: var(--sklearn-color-text);\n",
       "  background-color: var(--sklearn-color-unfitted-level-2);\n",
       "}\n",
       "\n",
       "/* Label box, darken color on hover, fitted */\n",
       "#sk-container-id-2 div.sk-label.fitted:hover label.sk-toggleable__label.fitted {\n",
       "  color: var(--sklearn-color-text);\n",
       "  background-color: var(--sklearn-color-fitted-level-2);\n",
       "}\n",
       "\n",
       "/* Estimator label */\n",
       "\n",
       "#sk-container-id-2 div.sk-label label {\n",
       "  font-family: monospace;\n",
       "  font-weight: bold;\n",
       "  display: inline-block;\n",
       "  line-height: 1.2em;\n",
       "}\n",
       "\n",
       "#sk-container-id-2 div.sk-label-container {\n",
       "  text-align: center;\n",
       "}\n",
       "\n",
       "/* Estimator-specific */\n",
       "#sk-container-id-2 div.sk-estimator {\n",
       "  font-family: monospace;\n",
       "  border: 1px dotted var(--sklearn-color-border-box);\n",
       "  border-radius: 0.25em;\n",
       "  box-sizing: border-box;\n",
       "  margin-bottom: 0.5em;\n",
       "  /* unfitted */\n",
       "  background-color: var(--sklearn-color-unfitted-level-0);\n",
       "}\n",
       "\n",
       "#sk-container-id-2 div.sk-estimator.fitted {\n",
       "  /* fitted */\n",
       "  background-color: var(--sklearn-color-fitted-level-0);\n",
       "}\n",
       "\n",
       "/* on hover */\n",
       "#sk-container-id-2 div.sk-estimator:hover {\n",
       "  /* unfitted */\n",
       "  background-color: var(--sklearn-color-unfitted-level-2);\n",
       "}\n",
       "\n",
       "#sk-container-id-2 div.sk-estimator.fitted:hover {\n",
       "  /* fitted */\n",
       "  background-color: var(--sklearn-color-fitted-level-2);\n",
       "}\n",
       "\n",
       "/* Specification for estimator info (e.g. \"i\" and \"?\") */\n",
       "\n",
       "/* Common style for \"i\" and \"?\" */\n",
       "\n",
       ".sk-estimator-doc-link,\n",
       "a:link.sk-estimator-doc-link,\n",
       "a:visited.sk-estimator-doc-link {\n",
       "  float: right;\n",
       "  font-size: smaller;\n",
       "  line-height: 1em;\n",
       "  font-family: monospace;\n",
       "  background-color: var(--sklearn-color-background);\n",
       "  border-radius: 1em;\n",
       "  height: 1em;\n",
       "  width: 1em;\n",
       "  text-decoration: none !important;\n",
       "  margin-left: 1ex;\n",
       "  /* unfitted */\n",
       "  border: var(--sklearn-color-unfitted-level-1) 1pt solid;\n",
       "  color: var(--sklearn-color-unfitted-level-1);\n",
       "}\n",
       "\n",
       ".sk-estimator-doc-link.fitted,\n",
       "a:link.sk-estimator-doc-link.fitted,\n",
       "a:visited.sk-estimator-doc-link.fitted {\n",
       "  /* fitted */\n",
       "  border: var(--sklearn-color-fitted-level-1) 1pt solid;\n",
       "  color: var(--sklearn-color-fitted-level-1);\n",
       "}\n",
       "\n",
       "/* On hover */\n",
       "div.sk-estimator:hover .sk-estimator-doc-link:hover,\n",
       ".sk-estimator-doc-link:hover,\n",
       "div.sk-label-container:hover .sk-estimator-doc-link:hover,\n",
       ".sk-estimator-doc-link:hover {\n",
       "  /* unfitted */\n",
       "  background-color: var(--sklearn-color-unfitted-level-3);\n",
       "  color: var(--sklearn-color-background);\n",
       "  text-decoration: none;\n",
       "}\n",
       "\n",
       "div.sk-estimator.fitted:hover .sk-estimator-doc-link.fitted:hover,\n",
       ".sk-estimator-doc-link.fitted:hover,\n",
       "div.sk-label-container:hover .sk-estimator-doc-link.fitted:hover,\n",
       ".sk-estimator-doc-link.fitted:hover {\n",
       "  /* fitted */\n",
       "  background-color: var(--sklearn-color-fitted-level-3);\n",
       "  color: var(--sklearn-color-background);\n",
       "  text-decoration: none;\n",
       "}\n",
       "\n",
       "/* Span, style for the box shown on hovering the info icon */\n",
       ".sk-estimator-doc-link span {\n",
       "  display: none;\n",
       "  z-index: 9999;\n",
       "  position: relative;\n",
       "  font-weight: normal;\n",
       "  right: .2ex;\n",
       "  padding: .5ex;\n",
       "  margin: .5ex;\n",
       "  width: min-content;\n",
       "  min-width: 20ex;\n",
       "  max-width: 50ex;\n",
       "  color: var(--sklearn-color-text);\n",
       "  box-shadow: 2pt 2pt 4pt #999;\n",
       "  /* unfitted */\n",
       "  background: var(--sklearn-color-unfitted-level-0);\n",
       "  border: .5pt solid var(--sklearn-color-unfitted-level-3);\n",
       "}\n",
       "\n",
       ".sk-estimator-doc-link.fitted span {\n",
       "  /* fitted */\n",
       "  background: var(--sklearn-color-fitted-level-0);\n",
       "  border: var(--sklearn-color-fitted-level-3);\n",
       "}\n",
       "\n",
       ".sk-estimator-doc-link:hover span {\n",
       "  display: block;\n",
       "}\n",
       "\n",
       "/* \"?\"-specific style due to the `<a>` HTML tag */\n",
       "\n",
       "#sk-container-id-2 a.estimator_doc_link {\n",
       "  float: right;\n",
       "  font-size: 1rem;\n",
       "  line-height: 1em;\n",
       "  font-family: monospace;\n",
       "  background-color: var(--sklearn-color-background);\n",
       "  border-radius: 1rem;\n",
       "  height: 1rem;\n",
       "  width: 1rem;\n",
       "  text-decoration: none;\n",
       "  /* unfitted */\n",
       "  color: var(--sklearn-color-unfitted-level-1);\n",
       "  border: var(--sklearn-color-unfitted-level-1) 1pt solid;\n",
       "}\n",
       "\n",
       "#sk-container-id-2 a.estimator_doc_link.fitted {\n",
       "  /* fitted */\n",
       "  border: var(--sklearn-color-fitted-level-1) 1pt solid;\n",
       "  color: var(--sklearn-color-fitted-level-1);\n",
       "}\n",
       "\n",
       "/* On hover */\n",
       "#sk-container-id-2 a.estimator_doc_link:hover {\n",
       "  /* unfitted */\n",
       "  background-color: var(--sklearn-color-unfitted-level-3);\n",
       "  color: var(--sklearn-color-background);\n",
       "  text-decoration: none;\n",
       "}\n",
       "\n",
       "#sk-container-id-2 a.estimator_doc_link.fitted:hover {\n",
       "  /* fitted */\n",
       "  background-color: var(--sklearn-color-fitted-level-3);\n",
       "}\n",
       "</style><div id=\"sk-container-id-2\" class=\"sk-top-container\"><div class=\"sk-text-repr-fallback\"><pre>DecisionTreeClassifier(random_state=0)</pre><b>In a Jupyter environment, please rerun this cell to show the HTML representation or trust the notebook. <br />On GitHub, the HTML representation is unable to render, please try loading this page with nbviewer.org.</b></div><div class=\"sk-container\" hidden><div class=\"sk-item\"><div class=\"sk-estimator fitted sk-toggleable\"><input class=\"sk-toggleable__control sk-hidden--visually\" id=\"sk-estimator-id-2\" type=\"checkbox\" checked><label for=\"sk-estimator-id-2\" class=\"sk-toggleable__label fitted sk-toggleable__label-arrow fitted\">&nbsp;&nbsp;DecisionTreeClassifier<a class=\"sk-estimator-doc-link fitted\" rel=\"noreferrer\" target=\"_blank\" href=\"https://scikit-learn.org/1.4/modules/generated/sklearn.tree.DecisionTreeClassifier.html\">?<span>Documentation for DecisionTreeClassifier</span></a><span class=\"sk-estimator-doc-link fitted\">i<span>Fitted</span></span></label><div class=\"sk-toggleable__content fitted\"><pre>DecisionTreeClassifier(random_state=0)</pre></div> </div></div></div></div>"
      ]
     },
     "execution_count": 37,
     "metadata": {},
     "output_type": "execute_result"
    }
   ],
   "execution_count": 37
  },
  {
   "metadata": {
    "ExecuteTime": {
     "end_time": "2024-10-15T10:08:40.079587Z",
     "start_time": "2024-10-15T10:08:40.076512Z"
    }
   },
   "cell_type": "code",
   "source": [
    "# Print the tree structures\n",
    "print(\"Decision Tree with Entropy:\")\n",
    "print(export_text(tree_entropy, feature_names=list(X_encoded.columns)))"
   ],
   "id": "ee5ee3500b039312",
   "outputs": [
    {
     "name": "stdout",
     "output_type": "stream",
     "text": [
      "Decision Tree with Entropy:\n",
      "|--- Type_Minivan <= 0.50\n",
      "|   |--- Tires_Blackwall <= 0.50\n",
      "|   |   |--- Color_Green <= 0.50\n",
      "|   |   |   |--- class: +\n",
      "|   |   |--- Color_Green >  0.50\n",
      "|   |   |   |--- Type_Car <= 0.50\n",
      "|   |   |   |   |--- class: +\n",
      "|   |   |   |--- Type_Car >  0.50\n",
      "|   |   |   |   |--- class: -\n",
      "|   |--- Tires_Blackwall >  0.50\n",
      "|   |   |--- Type_Car <= 0.50\n",
      "|   |   |   |--- class: -\n",
      "|   |   |--- Type_Car >  0.50\n",
      "|   |   |   |--- Color_Blue <= 0.50\n",
      "|   |   |   |   |--- class: +\n",
      "|   |   |   |--- Color_Blue >  0.50\n",
      "|   |   |   |   |--- class: -\n",
      "|--- Type_Minivan >  0.50\n",
      "|   |--- class: -\n",
      "\n"
     ]
    }
   ],
   "execution_count": 38
  },
  {
   "metadata": {
    "ExecuteTime": {
     "end_time": "2024-10-15T10:08:41.474957Z",
     "start_time": "2024-10-15T10:08:41.472200Z"
    }
   },
   "cell_type": "code",
   "source": [
    "print(\"\\nDecision Tree with Gini Impurity:\")\n",
    "print(export_text(tree_gini, feature_names=list(X_encoded.columns)))"
   ],
   "id": "ac12c2fb16535c3a",
   "outputs": [
    {
     "name": "stdout",
     "output_type": "stream",
     "text": [
      "\n",
      "Decision Tree with Gini Impurity:\n",
      "|--- Doors <= 3.00\n",
      "|   |--- Type_SUV <= 0.50\n",
      "|   |   |--- class: +\n",
      "|   |--- Type_SUV >  0.50\n",
      "|   |   |--- Tires_Whitewall <= 0.50\n",
      "|   |   |   |--- class: -\n",
      "|   |   |--- Tires_Whitewall >  0.50\n",
      "|   |   |   |--- class: +\n",
      "|--- Doors >  3.00\n",
      "|   |--- Type_SUV <= 0.50\n",
      "|   |   |--- class: -\n",
      "|   |--- Type_SUV >  0.50\n",
      "|   |   |--- Tires_Whitewall <= 0.50\n",
      "|   |   |   |--- class: -\n",
      "|   |   |--- Tires_Whitewall >  0.50\n",
      "|   |   |   |--- class: +\n",
      "\n"
     ]
    }
   ],
   "execution_count": 39
  },
  {
   "metadata": {
    "ExecuteTime": {
     "end_time": "2024-10-15T10:08:42.656048Z",
     "start_time": "2024-10-15T10:08:42.651804Z"
    }
   },
   "cell_type": "code",
   "source": [
    "# Make predictions\n",
    "y_pred_entropy = tree_entropy.predict(X_encoded)\n",
    "y_pred_gini = tree_gini.predict(X_encoded)"
   ],
   "id": "6160c439c0a88900",
   "outputs": [],
   "execution_count": 40
  },
  {
   "metadata": {
    "ExecuteTime": {
     "end_time": "2024-10-15T10:08:48.041844Z",
     "start_time": "2024-10-15T10:08:48.037645Z"
    }
   },
   "cell_type": "code",
   "source": [
    "# Calculate accuracy\n",
    "accuracy_entropy = accuracy_score(y, y_pred_entropy)\n",
    "accuracy_gini = accuracy_score(y, y_pred_gini)\n",
    "\n",
    "print(f\"\\nAccuracy (Entropy): {accuracy_entropy:.2f}\")\n",
    "print(f\"Accuracy (Gini): {accuracy_gini:.2f}\")"
   ],
   "id": "c3da21cb63681e32",
   "outputs": [
    {
     "name": "stdout",
     "output_type": "stream",
     "text": [
      "\n",
      "Accuracy (Entropy): 1.00\n",
      "Accuracy (Gini): 1.00\n"
     ]
    }
   ],
   "execution_count": 41
  },
  {
   "metadata": {
    "ExecuteTime": {
     "end_time": "2024-10-15T10:10:00.115952Z",
     "start_time": "2024-10-15T10:10:00.113400Z"
    }
   },
   "cell_type": "code",
   "source": [
    "# Calculate misclassification rate\n",
    "misclassification_rate_entropy = 1 - accuracy_entropy\n",
    "misclassification_rate_gini = 1 - accuracy_gini\n",
    "\n",
    "print(f\"Misclassification Rate (Entropy): {misclassification_rate_entropy:.2f}\")\n",
    "print(f\"Misclassification Rate (Gini): {misclassification_rate_gini:.2f}\")"
   ],
   "id": "14bd9b86c8a0ff47",
   "outputs": [
    {
     "name": "stdout",
     "output_type": "stream",
     "text": [
      "Misclassification Rate (Entropy): 0.00\n",
      "Misclassification Rate (Gini): 0.00\n"
     ]
    }
   ],
   "execution_count": 43
  },
  {
   "metadata": {
    "ExecuteTime": {
     "end_time": "2024-10-15T10:10:14.789418Z",
     "start_time": "2024-10-15T10:10:14.787681Z"
    }
   },
   "cell_type": "code",
   "source": "",
   "id": "2d73465628d28b",
   "outputs": [],
   "execution_count": null
  },
  {
   "metadata": {},
   "cell_type": "code",
   "outputs": [],
   "execution_count": null,
   "source": "",
   "id": "bd0da282fa37724b"
  }
 ],
 "metadata": {
  "kernelspec": {
   "display_name": "Python 3",
   "language": "python",
   "name": "python3"
  },
  "language_info": {
   "codemirror_mode": {
    "name": "ipython",
    "version": 2
   },
   "file_extension": ".py",
   "mimetype": "text/x-python",
   "name": "python",
   "nbconvert_exporter": "python",
   "pygments_lexer": "ipython2",
   "version": "2.7.6"
  }
 },
 "nbformat": 4,
 "nbformat_minor": 5
}
