{
 "cells": [
  {
   "cell_type": "code",
   "id": "22045506",
   "metadata": {
    "ExecuteTime": {
     "end_time": "2024-11-14T07:35:17.149046Z",
     "start_time": "2024-11-14T07:35:17.146577Z"
    }
   },
   "source": [
    "import numpy as np\n",
    "import pandas as pd\n",
    "import os\n",
    "from sklearn.preprocessing import StandardScaler\n",
    "from sklearn.model_selection import train_test_split\n",
    "from sklearn.utils import resample\n",
    "import matplotlib.pyplot as plt\n",
    "import seaborn as sns\n",
    "import torch\n",
    "import torch.nn as nn\n",
    "import torch.optim as optim\n",
    "from torch.utils.data import TensorDataset, DataLoader\n",
    "from sklearn.metrics import accuracy_score, precision_score, recall_score, f1_score, roc_auc_score"
   ],
   "outputs": [],
   "execution_count": 33
  },
  {
   "cell_type": "code",
   "id": "24fd7b31",
   "metadata": {
    "ExecuteTime": {
     "end_time": "2024-11-14T07:35:19.815709Z",
     "start_time": "2024-11-14T07:35:17.197747Z"
    }
   },
   "source": [
    "#loading data\n",
    "\n",
    "train_path = 'train-metadata.csv'\n",
    "test_path = 'test-metadata.csv'\n",
    "\n",
    "train_metadata = pd.read_csv(train_path)\n",
    "test_metadata = pd.read_csv(test_path)\n",
    "\n",
    "train_metadata"
   ],
   "outputs": [
    {
     "name": "stderr",
     "output_type": "stream",
     "text": [
      "/var/folders/pj/k78tnlfd70x2r6r2m3x__yq40000gn/T/ipykernel_12287/3402004967.py:6: DtypeWarning: Columns (51,52) have mixed types. Specify dtype option on import or set low_memory=False.\n",
      "  train_metadata = pd.read_csv(train_path)\n"
     ]
    },
    {
     "data": {
      "text/plain": [
       "             isic_id  target  patient_id  age_approx     sex  \\\n",
       "0       ISIC_0015670       0  IP_1235828        60.0    male   \n",
       "1       ISIC_0015845       0  IP_8170065        60.0    male   \n",
       "2       ISIC_0015864       0  IP_6724798        60.0    male   \n",
       "3       ISIC_0015902       0  IP_4111386        65.0    male   \n",
       "4       ISIC_0024200       0  IP_8313778        55.0    male   \n",
       "...              ...     ...         ...         ...     ...   \n",
       "401054  ISIC_9999937       0  IP_1140263        70.0    male   \n",
       "401055  ISIC_9999951       0  IP_5678181        60.0    male   \n",
       "401056  ISIC_9999960       0  IP_0076153        65.0  female   \n",
       "401057  ISIC_9999964       0  IP_5231513        30.0  female   \n",
       "401058  ISIC_9999967       0  IP_6426047        50.0    male   \n",
       "\n",
       "       anatom_site_general  clin_size_long_diam_mm          image_type  \\\n",
       "0          lower extremity                    3.04  TBP tile: close-up   \n",
       "1                head/neck                    1.10  TBP tile: close-up   \n",
       "2          posterior torso                    3.40  TBP tile: close-up   \n",
       "3           anterior torso                    3.22  TBP tile: close-up   \n",
       "4           anterior torso                    2.73  TBP tile: close-up   \n",
       "...                    ...                     ...                 ...   \n",
       "401054      anterior torso                    6.80  TBP tile: close-up   \n",
       "401055     posterior torso                    3.11  TBP tile: close-up   \n",
       "401056      anterior torso                    2.05  TBP tile: close-up   \n",
       "401057      anterior torso                    2.80  TBP tile: close-up   \n",
       "401058     lower extremity                    3.30  TBP tile: close-up   \n",
       "\n",
       "       tbp_tile_type   tbp_lv_A  ...   lesion_id  iddx_full  iddx_1  iddx_2  \\\n",
       "0          3D: white  20.244422  ...         NaN     Benign  Benign     NaN   \n",
       "1          3D: white  31.712570  ...  IL_6727506     Benign  Benign     NaN   \n",
       "2             3D: XP  22.575830  ...         NaN     Benign  Benign     NaN   \n",
       "3             3D: XP  14.242329  ...         NaN     Benign  Benign     NaN   \n",
       "4          3D: white  24.725520  ...         NaN     Benign  Benign     NaN   \n",
       "...              ...        ...  ...         ...        ...     ...     ...   \n",
       "401054        3D: XP  22.574335  ...  IL_9520694     Benign  Benign     NaN   \n",
       "401055     3D: white  19.977640  ...         NaN     Benign  Benign     NaN   \n",
       "401056        3D: XP  17.332567  ...  IL_9852274     Benign  Benign     NaN   \n",
       "401057        3D: XP  22.288570  ...         NaN     Benign  Benign     NaN   \n",
       "401058        3D: XP  16.792900  ...         NaN     Benign  Benign     NaN   \n",
       "\n",
       "        iddx_3  iddx_4  iddx_5  mel_mitotic_index  mel_thick_mm  \\\n",
       "0          NaN     NaN     NaN                NaN           NaN   \n",
       "1          NaN     NaN     NaN                NaN           NaN   \n",
       "2          NaN     NaN     NaN                NaN           NaN   \n",
       "3          NaN     NaN     NaN                NaN           NaN   \n",
       "4          NaN     NaN     NaN                NaN           NaN   \n",
       "...        ...     ...     ...                ...           ...   \n",
       "401054     NaN     NaN     NaN                NaN           NaN   \n",
       "401055     NaN     NaN     NaN                NaN           NaN   \n",
       "401056     NaN     NaN     NaN                NaN           NaN   \n",
       "401057     NaN     NaN     NaN                NaN           NaN   \n",
       "401058     NaN     NaN     NaN                NaN           NaN   \n",
       "\n",
       "        tbp_lv_dnn_lesion_confidence  \n",
       "0                          97.517282  \n",
       "1                           3.141455  \n",
       "2                          99.804040  \n",
       "3                          99.989998  \n",
       "4                          70.442510  \n",
       "...                              ...  \n",
       "401054                     99.999988  \n",
       "401055                     99.999820  \n",
       "401056                     99.999416  \n",
       "401057                    100.000000  \n",
       "401058                     99.999960  \n",
       "\n",
       "[401059 rows x 55 columns]"
      ],
      "text/html": [
       "<div>\n",
       "<style scoped>\n",
       "    .dataframe tbody tr th:only-of-type {\n",
       "        vertical-align: middle;\n",
       "    }\n",
       "\n",
       "    .dataframe tbody tr th {\n",
       "        vertical-align: top;\n",
       "    }\n",
       "\n",
       "    .dataframe thead th {\n",
       "        text-align: right;\n",
       "    }\n",
       "</style>\n",
       "<table border=\"1\" class=\"dataframe\">\n",
       "  <thead>\n",
       "    <tr style=\"text-align: right;\">\n",
       "      <th></th>\n",
       "      <th>isic_id</th>\n",
       "      <th>target</th>\n",
       "      <th>patient_id</th>\n",
       "      <th>age_approx</th>\n",
       "      <th>sex</th>\n",
       "      <th>anatom_site_general</th>\n",
       "      <th>clin_size_long_diam_mm</th>\n",
       "      <th>image_type</th>\n",
       "      <th>tbp_tile_type</th>\n",
       "      <th>tbp_lv_A</th>\n",
       "      <th>...</th>\n",
       "      <th>lesion_id</th>\n",
       "      <th>iddx_full</th>\n",
       "      <th>iddx_1</th>\n",
       "      <th>iddx_2</th>\n",
       "      <th>iddx_3</th>\n",
       "      <th>iddx_4</th>\n",
       "      <th>iddx_5</th>\n",
       "      <th>mel_mitotic_index</th>\n",
       "      <th>mel_thick_mm</th>\n",
       "      <th>tbp_lv_dnn_lesion_confidence</th>\n",
       "    </tr>\n",
       "  </thead>\n",
       "  <tbody>\n",
       "    <tr>\n",
       "      <th>0</th>\n",
       "      <td>ISIC_0015670</td>\n",
       "      <td>0</td>\n",
       "      <td>IP_1235828</td>\n",
       "      <td>60.0</td>\n",
       "      <td>male</td>\n",
       "      <td>lower extremity</td>\n",
       "      <td>3.04</td>\n",
       "      <td>TBP tile: close-up</td>\n",
       "      <td>3D: white</td>\n",
       "      <td>20.244422</td>\n",
       "      <td>...</td>\n",
       "      <td>NaN</td>\n",
       "      <td>Benign</td>\n",
       "      <td>Benign</td>\n",
       "      <td>NaN</td>\n",
       "      <td>NaN</td>\n",
       "      <td>NaN</td>\n",
       "      <td>NaN</td>\n",
       "      <td>NaN</td>\n",
       "      <td>NaN</td>\n",
       "      <td>97.517282</td>\n",
       "    </tr>\n",
       "    <tr>\n",
       "      <th>1</th>\n",
       "      <td>ISIC_0015845</td>\n",
       "      <td>0</td>\n",
       "      <td>IP_8170065</td>\n",
       "      <td>60.0</td>\n",
       "      <td>male</td>\n",
       "      <td>head/neck</td>\n",
       "      <td>1.10</td>\n",
       "      <td>TBP tile: close-up</td>\n",
       "      <td>3D: white</td>\n",
       "      <td>31.712570</td>\n",
       "      <td>...</td>\n",
       "      <td>IL_6727506</td>\n",
       "      <td>Benign</td>\n",
       "      <td>Benign</td>\n",
       "      <td>NaN</td>\n",
       "      <td>NaN</td>\n",
       "      <td>NaN</td>\n",
       "      <td>NaN</td>\n",
       "      <td>NaN</td>\n",
       "      <td>NaN</td>\n",
       "      <td>3.141455</td>\n",
       "    </tr>\n",
       "    <tr>\n",
       "      <th>2</th>\n",
       "      <td>ISIC_0015864</td>\n",
       "      <td>0</td>\n",
       "      <td>IP_6724798</td>\n",
       "      <td>60.0</td>\n",
       "      <td>male</td>\n",
       "      <td>posterior torso</td>\n",
       "      <td>3.40</td>\n",
       "      <td>TBP tile: close-up</td>\n",
       "      <td>3D: XP</td>\n",
       "      <td>22.575830</td>\n",
       "      <td>...</td>\n",
       "      <td>NaN</td>\n",
       "      <td>Benign</td>\n",
       "      <td>Benign</td>\n",
       "      <td>NaN</td>\n",
       "      <td>NaN</td>\n",
       "      <td>NaN</td>\n",
       "      <td>NaN</td>\n",
       "      <td>NaN</td>\n",
       "      <td>NaN</td>\n",
       "      <td>99.804040</td>\n",
       "    </tr>\n",
       "    <tr>\n",
       "      <th>3</th>\n",
       "      <td>ISIC_0015902</td>\n",
       "      <td>0</td>\n",
       "      <td>IP_4111386</td>\n",
       "      <td>65.0</td>\n",
       "      <td>male</td>\n",
       "      <td>anterior torso</td>\n",
       "      <td>3.22</td>\n",
       "      <td>TBP tile: close-up</td>\n",
       "      <td>3D: XP</td>\n",
       "      <td>14.242329</td>\n",
       "      <td>...</td>\n",
       "      <td>NaN</td>\n",
       "      <td>Benign</td>\n",
       "      <td>Benign</td>\n",
       "      <td>NaN</td>\n",
       "      <td>NaN</td>\n",
       "      <td>NaN</td>\n",
       "      <td>NaN</td>\n",
       "      <td>NaN</td>\n",
       "      <td>NaN</td>\n",
       "      <td>99.989998</td>\n",
       "    </tr>\n",
       "    <tr>\n",
       "      <th>4</th>\n",
       "      <td>ISIC_0024200</td>\n",
       "      <td>0</td>\n",
       "      <td>IP_8313778</td>\n",
       "      <td>55.0</td>\n",
       "      <td>male</td>\n",
       "      <td>anterior torso</td>\n",
       "      <td>2.73</td>\n",
       "      <td>TBP tile: close-up</td>\n",
       "      <td>3D: white</td>\n",
       "      <td>24.725520</td>\n",
       "      <td>...</td>\n",
       "      <td>NaN</td>\n",
       "      <td>Benign</td>\n",
       "      <td>Benign</td>\n",
       "      <td>NaN</td>\n",
       "      <td>NaN</td>\n",
       "      <td>NaN</td>\n",
       "      <td>NaN</td>\n",
       "      <td>NaN</td>\n",
       "      <td>NaN</td>\n",
       "      <td>70.442510</td>\n",
       "    </tr>\n",
       "    <tr>\n",
       "      <th>...</th>\n",
       "      <td>...</td>\n",
       "      <td>...</td>\n",
       "      <td>...</td>\n",
       "      <td>...</td>\n",
       "      <td>...</td>\n",
       "      <td>...</td>\n",
       "      <td>...</td>\n",
       "      <td>...</td>\n",
       "      <td>...</td>\n",
       "      <td>...</td>\n",
       "      <td>...</td>\n",
       "      <td>...</td>\n",
       "      <td>...</td>\n",
       "      <td>...</td>\n",
       "      <td>...</td>\n",
       "      <td>...</td>\n",
       "      <td>...</td>\n",
       "      <td>...</td>\n",
       "      <td>...</td>\n",
       "      <td>...</td>\n",
       "      <td>...</td>\n",
       "    </tr>\n",
       "    <tr>\n",
       "      <th>401054</th>\n",
       "      <td>ISIC_9999937</td>\n",
       "      <td>0</td>\n",
       "      <td>IP_1140263</td>\n",
       "      <td>70.0</td>\n",
       "      <td>male</td>\n",
       "      <td>anterior torso</td>\n",
       "      <td>6.80</td>\n",
       "      <td>TBP tile: close-up</td>\n",
       "      <td>3D: XP</td>\n",
       "      <td>22.574335</td>\n",
       "      <td>...</td>\n",
       "      <td>IL_9520694</td>\n",
       "      <td>Benign</td>\n",
       "      <td>Benign</td>\n",
       "      <td>NaN</td>\n",
       "      <td>NaN</td>\n",
       "      <td>NaN</td>\n",
       "      <td>NaN</td>\n",
       "      <td>NaN</td>\n",
       "      <td>NaN</td>\n",
       "      <td>99.999988</td>\n",
       "    </tr>\n",
       "    <tr>\n",
       "      <th>401055</th>\n",
       "      <td>ISIC_9999951</td>\n",
       "      <td>0</td>\n",
       "      <td>IP_5678181</td>\n",
       "      <td>60.0</td>\n",
       "      <td>male</td>\n",
       "      <td>posterior torso</td>\n",
       "      <td>3.11</td>\n",
       "      <td>TBP tile: close-up</td>\n",
       "      <td>3D: white</td>\n",
       "      <td>19.977640</td>\n",
       "      <td>...</td>\n",
       "      <td>NaN</td>\n",
       "      <td>Benign</td>\n",
       "      <td>Benign</td>\n",
       "      <td>NaN</td>\n",
       "      <td>NaN</td>\n",
       "      <td>NaN</td>\n",
       "      <td>NaN</td>\n",
       "      <td>NaN</td>\n",
       "      <td>NaN</td>\n",
       "      <td>99.999820</td>\n",
       "    </tr>\n",
       "    <tr>\n",
       "      <th>401056</th>\n",
       "      <td>ISIC_9999960</td>\n",
       "      <td>0</td>\n",
       "      <td>IP_0076153</td>\n",
       "      <td>65.0</td>\n",
       "      <td>female</td>\n",
       "      <td>anterior torso</td>\n",
       "      <td>2.05</td>\n",
       "      <td>TBP tile: close-up</td>\n",
       "      <td>3D: XP</td>\n",
       "      <td>17.332567</td>\n",
       "      <td>...</td>\n",
       "      <td>IL_9852274</td>\n",
       "      <td>Benign</td>\n",
       "      <td>Benign</td>\n",
       "      <td>NaN</td>\n",
       "      <td>NaN</td>\n",
       "      <td>NaN</td>\n",
       "      <td>NaN</td>\n",
       "      <td>NaN</td>\n",
       "      <td>NaN</td>\n",
       "      <td>99.999416</td>\n",
       "    </tr>\n",
       "    <tr>\n",
       "      <th>401057</th>\n",
       "      <td>ISIC_9999964</td>\n",
       "      <td>0</td>\n",
       "      <td>IP_5231513</td>\n",
       "      <td>30.0</td>\n",
       "      <td>female</td>\n",
       "      <td>anterior torso</td>\n",
       "      <td>2.80</td>\n",
       "      <td>TBP tile: close-up</td>\n",
       "      <td>3D: XP</td>\n",
       "      <td>22.288570</td>\n",
       "      <td>...</td>\n",
       "      <td>NaN</td>\n",
       "      <td>Benign</td>\n",
       "      <td>Benign</td>\n",
       "      <td>NaN</td>\n",
       "      <td>NaN</td>\n",
       "      <td>NaN</td>\n",
       "      <td>NaN</td>\n",
       "      <td>NaN</td>\n",
       "      <td>NaN</td>\n",
       "      <td>100.000000</td>\n",
       "    </tr>\n",
       "    <tr>\n",
       "      <th>401058</th>\n",
       "      <td>ISIC_9999967</td>\n",
       "      <td>0</td>\n",
       "      <td>IP_6426047</td>\n",
       "      <td>50.0</td>\n",
       "      <td>male</td>\n",
       "      <td>lower extremity</td>\n",
       "      <td>3.30</td>\n",
       "      <td>TBP tile: close-up</td>\n",
       "      <td>3D: XP</td>\n",
       "      <td>16.792900</td>\n",
       "      <td>...</td>\n",
       "      <td>NaN</td>\n",
       "      <td>Benign</td>\n",
       "      <td>Benign</td>\n",
       "      <td>NaN</td>\n",
       "      <td>NaN</td>\n",
       "      <td>NaN</td>\n",
       "      <td>NaN</td>\n",
       "      <td>NaN</td>\n",
       "      <td>NaN</td>\n",
       "      <td>99.999960</td>\n",
       "    </tr>\n",
       "  </tbody>\n",
       "</table>\n",
       "<p>401059 rows × 55 columns</p>\n",
       "</div>"
      ]
     },
     "execution_count": 34,
     "metadata": {},
     "output_type": "execute_result"
    }
   ],
   "execution_count": 34
  },
  {
   "cell_type": "code",
   "id": "ed13b6c3",
   "metadata": {
    "ExecuteTime": {
     "end_time": "2024-11-14T07:35:20.017893Z",
     "start_time": "2024-11-14T07:35:19.848077Z"
    }
   },
   "source": [
    "#data preperation part, checking for null values\n",
    "\n",
    "missing_val = train_metadata.isnull().sum()\n",
    "print(\"Missing Values:\\n\", missing_val)"
   ],
   "outputs": [
    {
     "name": "stdout",
     "output_type": "stream",
     "text": [
      "Missing Values:\n",
      " isic_id                              0\n",
      "target                               0\n",
      "patient_id                           0\n",
      "age_approx                        2798\n",
      "sex                              11517\n",
      "anatom_site_general               5756\n",
      "clin_size_long_diam_mm               0\n",
      "image_type                           0\n",
      "tbp_tile_type                        0\n",
      "tbp_lv_A                             0\n",
      "tbp_lv_Aext                          0\n",
      "tbp_lv_B                             0\n",
      "tbp_lv_Bext                          0\n",
      "tbp_lv_C                             0\n",
      "tbp_lv_Cext                          0\n",
      "tbp_lv_H                             0\n",
      "tbp_lv_Hext                          0\n",
      "tbp_lv_L                             0\n",
      "tbp_lv_Lext                          0\n",
      "tbp_lv_areaMM2                       0\n",
      "tbp_lv_area_perim_ratio              0\n",
      "tbp_lv_color_std_mean                0\n",
      "tbp_lv_deltaA                        0\n",
      "tbp_lv_deltaB                        0\n",
      "tbp_lv_deltaL                        0\n",
      "tbp_lv_deltaLB                       0\n",
      "tbp_lv_deltaLBnorm                   0\n",
      "tbp_lv_eccentricity                  0\n",
      "tbp_lv_location                      0\n",
      "tbp_lv_location_simple               0\n",
      "tbp_lv_minorAxisMM                   0\n",
      "tbp_lv_nevi_confidence               0\n",
      "tbp_lv_norm_border                   0\n",
      "tbp_lv_norm_color                    0\n",
      "tbp_lv_perimeterMM                   0\n",
      "tbp_lv_radial_color_std_max          0\n",
      "tbp_lv_stdL                          0\n",
      "tbp_lv_stdLExt                       0\n",
      "tbp_lv_symm_2axis                    0\n",
      "tbp_lv_symm_2axis_angle              0\n",
      "tbp_lv_x                             0\n",
      "tbp_lv_y                             0\n",
      "tbp_lv_z                             0\n",
      "attribution                          0\n",
      "copyright_license                    0\n",
      "lesion_id                       379001\n",
      "iddx_full                            0\n",
      "iddx_1                               0\n",
      "iddx_2                          399991\n",
      "iddx_3                          399994\n",
      "iddx_4                          400508\n",
      "iddx_5                          401058\n",
      "mel_mitotic_index               401006\n",
      "mel_thick_mm                    400996\n",
      "tbp_lv_dnn_lesion_confidence         0\n",
      "dtype: int64\n"
     ]
    }
   ],
   "execution_count": 35
  },
  {
   "cell_type": "code",
   "id": "77923864",
   "metadata": {
    "ExecuteTime": {
     "end_time": "2024-11-14T07:35:20.284657Z",
     "start_time": "2024-11-14T07:35:20.051572Z"
    }
   },
   "source": [
    "# list of columns we want to remove\n",
    "columns_to_remove = ['lesion_id', 'iddx_2', 'iddx_3', 'iddx_4', 'iddx_5', 'mel_mitotic_index', 'mel_thick_mm']\n",
    "\n",
    "#specify these columns\n",
    "train_metadata_cleaned = train_metadata.drop(columns=columns_to_remove, errors='ignore')\n",
    "\n",
    "# remove rows with 0 values\n",
    "train_metadata_cleaned_no_nulls = train_metadata_cleaned.dropna()"
   ],
   "outputs": [],
   "execution_count": 36
  },
  {
   "cell_type": "code",
   "id": "7e245217",
   "metadata": {
    "ExecuteTime": {
     "end_time": "2024-11-14T07:35:20.295942Z",
     "start_time": "2024-11-14T07:35:20.291448Z"
    }
   },
   "source": [
    "# showing the unique values in target = understand the distribution of data in that column\n",
    "train_metadata_cleaned_no_nulls['target'].value_counts()"
   ],
   "outputs": [
    {
     "data": {
      "text/plain": [
       "target\n",
       "0    381533\n",
       "1       381\n",
       "Name: count, dtype: int64"
      ]
     },
     "execution_count": 37,
     "metadata": {},
     "output_type": "execute_result"
    }
   ],
   "execution_count": 37
  },
  {
   "cell_type": "code",
   "id": "723b09c4",
   "metadata": {
    "ExecuteTime": {
     "end_time": "2024-11-14T07:35:20.428101Z",
     "start_time": "2024-11-14T07:35:20.358388Z"
    }
   },
   "source": [
    "# the data is imbalanced\n",
    "\n",
    "# separate the classes based on 'target' column\n",
    "class_0 = train_metadata_cleaned_no_nulls[train_metadata_cleaned_no_nulls['target'] == 0]\n",
    "class_1 = train_metadata_cleaned_no_nulls[train_metadata_cleaned_no_nulls['target'] == 1]\n",
    "\n",
    "# downsample class 0 to class 1\n",
    "class_0_downsampled = resample(class_0,\n",
    "                               replace=False,  # sample without replacement\n",
    "                               n_samples=len(class_1),  # match classes size\n",
    "                               random_state=42) \n",
    "\n",
    "# combine the downsampled majority class with the minority class\n",
    "balanced_data = pd.concat([class_0_downsampled, class_1])\n",
    "\n",
    "\n",
    "print(\"Shape of balanced data:\", balanced_data.shape)\n",
    "print(\"Distribution after balancing:\\n\", balanced_data['target'].value_counts())\n"
   ],
   "outputs": [
    {
     "name": "stdout",
     "output_type": "stream",
     "text": [
      "Shape of balanced data: (762, 48)\n",
      "Distribution after balancing:\n",
      " target\n",
      "0    381\n",
      "1    381\n",
      "Name: count, dtype: int64\n"
     ]
    }
   ],
   "execution_count": 38
  },
  {
   "metadata": {
    "ExecuteTime": {
     "end_time": "2024-11-14T07:35:20.451119Z",
     "start_time": "2024-11-14T07:35:20.448897Z"
    }
   },
   "cell_type": "code",
   "source": "train_metadata_balanced = balanced_data",
   "id": "f7552c3b",
   "outputs": [],
   "execution_count": 39
  },
  {
   "cell_type": "code",
   "id": "c0081d66",
   "metadata": {
    "ExecuteTime": {
     "end_time": "2024-11-14T07:35:20.823757Z",
     "start_time": "2024-11-14T07:35:20.458294Z"
    }
   },
   "source": [
    "# visualizing part\n",
    "\n",
    "# filter the data to focus on a specific subset of the data\n",
    "filtered_data_target_1 = train_metadata_balanced[train_metadata_balanced['target'] == 1]\n",
    "filtered_data_target_0 = train_metadata_balanced[train_metadata_balanced['target'] == 0]\n",
    "\n",
    "fig, axes = plt.subplots(1, 2, figsize=(12, 5))\n",
    "\n",
    "# plot for target 1 (malign cases)\n",
    "sns.violinplot(x='sex', y='age_approx', data=filtered_data_target_1, palette=['pink', 'blue'], ax=axes[0])\n",
    "axes[0].set_title('Age Approximation by Sex for Malign Cases')\n",
    "axes[0].set_xlabel('Sex')\n",
    "axes[0].set_ylabel('Age Approximation')\n",
    "\n",
    "# plot for target 0 (benign cases)\n",
    "sns.violinplot(x='sex', y='age_approx', data=filtered_data_target_0, palette=['pink', 'blue'], ax=axes[1])\n",
    "axes[1].set_title('Age Approximation by Sex for Benign Cases')\n",
    "axes[1].set_xlabel('Sex')\n",
    "axes[1].set_ylabel('Age Approximation')\n",
    "\n",
    "plt.tight_layout()\n",
    "plt.show()\n"
   ],
   "outputs": [
    {
     "name": "stderr",
     "output_type": "stream",
     "text": [
      "/var/folders/pj/k78tnlfd70x2r6r2m3x__yq40000gn/T/ipykernel_12287/734578827.py:10: FutureWarning: \n",
      "\n",
      "Passing `palette` without assigning `hue` is deprecated and will be removed in v0.14.0. Assign the `x` variable to `hue` and set `legend=False` for the same effect.\n",
      "\n",
      "  sns.violinplot(x='sex', y='age_approx', data=filtered_data_target_1, palette=['pink', 'blue'], ax=axes[0])\n",
      "/var/folders/pj/k78tnlfd70x2r6r2m3x__yq40000gn/T/ipykernel_12287/734578827.py:16: FutureWarning: \n",
      "\n",
      "Passing `palette` without assigning `hue` is deprecated and will be removed in v0.14.0. Assign the `x` variable to `hue` and set `legend=False` for the same effect.\n",
      "\n",
      "  sns.violinplot(x='sex', y='age_approx', data=filtered_data_target_0, palette=['pink', 'blue'], ax=axes[1])\n"
     ]
    },
    {
     "data": {
      "text/plain": [
       "<Figure size 1200x500 with 2 Axes>"
      ],
      "image/png": "[encoded data removed]"
     },
     "metadata": {},
     "output_type": "display_data"
    }
   ],
   "execution_count": 40
  },
  {
   "cell_type": "markdown",
   "id": "d3ae9267",
   "metadata": {},
   "source": [
    "### We can see from the violin plot that women are more likely than males to develop skin cancer."
   ]
  },
  {
   "cell_type": "code",
   "id": "86f41a50",
   "metadata": {
    "ExecuteTime": {
     "end_time": "2024-11-14T07:35:21.115325Z",
     "start_time": "2024-11-14T07:35:20.866433Z"
    }
   },
   "source": [
    "fig, axes1 = plt.subplots(1, 2, figsize=(15, 5))\n",
    "\n",
    "# malign cases (target=1)\n",
    "sns.histplot(filtered_data_target_1['age_approx'].dropna(), bins=20, color='green', ax=axes1[0])\n",
    "axes1[0].set_title('Age Distribution of Malign Patients')\n",
    "axes1[0].set_xlabel('Age Approximation')\n",
    "axes1[0].set_ylabel('Count')\n",
    "\n",
    "# benign cases (target=0)\n",
    "sns.histplot(filtered_data_target_0['age_approx'].dropna(), bins=20, color='orange', ax=axes1[1])\n",
    "axes1[1].set_title('Age Distribution of Benign Patients')\n",
    "axes1[1].set_xlabel('Age Approximation')\n",
    "axes1[1].set_ylabel('Count')\n",
    "\n",
    "\n",
    "plt.tight_layout()\n",
    "plt.show()\n"
   ],
   "outputs": [
    {
     "data": {
      "text/plain": [
       "<Figure size 1500x500 with 2 Axes>"
      ],
      "image/png": "[encoded data removed]"
     },
     "metadata": {},
     "output_type": "display_data"
    }
   ],
   "execution_count": 41
  },
  {
   "cell_type": "markdown",
   "id": "6a855cb6",
   "metadata": {},
   "source": [
    "### Benign are more widely distributed, but malignant cases are more concentrated between the ages of 50 and 70."
   ]
  },
  {
   "cell_type": "code",
   "id": "517d1b43",
   "metadata": {
    "ExecuteTime": {
     "end_time": "2024-11-14T07:35:21.265369Z",
     "start_time": "2024-11-14T07:35:21.155297Z"
    }
   },
   "source": [
    "sns.countplot(y='anatom_site_general', data=train_metadata_balanced, palette='pastel', order=train_metadata_balanced['anatom_site_general'].value_counts().index,\n",
    "              hue='target')  # separate target 0 and target 1\n",
    "\n",
    "plt.title('Distribution of Lesion Anatomical Sites by Target')\n",
    "plt.xlabel('Count')\n",
    "plt.ylabel('Anatomical Site')\n",
    "\n",
    "plt.show()"
   ],
   "outputs": [
    {
     "data": {
      "text/plain": [
       "<Figure size 640x480 with 1 Axes>"
      ],
      "image/png": "[encoded data removed]"
     },
     "metadata": {},
     "output_type": "display_data"
    }
   ],
   "execution_count": 42
  },
  {
   "cell_type": "markdown",
   "id": "2d95d4e2",
   "metadata": {},
   "source": [
    "###  Lesions are often found on the torso and lower limbs in benign cases, with less frequency on the head/neck. While malign cases has occurred everywhere almost the same way, even in the head/neck."
   ]
  },
  {
   "cell_type": "code",
   "id": "9e768e71",
   "metadata": {
    "ExecuteTime": {
     "end_time": "2024-11-14T07:35:21.449842Z",
     "start_time": "2024-11-14T07:35:21.306712Z"
    }
   },
   "source": [
    "sns.histplot(data=train_metadata_balanced, \n",
    "             x='clin_size_long_diam_mm',hue='target', bins=25, color='lightcoral',\n",
    "             edgecolor='black', multiple=\"stack\", palette=['purple', 'grey'])  # for easier comparison\n",
    "\n",
    "\n",
    "plt.title('Distribution of Clinical Size (Long Diameter) by Target')\n",
    "plt.xlabel('Clinical Size Long Diameter (mm)')\n",
    "plt.ylabel('Frequency')\n",
    "\n",
    "\n",
    "plt.show()"
   ],
   "outputs": [
    {
     "data": {
      "text/plain": [
       "<Figure size 640x480 with 1 Axes>"
      ],
      "image/png": "[encoded data removed]"
     },
     "metadata": {},
     "output_type": "display_data"
    }
   ],
   "execution_count": 43
  },
  {
   "cell_type": "markdown",
   "id": "f3befed8",
   "metadata": {},
   "source": [
    "### Lesions in Benign cases (Target 0) are primarily focused on smaller sizes, whereas Malign cases(Target 1) presents a more diverse size distribution."
   ]
  },
  {
   "metadata": {},
   "cell_type": "code",
   "outputs": [],
   "execution_count": null,
   "source": "",
   "id": "356066794b5fcfe"
  },
  {
   "metadata": {},
   "cell_type": "code",
   "outputs": [],
   "execution_count": null,
   "source": "",
   "id": "59be5eee8f1929eb"
  },
  {
   "metadata": {},
   "cell_type": "markdown",
   "source": "# model implimentation with CNN (Binary Image Classification) and DNN (fully connected Dense Neural Network)",
   "id": "ef6f108193ad6b5a"
  },
  {
   "metadata": {
    "ExecuteTime": {
     "end_time": "2024-11-14T07:37:21.297385Z",
     "start_time": "2024-11-14T07:37:21.294326Z"
    }
   },
   "cell_type": "code",
   "source": [
    "# Importing necessary libraries\n",
    "from tensorflow.keras.layers import Conv2D, MaxPooling2D, Flatten, Dense\n",
    "from sklearn.metrics import classification_report\n",
    "import numpy as np\n",
    "from tensorflow.keras.models import Sequential\n",
    "from tensorflow.keras.layers import Dense, Dropout\n",
    "from sklearn.model_selection import train_test_split\n",
    "from sklearn.preprocessing import StandardScaler\n",
    "import pandas as pd"
   ],
   "id": "948edad7df96d2fc",
   "outputs": [],
   "execution_count": 54
  },
  {
   "metadata": {
    "ExecuteTime": {
     "end_time": "2024-11-14T07:37:22.438330Z",
     "start_time": "2024-11-14T07:37:22.401076Z"
    }
   },
   "cell_type": "code",
   "source": [
    "data = train_metadata_balanced.dropna()  # Drop missing values if any\n",
    "data = pd.get_dummies(data)# Convert categorical variables to dummy/indicator variables because there is a non-numeric value in the features  that cannot be converted to a float.\n",
    "\n",
    "# Features and target\n",
    "X = data.drop(columns=['target'])\n",
    "y = data['target']\n",
    "X_train, X_test, y_train, y_test = train_test_split(X, y, test_size=0.2, random_state=42)# Split the data\n",
    "\n",
    "# Standardize the features\n",
    "scaler = StandardScaler()\n",
    "X_scaled = scaler.fit_transform(X)"
   ],
   "id": "965e430b926103cf",
   "outputs": [],
   "execution_count": 55
  },
  {
   "metadata": {},
   "cell_type": "markdown",
   "source": "### model implimentation with CNN (Binary Image Classification)\n",
   "id": "ed0e3e4148482af8"
  },
  {
   "metadata": {
    "ExecuteTime": {
     "end_time": "2024-11-14T07:37:37.258042Z",
     "start_time": "2024-11-14T07:37:37.234010Z"
    }
   },
   "cell_type": "code",
   "source": [
    "# Pad each sample to reach 1296 features\n",
    "X_padded = np.pad(X_scaled, ((0, 0), (0, 3)), 'constant')  # Pads each sample with 3 zeros\n",
    "\n",
    "# Reshape the padded data for CNN input\n",
    "num_samples = X_padded.shape[0]\n",
    "X_reshaped = X_padded.reshape(num_samples, 36, 36, 1)\n",
    "\n",
    "# Split the data into training and test sets\n",
    "X_train, X_test, y_train, y_test = train_test_split(X_reshaped, y, test_size=0.2, random_state=42)\n",
    "\n",
    "# Define the CNN model with updated input shape (36, 36, 1)\n",
    "model = Sequential([\n",
    "    Conv2D(32, (3, 3), activation='relu', input_shape=(36, 36, 1)),\n",
    "    MaxPooling2D((2, 2)),\n",
    "    Conv2D(64, (3, 3), activation='relu'),\n",
    "    MaxPooling2D((2, 2)),\n",
    "    Flatten(),\n",
    "    Dense(128, activation='relu'),\n",
    "    Dense(1, activation='sigmoid')  # Assuming binary classification\n",
    "])\n"
   ],
   "id": "8ed88d857c94f31",
   "outputs": [
    {
     "name": "stderr",
     "output_type": "stream",
     "text": [
      "/Library/Frameworks/Python.framework/Versions/3.12/lib/python3.12/site-packages/keras/src/layers/convolutional/base_conv.py:107: UserWarning: Do not pass an `input_shape`/`input_dim` argument to a layer. When using Sequential models, prefer using an `Input(shape)` object as the first layer in the model instead.\n",
      "  super().__init__(activity_regularizer=activity_regularizer, **kwargs)\n"
     ]
    }
   ],
   "execution_count": 57
  },
  {
   "metadata": {
    "ExecuteTime": {
     "end_time": "2024-11-14T07:37:38.523377Z",
     "start_time": "2024-11-14T07:37:38.516948Z"
    }
   },
   "cell_type": "code",
   "source": [
    "# Compile the model\n",
    "model.compile(optimizer='adam', loss='binary_crossentropy', metrics=['accuracy'])"
   ],
   "id": "cc0f8a90aa121723",
   "outputs": [],
   "execution_count": 58
  },
  {
   "metadata": {
    "ExecuteTime": {
     "end_time": "2024-11-14T07:37:41.745406Z",
     "start_time": "2024-11-14T07:37:39.229895Z"
    }
   },
   "cell_type": "code",
   "source": [
    "# Train the model\n",
    "model.fit(X_train, y_train, epochs=10, batch_size=32, validation_split=0.2)"
   ],
   "id": "7abcd7b666bbc050",
   "outputs": [
    {
     "name": "stdout",
     "output_type": "stream",
     "text": [
      "Epoch 1/10\n",
      "\u001B[1m16/16\u001B[0m \u001B[32m━━━━━━━━━━━━━━━━━━━━\u001B[0m\u001B[37m\u001B[0m \u001B[1m1s\u001B[0m 16ms/step - accuracy: 0.5113 - loss: 0.7518 - val_accuracy: 0.5164 - val_loss: 0.7292\n",
      "Epoch 2/10\n",
      "\u001B[1m16/16\u001B[0m \u001B[32m━━━━━━━━━━━━━━━━━━━━\u001B[0m\u001B[37m\u001B[0m \u001B[1m0s\u001B[0m 11ms/step - accuracy: 0.7510 - loss: 0.5554 - val_accuracy: 0.5492 - val_loss: 0.7050\n",
      "Epoch 3/10\n",
      "\u001B[1m16/16\u001B[0m \u001B[32m━━━━━━━━━━━━━━━━━━━━\u001B[0m\u001B[37m\u001B[0m \u001B[1m0s\u001B[0m 11ms/step - accuracy: 0.8419 - loss: 0.4453 - val_accuracy: 0.5656 - val_loss: 0.7361\n",
      "Epoch 4/10\n",
      "\u001B[1m16/16\u001B[0m \u001B[32m━━━━━━━━━━━━━━━━━━━━\u001B[0m\u001B[37m\u001B[0m \u001B[1m0s\u001B[0m 11ms/step - accuracy: 0.8949 - loss: 0.3145 - val_accuracy: 0.5246 - val_loss: 0.8917\n",
      "Epoch 5/10\n",
      "\u001B[1m16/16\u001B[0m \u001B[32m━━━━━━━━━━━━━━━━━━━━\u001B[0m\u001B[37m\u001B[0m \u001B[1m0s\u001B[0m 11ms/step - accuracy: 0.9416 - loss: 0.2005 - val_accuracy: 0.5574 - val_loss: 0.9209\n",
      "Epoch 6/10\n",
      "\u001B[1m16/16\u001B[0m \u001B[32m━━━━━━━━━━━━━━━━━━━━\u001B[0m\u001B[37m\u001B[0m \u001B[1m0s\u001B[0m 11ms/step - accuracy: 0.9713 - loss: 0.1349 - val_accuracy: 0.5328 - val_loss: 1.0397\n",
      "Epoch 7/10\n",
      "\u001B[1m16/16\u001B[0m \u001B[32m━━━━━━━━━━━━━━━━━━━━\u001B[0m\u001B[37m\u001B[0m \u001B[1m0s\u001B[0m 11ms/step - accuracy: 0.9894 - loss: 0.0690 - val_accuracy: 0.5492 - val_loss: 1.2368\n",
      "Epoch 8/10\n",
      "\u001B[1m16/16\u001B[0m \u001B[32m━━━━━━━━━━━━━━━━━━━━\u001B[0m\u001B[37m\u001B[0m \u001B[1m0s\u001B[0m 11ms/step - accuracy: 0.9902 - loss: 0.0398 - val_accuracy: 0.5574 - val_loss: 1.2330\n",
      "Epoch 9/10\n",
      "\u001B[1m16/16\u001B[0m \u001B[32m━━━━━━━━━━━━━━━━━━━━\u001B[0m\u001B[37m\u001B[0m \u001B[1m0s\u001B[0m 11ms/step - accuracy: 1.0000 - loss: 0.0257 - val_accuracy: 0.5574 - val_loss: 1.4527\n",
      "Epoch 10/10\n",
      "\u001B[1m16/16\u001B[0m \u001B[32m━━━━━━━━━━━━━━━━━━━━\u001B[0m\u001B[37m\u001B[0m \u001B[1m0s\u001B[0m 12ms/step - accuracy: 1.0000 - loss: 0.0117 - val_accuracy: 0.5410 - val_loss: 1.5344\n"
     ]
    },
    {
     "data": {
      "text/plain": [
       "<keras.src.callbacks.history.History at 0x369a7a990>"
      ]
     },
     "execution_count": 59,
     "metadata": {},
     "output_type": "execute_result"
    }
   ],
   "execution_count": 59
  },
  {
   "metadata": {
    "ExecuteTime": {
     "end_time": "2024-11-14T07:37:42.716917Z",
     "start_time": "2024-11-14T07:37:42.663435Z"
    }
   },
   "cell_type": "code",
   "source": [
    "# Evaluate the model\n",
    "loss, accuracy = model.evaluate(X_test, y_test)\n",
    "print(f\"Accuracy: {accuracy}\")"
   ],
   "id": "b9ff719c69d041c5",
   "outputs": [
    {
     "name": "stdout",
     "output_type": "stream",
     "text": [
      "\u001B[1m5/5\u001B[0m \u001B[32m━━━━━━━━━━━━━━━━━━━━\u001B[0m\u001B[37m\u001B[0m \u001B[1m0s\u001B[0m 4ms/step - accuracy: 0.5402 - loss: 2.1740 \n",
      "Accuracy: 0.5424836874008179\n"
     ]
    }
   ],
   "execution_count": 60
  },
  {
   "metadata": {
    "ExecuteTime": {
     "end_time": "2024-11-14T07:37:48.409737Z",
     "start_time": "2024-11-14T07:37:48.315024Z"
    }
   },
   "cell_type": "code",
   "source": [
    "# Generate predictions on the test set\n",
    "y_pred_prob = model.predict(X_test)\n",
    "y_pred = (y_pred_prob > 0.5).astype(int)  # Convert probabilities to binary predictions (0 or 1)"
   ],
   "id": "31beb0051f8db309",
   "outputs": [
    {
     "name": "stdout",
     "output_type": "stream",
     "text": [
      "\u001B[1m5/5\u001B[0m \u001B[32m━━━━━━━━━━━━━━━━━━━━\u001B[0m\u001B[37m\u001B[0m \u001B[1m0s\u001B[0m 9ms/step \n"
     ]
    }
   ],
   "execution_count": 61
  },
  {
   "metadata": {
    "ExecuteTime": {
     "end_time": "2024-11-14T07:37:52.353818Z",
     "start_time": "2024-11-14T07:37:52.347422Z"
    }
   },
   "cell_type": "code",
   "source": [
    "# Print the classification report\n",
    "print(\"Classification Report:\")\n",
    "print(classification_report(y_test, y_pred))"
   ],
   "id": "6554cdcdc9fe38ed",
   "outputs": [
    {
     "name": "stdout",
     "output_type": "stream",
     "text": [
      "Classification Report:\n",
      "              precision    recall  f1-score   support\n",
      "\n",
      "           0       0.52      0.59      0.56        74\n",
      "           1       0.57      0.49      0.53        79\n",
      "\n",
      "    accuracy                           0.54       153\n",
      "   macro avg       0.54      0.54      0.54       153\n",
      "weighted avg       0.55      0.54      0.54       153\n",
      "\n"
     ]
    }
   ],
   "execution_count": 62
  },
  {
   "metadata": {
    "ExecuteTime": {
     "end_time": "2024-11-14T07:35:21.896740Z",
     "start_time": "2024-11-14T07:14:07.939942Z"
    }
   },
   "cell_type": "code",
   "source": [
    "# Save the model\n",
    "model.save('skin_cancer_cnn_model.h5')\n"
   ],
   "id": "f494a61286ccd4f9",
   "outputs": [
    {
     "name": "stderr",
     "output_type": "stream",
     "text": [
      "WARNING:absl:You are saving your model as an HDF5 file via `model.save()` or `keras.saving.save_model(model)`. This file format is considered legacy. We recommend using instead the native Keras format, e.g. `model.save('my_model.keras')` or `keras.saving.save_model(model, 'my_model.keras')`. \n"
     ]
    }
   ],
   "execution_count": 18
  },
  {
   "metadata": {},
   "cell_type": "markdown",
   "source": "### model implementation with DNN (fully connected Dense Neural Network)",
   "id": "91cc5bc0ff267959"
  },
  {
   "metadata": {
    "ExecuteTime": {
     "end_time": "2024-11-14T07:38:23.901138Z",
     "start_time": "2024-11-14T07:38:23.895639Z"
    }
   },
   "cell_type": "code",
   "source": [
    "# Split the data\n",
    "X_train, X_test, y_train, y_test = train_test_split(X_scaled, y, test_size=0.2, random_state=42)"
   ],
   "id": "a8e6d3d9543a2f41",
   "outputs": [],
   "execution_count": 63
  },
  {
   "metadata": {
    "ExecuteTime": {
     "end_time": "2024-11-14T07:38:26.105776Z",
     "start_time": "2024-11-14T07:38:26.080110Z"
    }
   },
   "cell_type": "code",
   "source": [
    "# Initialize the Dense neural network model\n",
    "model = Sequential([\n",
    "    Dense(512, activation='relu', input_shape=(1293,)),\n",
    "    Dropout(0.3),  # Dropout layer to prevent overfitting\n",
    "    Dense(256, activation='relu'),\n",
    "    Dropout(0.3),\n",
    "    Dense(128, activation='relu'),\n",
    "    Dropout(0.3),\n",
    "    Dense(1, activation='sigmoid')  # Sigmoid activation for binary classification\n",
    "])"
   ],
   "id": "51a126fda5e54b70",
   "outputs": [
    {
     "name": "stderr",
     "output_type": "stream",
     "text": [
      "/Library/Frameworks/Python.framework/Versions/3.12/lib/python3.12/site-packages/keras/src/layers/core/dense.py:87: UserWarning: Do not pass an `input_shape`/`input_dim` argument to a layer. When using Sequential models, prefer using an `Input(shape)` object as the first layer in the model instead.\n",
      "  super().__init__(activity_regularizer=activity_regularizer, **kwargs)\n"
     ]
    }
   ],
   "execution_count": 64
  },
  {
   "metadata": {
    "ExecuteTime": {
     "end_time": "2024-11-14T07:38:28.566163Z",
     "start_time": "2024-11-14T07:38:28.558708Z"
    }
   },
   "cell_type": "code",
   "source": [
    "# Compile the model\n",
    "model.compile(optimizer='adam', loss='binary_crossentropy', metrics=['accuracy'])"
   ],
   "id": "3719f773a99a0532",
   "outputs": [],
   "execution_count": 65
  },
  {
   "metadata": {
    "ExecuteTime": {
     "end_time": "2024-11-14T07:38:33.244200Z",
     "start_time": "2024-11-14T07:38:31.150809Z"
    }
   },
   "cell_type": "code",
   "source": [
    "# Train the model\n",
    "model.fit(X_train, y_train, epochs=10, batch_size=32, validation_split=0.2)"
   ],
   "id": "f0186bb03c2a8ded",
   "outputs": [
    {
     "name": "stdout",
     "output_type": "stream",
     "text": [
      "Epoch 1/10\n",
      "\u001B[1m16/16\u001B[0m \u001B[32m━━━━━━━━━━━━━━━━━━━━\u001B[0m\u001B[37m\u001B[0m \u001B[1m1s\u001B[0m 14ms/step - accuracy: 0.5458 - loss: 0.8386 - val_accuracy: 0.7213 - val_loss: 0.5250\n",
      "Epoch 2/10\n",
      "\u001B[1m16/16\u001B[0m \u001B[32m━━━━━━━━━━━━━━━━━━━━\u001B[0m\u001B[37m\u001B[0m \u001B[1m0s\u001B[0m 6ms/step - accuracy: 0.7940 - loss: 0.4221 - val_accuracy: 0.9180 - val_loss: 0.2317\n",
      "Epoch 3/10\n",
      "\u001B[1m16/16\u001B[0m \u001B[32m━━━━━━━━━━━━━━━━━━━━\u001B[0m\u001B[37m\u001B[0m \u001B[1m0s\u001B[0m 8ms/step - accuracy: 0.9929 - loss: 0.0782 - val_accuracy: 0.9508 - val_loss: 0.1306\n",
      "Epoch 4/10\n",
      "\u001B[1m16/16\u001B[0m \u001B[32m━━━━━━━━━━━━━━━━━━━━\u001B[0m\u001B[37m\u001B[0m \u001B[1m0s\u001B[0m 5ms/step - accuracy: 0.9921 - loss: 0.0305 - val_accuracy: 0.9590 - val_loss: 0.0990\n",
      "Epoch 5/10\n",
      "\u001B[1m16/16\u001B[0m \u001B[32m━━━━━━━━━━━━━━━━━━━━\u001B[0m\u001B[37m\u001B[0m \u001B[1m0s\u001B[0m 7ms/step - accuracy: 0.9937 - loss: 0.0094 - val_accuracy: 0.9672 - val_loss: 0.0854\n",
      "Epoch 6/10\n",
      "\u001B[1m16/16\u001B[0m \u001B[32m━━━━━━━━━━━━━━━━━━━━\u001B[0m\u001B[37m\u001B[0m \u001B[1m0s\u001B[0m 5ms/step - accuracy: 1.0000 - loss: 0.0034 - val_accuracy: 0.9590 - val_loss: 0.0809\n",
      "Epoch 7/10\n",
      "\u001B[1m16/16\u001B[0m \u001B[32m━━━━━━━━━━━━━━━━━━━━\u001B[0m\u001B[37m\u001B[0m \u001B[1m0s\u001B[0m 8ms/step - accuracy: 1.0000 - loss: 0.0023 - val_accuracy: 0.9590 - val_loss: 0.0840\n",
      "Epoch 8/10\n",
      "\u001B[1m16/16\u001B[0m \u001B[32m━━━━━━━━━━━━━━━━━━━━\u001B[0m\u001B[37m\u001B[0m \u001B[1m0s\u001B[0m 9ms/step - accuracy: 1.0000 - loss: 0.0011 - val_accuracy: 0.9590 - val_loss: 0.0798\n",
      "Epoch 9/10\n",
      "\u001B[1m16/16\u001B[0m \u001B[32m━━━━━━━━━━━━━━━━━━━━\u001B[0m\u001B[37m\u001B[0m \u001B[1m0s\u001B[0m 10ms/step - accuracy: 1.0000 - loss: 5.8525e-04 - val_accuracy: 0.9590 - val_loss: 0.0770\n",
      "Epoch 10/10\n",
      "\u001B[1m16/16\u001B[0m \u001B[32m━━━━━━━━━━━━━━━━━━━━\u001B[0m\u001B[37m\u001B[0m \u001B[1m0s\u001B[0m 9ms/step - accuracy: 1.0000 - loss: 0.0016 - val_accuracy: 0.9590 - val_loss: 0.0799\n"
     ]
    },
    {
     "data": {
      "text/plain": [
       "<keras.src.callbacks.history.History at 0x355faa9c0>"
      ]
     },
     "execution_count": 66,
     "metadata": {},
     "output_type": "execute_result"
    }
   ],
   "execution_count": 66
  },
  {
   "metadata": {
    "ExecuteTime": {
     "end_time": "2024-11-14T07:39:10.835529Z",
     "start_time": "2024-11-14T07:39:10.793914Z"
    }
   },
   "cell_type": "code",
   "source": [
    "# Evaluate the model\n",
    "loss, accuracy = model.evaluate(X_test, y_test)\n",
    "print(f\"Accuracy: {accuracy}\")\n",
    "print(f\"Loss: {loss}\")"
   ],
   "id": "983db89b670fdc4a",
   "outputs": [
    {
     "name": "stdout",
     "output_type": "stream",
     "text": [
      "\u001B[1m5/5\u001B[0m \u001B[32m━━━━━━━━━━━━━━━━━━━━\u001B[0m\u001B[37m\u001B[0m \u001B[1m0s\u001B[0m 2ms/step - accuracy: 0.9644 - loss: 0.0773 \n",
      "Accuracy: 0.9542483687400818\n",
      "Loss: 0.10230834782123566\n"
     ]
    }
   ],
   "execution_count": 68
  },
  {
   "metadata": {},
   "cell_type": "code",
   "outputs": [],
   "execution_count": null,
   "source": "",
   "id": "c2b4f386921e2ac"
  }
 ],
 "metadata": {
  "kernelspec": {
   "display_name": "Python 3 (ipykernel)",
   "language": "python",
   "name": "python3"
  },
  "language_info": {
   "codemirror_mode": {
    "name": "ipython",
    "version": 3
   },
   "file_extension": ".py",
   "mimetype": "text/x-python",
   "name": "python",
   "nbconvert_exporter": "python",
   "pygments_lexer": "ipython3",
   "version": "3.11.5"
  }
 },
 "nbformat": 4,
 "nbformat_minor": 5
}
