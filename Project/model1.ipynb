{
 "cells": [
  {
   "metadata": {
    "ExecuteTime": {
     "end_time": "2024-11-23T14:29:07.322087Z",
     "start_time": "2024-11-23T14:29:06.279062Z"
    }
   },
   "cell_type": "code",
   "source": [
    "from tensorflow.keras.applications import ResNet50\n",
    "from tensorflow.keras.models import Model\n",
    "from tensorflow.keras.layers import Dense, Dropout, GlobalAveragePooling2D\n",
    "from tensorflow.keras.optimizers import Adam\n",
    "\n",
    "# Load the pretrained ResNet50 model\n",
    "base_model = ResNet50(weights='imagenet', include_top=False, input_shape=(224, 224, 3))\n",
    "\n",
    "# Freeze the base model layers (fine-tune later if needed)\n",
    "base_model.trainable = False\n",
    "\n",
    "# Add custom layers on top\n",
    "x = base_model.output\n",
    "x = GlobalAveragePooling2D()(x)\n",
    "x = Dense(512, activation='relu')(x)\n",
    "x = Dropout(0.5)(x)\n",
    "x = Dense(256, activation='relu')(x)\n",
    "x = Dropout(0.5)(x)\n",
    "output = Dense(7, activation='linear')(x)  # Output layer for regression\n",
    "\n",
    "# Define the model\n",
    "model = Model(inputs=base_model.input, outputs=output)\n",
    "\n",
    "# Compile the model\n",
    "model.compile(optimizer=Adam(learning_rate=0.001), loss='mse', metrics=['mae'])\n",
    "\n",
    "# Display model summary\n",
    "#model.summary()"
   ],
   "id": "92e0fe9412fc8919",
   "outputs": [],
   "execution_count": 56
  },
  {
   "metadata": {
    "ExecuteTime": {
     "end_time": "2024-11-23T15:33:01.201554Z",
     "start_time": "2024-11-23T14:43:46.411173Z"
    }
   },
   "cell_type": "code",
   "source": [
    "from tensorflow.keras.callbacks import EarlyStopping, ReduceLROnPlateau\n",
    "\n",
    "# Early stopping to avoid overfitting\n",
    "early_stop = EarlyStopping(monitor='val_loss', patience=5, restore_best_weights=True)\n",
    "\n",
    "# Reduce learning rate when validation loss plateaus\n",
    "reduce_lr = ReduceLROnPlateau(monitor='val_loss', factor=0.5, patience=3)\n",
    "\n",
    "# Train the model\n",
    "history = model.fit(\n",
    "    X_train, y_train,\n",
    "    validation_data=(X_test, y_test),\n",
    "    epochs=20,\n",
    "    batch_size=32,\n",
    "    callbacks=[early_stop, reduce_lr]\n",
    ")"
   ],
   "id": "b8e4c414ecd5d8b1",
   "outputs": [
    {
     "name": "stdout",
     "output_type": "stream",
     "text": [
      "Epoch 1/20\n",
      "\u001B[1m68/68\u001B[0m \u001B[32m━━━━━━━━━━━━━━━━━━━━\u001B[0m\u001B[37m\u001B[0m \u001B[1m139s\u001B[0m 2s/step - loss: 6056.8716 - mae: 38.6517 - val_loss: 24.3980 - val_mae: 3.2114 - learning_rate: 0.0010\n",
      "Epoch 2/20\n",
      "\u001B[1m68/68\u001B[0m \u001B[32m━━━━━━━━━━━━━━━━━━━━\u001B[0m\u001B[37m\u001B[0m \u001B[1m142s\u001B[0m 2s/step - loss: 429.7884 - mae: 15.2123 - val_loss: 13.0677 - val_mae: 1.7361 - learning_rate: 0.0010\n",
      "Epoch 3/20\n",
      "\u001B[1m68/68\u001B[0m \u001B[32m━━━━━━━━━━━━━━━━━━━━\u001B[0m\u001B[37m\u001B[0m \u001B[1m129s\u001B[0m 2s/step - loss: 352.5395 - mae: 12.7591 - val_loss: 14.2325 - val_mae: 2.1216 - learning_rate: 0.0010\n",
      "Epoch 4/20\n",
      "\u001B[1m68/68\u001B[0m \u001B[32m━━━━━━━━━━━━━━━━━━━━\u001B[0m\u001B[37m\u001B[0m \u001B[1m136s\u001B[0m 2s/step - loss: 289.3477 - mae: 10.8308 - val_loss: 24.8183 - val_mae: 2.3331 - learning_rate: 0.0010\n",
      "Epoch 5/20\n",
      "\u001B[1m68/68\u001B[0m \u001B[32m━━━━━━━━━━━━━━━━━━━━\u001B[0m\u001B[37m\u001B[0m \u001B[1m94s\u001B[0m 1s/step - loss: 260.3517 - mae: 9.4775 - val_loss: 6.2544 - val_mae: 1.2576 - learning_rate: 0.0010\n",
      "Epoch 6/20\n",
      "\u001B[1m68/68\u001B[0m \u001B[32m━━━━━━━━━━━━━━━━━━━━\u001B[0m\u001B[37m\u001B[0m \u001B[1m89s\u001B[0m 1s/step - loss: 226.7187 - mae: 8.3860 - val_loss: 6.2604 - val_mae: 1.2903 - learning_rate: 0.0010\n",
      "Epoch 7/20\n",
      "\u001B[1m68/68\u001B[0m \u001B[32m━━━━━━━━━━━━━━━━━━━━\u001B[0m\u001B[37m\u001B[0m \u001B[1m85s\u001B[0m 1s/step - loss: 220.0840 - mae: 7.7619 - val_loss: 11.0189 - val_mae: 1.6680 - learning_rate: 0.0010\n",
      "Epoch 8/20\n",
      "\u001B[1m68/68\u001B[0m \u001B[32m━━━━━━━━━━━━━━━━━━━━\u001B[0m\u001B[37m\u001B[0m \u001B[1m105s\u001B[0m 2s/step - loss: 211.1999 - mae: 7.2974 - val_loss: 6.7200 - val_mae: 1.2445 - learning_rate: 0.0010\n",
      "Epoch 9/20\n",
      "\u001B[1m68/68\u001B[0m \u001B[32m━━━━━━━━━━━━━━━━━━━━\u001B[0m\u001B[37m\u001B[0m \u001B[1m125s\u001B[0m 2s/step - loss: 213.7957 - mae: 7.0269 - val_loss: 12.1261 - val_mae: 1.5519 - learning_rate: 5.0000e-04\n",
      "Epoch 10/20\n",
      "\u001B[1m68/68\u001B[0m \u001B[32m━━━━━━━━━━━━━━━━━━━━\u001B[0m\u001B[37m\u001B[0m \u001B[1m113s\u001B[0m 2s/step - loss: 182.0313 - mae: 6.5187 - val_loss: 4.7340 - val_mae: 0.9948 - learning_rate: 5.0000e-04\n",
      "Epoch 11/20\n",
      "\u001B[1m68/68\u001B[0m \u001B[32m━━━━━━━━━━━━━━━━━━━━\u001B[0m\u001B[37m\u001B[0m \u001B[1m196s\u001B[0m 3s/step - loss: 187.4638 - mae: 6.3683 - val_loss: 12.1761 - val_mae: 1.6030 - learning_rate: 5.0000e-04\n",
      "Epoch 12/20\n",
      "\u001B[1m68/68\u001B[0m \u001B[32m━━━━━━━━━━━━━━━━━━━━\u001B[0m\u001B[37m\u001B[0m \u001B[1m238s\u001B[0m 4s/step - loss: 193.8309 - mae: 6.4478 - val_loss: 14.8618 - val_mae: 1.8157 - learning_rate: 5.0000e-04\n",
      "Epoch 13/20\n",
      "\u001B[1m68/68\u001B[0m \u001B[32m━━━━━━━━━━━━━━━━━━━━\u001B[0m\u001B[37m\u001B[0m \u001B[1m159s\u001B[0m 2s/step - loss: 183.6749 - mae: 6.2045 - val_loss: 4.3007 - val_mae: 0.9918 - learning_rate: 5.0000e-04\n",
      "Epoch 14/20\n",
      "\u001B[1m68/68\u001B[0m \u001B[32m━━━━━━━━━━━━━━━━━━━━\u001B[0m\u001B[37m\u001B[0m \u001B[1m148s\u001B[0m 2s/step - loss: 192.7485 - mae: 6.2569 - val_loss: 46.0534 - val_mae: 3.3996 - learning_rate: 5.0000e-04\n",
      "Epoch 15/20\n",
      "\u001B[1m68/68\u001B[0m \u001B[32m━━━━━━━━━━━━━━━━━━━━\u001B[0m\u001B[37m\u001B[0m \u001B[1m136s\u001B[0m 2s/step - loss: 176.0665 - mae: 5.9706 - val_loss: 4.3655 - val_mae: 0.9844 - learning_rate: 5.0000e-04\n",
      "Epoch 16/20\n",
      "\u001B[1m68/68\u001B[0m \u001B[32m━━━━━━━━━━━━━━━━━━━━\u001B[0m\u001B[37m\u001B[0m \u001B[1m153s\u001B[0m 2s/step - loss: 186.0738 - mae: 5.9920 - val_loss: 8.5436 - val_mae: 1.3302 - learning_rate: 5.0000e-04\n",
      "Epoch 17/20\n",
      "\u001B[1m68/68\u001B[0m \u001B[32m━━━━━━━━━━━━━━━━━━━━\u001B[0m\u001B[37m\u001B[0m \u001B[1m150s\u001B[0m 2s/step - loss: 181.6553 - mae: 5.9371 - val_loss: 3.9433 - val_mae: 0.9186 - learning_rate: 2.5000e-04\n",
      "Epoch 18/20\n",
      "\u001B[1m68/68\u001B[0m \u001B[32m━━━━━━━━━━━━━━━━━━━━\u001B[0m\u001B[37m\u001B[0m \u001B[1m150s\u001B[0m 2s/step - loss: 184.4143 - mae: 5.9139 - val_loss: 3.7496 - val_mae: 0.9191 - learning_rate: 2.5000e-04\n",
      "Epoch 19/20\n",
      "\u001B[1m68/68\u001B[0m \u001B[32m━━━━━━━━━━━━━━━━━━━━\u001B[0m\u001B[37m\u001B[0m \u001B[1m249s\u001B[0m 4s/step - loss: 178.8277 - mae: 5.8230 - val_loss: 17.3928 - val_mae: 2.0044 - learning_rate: 2.5000e-04\n",
      "Epoch 20/20\n",
      "\u001B[1m68/68\u001B[0m \u001B[32m━━━━━━━━━━━━━━━━━━━━\u001B[0m\u001B[37m\u001B[0m \u001B[1m213s\u001B[0m 3s/step - loss: 182.3898 - mae: 5.7840 - val_loss: 9.3072 - val_mae: 1.3595 - learning_rate: 2.5000e-04\n"
     ]
    }
   ],
   "execution_count": 58
  },
  {
   "metadata": {
    "ExecuteTime": {
     "end_time": "2024-11-23T15:35:44.789941Z",
     "start_time": "2024-11-23T15:35:00.520041Z"
    }
   },
   "cell_type": "code",
   "source": [
    "import matplotlib.pyplot as plt\n",
    "\n",
    "# Evaluate on test data\n",
    "test_loss, test_mae = model.evaluate(X_test, y_test)\n",
    "print(f\"Test Loss: {test_loss}, Test MAE: {test_mae}\")\n",
    "\n",
    "# Plot training vs validation loss\n",
    "plt.plot(history.history['loss'], label='Training Loss')\n",
    "plt.plot(history.history['val_loss'], label='Validation Loss')\n",
    "plt.xlabel('Epochs')\n",
    "plt.ylabel('Loss (MSE)')\n",
    "plt.legend()\n",
    "plt.title('Training vs Validation Loss')\n",
    "plt.show()"
   ],
   "id": "810aec9247a4414b",
   "outputs": [
    {
     "name": "stdout",
     "output_type": "stream",
     "text": [
      "\u001B[1m17/17\u001B[0m \u001B[32m━━━━━━━━━━━━━━━━━━━━\u001B[0m\u001B[37m\u001B[0m \u001B[1m43s\u001B[0m 3s/step - loss: 4.0978 - mae: 0.9473\n",
      "Test Loss: 3.7496073246002197, Test MAE: 0.9190923571586609\n"
     ]
    },
    {
     "data": {
      "text/plain": [
       "<Figure size 640x480 with 1 Axes>"
      ],
      "image/png": "[encoded data removed]"
     },
     "metadata": {},
     "output_type": "display_data"
    }
   ],
   "execution_count": 59
  },
  {
   "metadata": {
    "jupyter": {
     "is_executing": true
    },
    "ExecuteTime": {
     "start_time": "2024-11-23T15:41:17.835065Z"
    }
   },
   "cell_type": "code",
   "source": [
    "# Unfreeze the top layers of the base model\n",
    "base_model.trainable = True\n",
    "\n",
    "# Recompile the model with a lower learning rate\n",
    "model.compile(optimizer=Adam(learning_rate=1e-5), loss='mse', metrics=['mae'])\n",
    "\n",
    "# Fine-tune the model\n",
    "fine_tune_history = model.fit(\n",
    "    X_train, y_train,\n",
    "    validation_data=(X_test, y_test),\n",
    "    epochs=10,\n",
    "    batch_size=32,\n",
    "    callbacks=[early_stop, reduce_lr]\n",
    ")\n",
    "\n",
    "# Plot fine-tuning training progress\n",
    "plt.plot(fine_tune_history.history['loss'], label='Training Loss')\n",
    "plt.plot(fine_tune_history.history['val_loss'], label='Validation Loss')\n",
    "plt.xlabel('Epochs')\n",
    "plt.ylabel('Loss (MSE)')\n",
    "plt.legend()\n",
    "plt.title('Fine-Tuning: Training vs Validation Loss')\n",
    "plt.show()"
   ],
   "id": "727d99fc51e2952",
   "outputs": [
    {
     "name": "stdout",
     "output_type": "stream",
     "text": [
      "Epoch 1/10\n",
      "\u001B[1m12/68\u001B[0m \u001B[32m━━━\u001B[0m\u001B[37m━━━━━━━━━━━━━━━━━\u001B[0m \u001B[1m11:31\u001B[0m 12s/step - loss: 6297.4922 - mae: 39.9194"
     ]
    }
   ],
   "execution_count": null
  },
  {
   "metadata": {},
   "cell_type": "code",
   "outputs": [],
   "execution_count": null,
   "source": [
    "# Make predictions on test data\n",
    "y_pred = model.predict(X_test)\n",
    "\n",
    "# Reverse scaling for true and predicted values\n",
    "y_test_original = scaler_y.inverse_transform(y_test)\n",
    "y_pred_original = scaler_y.inverse_transform(y_pred)\n",
    "\n",
    "# Visualize predictions\n",
    "def visualize_predictions(X, y_true, y_pred, num_samples=5):\n",
    "    for i in range(num_samples):\n",
    "        plt.figure(figsize=(12, 5))\n",
    "\n",
    "        # Show the image\n",
    "        plt.subplot(1, 2, 1)\n",
    "        plt.imshow(X[i])\n",
    "        plt.axis('off')\n",
    "        plt.title(\"Input Image\")\n",
    "\n",
    "        # Show true vs predicted values\n",
    "        plt.subplot(1, 2, 2)\n",
    "        indices = range(len(y_true[i]))\n",
    "        plt.bar(indices, y_true[i], alpha=0.6, label='True', color='blue')\n",
    "        plt.bar(indices, y_pred[i], alpha=0.6, label='Predicted', color='orange')\n",
    "        plt.xticks(indices, ['Calories', 'Proteins', 'Fat', 'Glucose', 'Cholesterol', 'Water', 'Energy'])\n",
    "        plt.legend()\n",
    "        plt.title(\"True vs Predicted Values\")\n",
    "\n",
    "        plt.show()\n",
    "\n",
    "# Visualize predictions for test samples\n",
    "visualize_predictions(X_test, y_test_original, y_pred_original)"
   ],
   "id": "fe0c4517323c9aa3"
  },
  {
   "metadata": {},
   "cell_type": "code",
   "outputs": [],
   "execution_count": null,
   "source": [
    "# allow user to input  image path\n",
    "# let user input image path\n",
    "image_path =\"Dates/Saqi_006.jpg\"\n",
    "\n",
    "# Preprocess the input image\n",
    "original_image, preprocessed_image = preprocess_image(image_path)\n",
    "\n",
    "# Predict the nutritional values\n",
    "predicted_values = model.predict(preprocessed_image)\n",
    "\n",
    "# Nutritional value labels\n",
    "nutritional_labels = ['calories', 'proteins', 'total_fat',\n",
    "                           'glucose', 'cholesterol', 'water', 'Energy (Kcal)']\n",
    "\n",
    "# Displaying the image and the predictions\n",
    "fig, ax = plt.subplots(1, 2, figsize=(15, 6))\n",
    "\n",
    "# Display the image\n",
    "ax[0].imshow(original_image)\n",
    "ax[0].axis('off')\n",
    "ax[0].set_title(\"Input Image\")\n",
    "\n",
    "# Display the predicted values\n",
    "ax[1].axis('off')\n",
    "ax[1].text(0.5, 0.8, \"Predicted Nutritional Values\", ha='center', va='center', fontsize=16, fontweight='bold')\n",
    "\n",
    "# Display each label and value\n",
    "for idx, (label, value) in enumerate(zip(nutritional_labels, predicted_values[0])):\n",
    "    ax[1].text(0.5, 0.7 - (idx * 0.1), f\"{label}: {value:.2f}\", ha='center', va='center', fontsize=12)\n",
    "\n",
    "plt.show()\n",
    "\n",
    "\n"
   ],
   "id": "99bb966154ee8514"
  },
  {
   "metadata": {},
   "cell_type": "code",
   "outputs": [],
   "execution_count": null,
   "source": [
    "# Save the model\n",
    "model.save('001_resnet_model.h5')"
   ],
   "id": "b1b446537bde0421"
  },
  {
   "metadata": {},
   "cell_type": "code",
   "outputs": [],
   "execution_count": null,
   "source": [
    "import numpy as np\n",
    "\n",
    "# Define accuracy metric for regression\n",
    "def regression_accuracy(y_true, y_pred, tolerance=0.1):\n",
    "    relative_error = np.abs((y_true - y_pred) / y_true)  # Relative error\n",
    "    accurate_predictions = np.sum(relative_error <= tolerance)  # Predictions within tolerance\n",
    "    accuracy = (accurate_predictions / len(y_true)) * 100  # Percentage accuracy\n",
    "    return accuracy\n",
    "y_train_pred_resnet = model.predict(X_train)\n",
    "y_test_pred_resnet = model.predict(X_test)\n",
    "\n",
    "train_accuracy_resnet = regression_accuracy(y_train, y_train_pred_resnet)\n",
    "test_accuracy_resnet = regression_accuracy(y_test, y_test_pred_resnet)\n",
    "print(f\"ResNet50 - Train Accuracy: {train_accuracy_resnet:.2f}%, Test Accuracy: {test_accuracy_resnet:.2f}%\")"
   ],
   "id": "7642a97b470b238a"
  }
 ],
 "metadata": {
  "kernelspec": {
   "display_name": "Python 3",
   "language": "python",
   "name": "python3"
  },
  "language_info": {
   "codemirror_mode": {
    "name": "ipython",
    "version": 2
   },
   "file_extension": ".py",
   "mimetype": "text/x-python",
   "name": "python",
   "nbconvert_exporter": "python",
   "pygments_lexer": "ipython2",
   "version": "2.7.6"
  }
 },
 "nbformat": 4,
 "nbformat_minor": 5
}
