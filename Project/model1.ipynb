{
 "cells": [
  {
   "metadata": {
    "ExecuteTime": {
     "end_time": "2024-11-25T08:31:14.688893Z",
     "start_time": "2024-11-25T08:31:14.216722Z"
    }
   },
   "cell_type": "code",
   "source": [
    "from tensorflow.keras.applications import ResNet50\n",
    "from tensorflow.keras.models import Model\n",
    "from tensorflow.keras.layers import Dense, Dropout, GlobalAveragePooling2D\n",
    "from tensorflow.keras.optimizers import Adam\n",
    "\n",
    "# Load the pretrained ResNet50 model\n",
    "base_model = ResNet50(weights='imagenet', include_top=False, input_shape=(224, 224, 3))\n",
    "\n",
    "# Freeze the base model layers (fine-tune later if needed)\n",
    "base_model.trainable = False\n",
    "\n",
    "# Add custom layers on top\n",
    "x = base_model.output\n",
    "x = GlobalAveragePooling2D()(x)\n",
    "x = Dense(512, activation='relu')(x)\n",
    "x = Dropout(0.5)(x)\n",
    "x = Dense(256, activation='relu')(x)\n",
    "x = Dropout(0.5)(x)\n",
    "output = Dense(7, activation='linear')(x)  # Output layer for regression\n",
    "\n",
    "# Define the model\n",
    "model = Model(inputs=base_model.input, outputs=output)\n",
    "\n",
    "# Compile the model\n",
    "model.compile(optimizer=Adam(learning_rate=0.001), loss='mse', metrics=['mae'])\n",
    "\n",
    "# Display model summary\n",
    "#model.summary()"
   ],
   "id": "92e0fe9412fc8919",
   "outputs": [],
   "execution_count": 7
  },
  {
   "metadata": {
    "ExecuteTime": {
     "end_time": "2024-11-25T08:30:29.657022Z",
     "start_time": "2024-11-25T08:30:29.644528Z"
    }
   },
   "cell_type": "code",
   "source": [
    "\n",
    "from tensorflow.keras.callbacks import EarlyStopping, ReduceLROnPlateau\n",
    "\n",
    "# Early stopping to avoid overfitting\n",
    "early_stop = EarlyStopping(monitor='val_loss', patience=5, restore_best_weights=True)\n",
    "\n",
    "# Reduce learning rate when validation loss plateaus\n",
    "reduce_lr = ReduceLROnPlateau(monitor='val_loss', factor=0.5, patience=3)\n",
    "\n",
    "# Train the model\n",
    "history = model.fit(\n",
    "    X_train, y_train,\n",
    "    validation_data=(X_test, y_test),\n",
    "    epochs=50,\n",
    "    batch_size=32,\n",
    "    callbacks=[early_stop, reduce_lr]\n",
    ")"
   ],
   "id": "b8e4c414ecd5d8b1",
   "outputs": [
    {
     "ename": "NameError",
     "evalue": "name 'X_train' is not defined",
     "output_type": "error",
     "traceback": [
      "\u001B[0;31m---------------------------------------------------------------------------\u001B[0m",
      "\u001B[0;31mNameError\u001B[0m                                 Traceback (most recent call last)",
      "Cell \u001B[0;32mIn[5], line 11\u001B[0m\n\u001B[1;32m      7\u001B[0m reduce_lr \u001B[38;5;241m=\u001B[39m ReduceLROnPlateau(monitor\u001B[38;5;241m=\u001B[39m\u001B[38;5;124m'\u001B[39m\u001B[38;5;124mval_loss\u001B[39m\u001B[38;5;124m'\u001B[39m, factor\u001B[38;5;241m=\u001B[39m\u001B[38;5;241m0.5\u001B[39m, patience\u001B[38;5;241m=\u001B[39m\u001B[38;5;241m3\u001B[39m)\n\u001B[1;32m      9\u001B[0m \u001B[38;5;66;03m# Train the model\u001B[39;00m\n\u001B[1;32m     10\u001B[0m history \u001B[38;5;241m=\u001B[39m model\u001B[38;5;241m.\u001B[39mfit(\n\u001B[0;32m---> 11\u001B[0m     \u001B[43mX_train\u001B[49m, y_train,\n\u001B[1;32m     12\u001B[0m     validation_data\u001B[38;5;241m=\u001B[39m(X_test, y_test),\n\u001B[1;32m     13\u001B[0m     epochs\u001B[38;5;241m=\u001B[39m\u001B[38;5;241m50\u001B[39m,\n\u001B[1;32m     14\u001B[0m     batch_size\u001B[38;5;241m=\u001B[39m\u001B[38;5;241m32\u001B[39m,\n\u001B[1;32m     15\u001B[0m     callbacks\u001B[38;5;241m=\u001B[39m[early_stop, reduce_lr]\n\u001B[1;32m     16\u001B[0m )\n",
      "\u001B[0;31mNameError\u001B[0m: name 'X_train' is not defined"
     ]
    }
   ],
   "execution_count": 5
  },
  {
   "metadata": {
    "ExecuteTime": {
     "end_time": "2024-11-25T08:34:36.714720Z",
     "start_time": "2024-11-25T08:34:36.302473Z"
    }
   },
   "cell_type": "code",
   "source": [
    "import matplotlib.pyplot as plt\n",
    "\n",
    "# Evaluate on test data\n",
    "test_loss, test_mae = model.evaluate(X_test, y_test)\n",
    "print(f\"Test Loss: {test_loss}, Test MAE: {test_mae}\")\n",
    "\n",
    "# Plot training vs validation loss\n",
    "plt.plot(history.history['loss'], label='Training Loss')\n",
    "plt.plot(history.history['val_loss'], label='Validation Loss')\n",
    "plt.xlabel('Epochs')\n",
    "plt.ylabel('Loss (MSE)')\n",
    "plt.legend()\n",
    "plt.title('Training vs Validation Loss')\n",
    "plt.show()"
   ],
   "id": "810aec9247a4414b",
   "outputs": [
    {
     "ename": "NameError",
     "evalue": "name 'X_test' is not defined",
     "output_type": "error",
     "traceback": [
      "\u001B[0;31m---------------------------------------------------------------------------\u001B[0m",
      "\u001B[0;31mNameError\u001B[0m                                 Traceback (most recent call last)",
      "Cell \u001B[0;32mIn[8], line 4\u001B[0m\n\u001B[1;32m      1\u001B[0m \u001B[38;5;28;01mimport\u001B[39;00m \u001B[38;5;21;01mmatplotlib\u001B[39;00m\u001B[38;5;21;01m.\u001B[39;00m\u001B[38;5;21;01mpyplot\u001B[39;00m \u001B[38;5;28;01mas\u001B[39;00m \u001B[38;5;21;01mplt\u001B[39;00m\n\u001B[1;32m      3\u001B[0m \u001B[38;5;66;03m# Evaluate on test data\u001B[39;00m\n\u001B[0;32m----> 4\u001B[0m test_loss, test_mae \u001B[38;5;241m=\u001B[39m model\u001B[38;5;241m.\u001B[39mevaluate(\u001B[43mX_test\u001B[49m, y_test)\n\u001B[1;32m      5\u001B[0m \u001B[38;5;28mprint\u001B[39m(\u001B[38;5;124mf\u001B[39m\u001B[38;5;124m\"\u001B[39m\u001B[38;5;124mTest Loss: \u001B[39m\u001B[38;5;132;01m{\u001B[39;00mtest_loss\u001B[38;5;132;01m}\u001B[39;00m\u001B[38;5;124m, Test MAE: \u001B[39m\u001B[38;5;132;01m{\u001B[39;00mtest_mae\u001B[38;5;132;01m}\u001B[39;00m\u001B[38;5;124m\"\u001B[39m)\n\u001B[1;32m      7\u001B[0m \u001B[38;5;66;03m# Plot training vs validation loss\u001B[39;00m\n",
      "\u001B[0;31mNameError\u001B[0m: name 'X_test' is not defined"
     ]
    }
   ],
   "execution_count": 8
  },
  {
   "metadata": {
    "ExecuteTime": {
     "end_time": "2024-11-23T16:56:27.244727Z",
     "start_time": "2024-11-23T15:41:17.835065Z"
    }
   },
   "cell_type": "code",
   "source": [
    "# Unfreeze the top layers of the base model\n",
    "base_model.trainable = True\n",
    "\n",
    "# Recompile the model with a lower learning rate\n",
    "model.compile(optimizer=Adam(learning_rate=1e-5), loss='mse', metrics=['mae'])\n",
    "\n",
    "# Fine-tune the model\n",
    "fine_tune_history = model.fit(\n",
    "    X_train, y_train,\n",
    "    validation_data=(X_test, y_test),\n",
    "    epochs=10,\n",
    "    batch_size=32,\n",
    "    callbacks=[early_stop, reduce_lr]\n",
    ")\n",
    "\n",
    "# Plot fine-tuning training progress\n",
    "plt.plot(fine_tune_history.history['loss'], label='Training Loss')\n",
    "plt.plot(fine_tune_history.history['val_loss'], label='Validation Loss')\n",
    "plt.xlabel('Epochs')\n",
    "plt.ylabel('Loss (MSE)')\n",
    "plt.legend()\n",
    "plt.title('Fine-Tuning: Training vs Validation Loss')\n",
    "plt.show()"
   ],
   "id": "727d99fc51e2952",
   "outputs": [
    {
     "name": "stdout",
     "output_type": "stream",
     "text": [
      "Epoch 1/10\n",
      "\u001B[1m68/68\u001B[0m \u001B[32m━━━━━━━━━━━━━━━━━━━━\u001B[0m\u001B[37m\u001B[0m \u001B[1m978s\u001B[0m 14s/step - loss: 3923.7285 - mae: 29.2564 - val_loss: 252.4307 - val_mae: 7.5323 - learning_rate: 1.0000e-05\n",
      "Epoch 2/10\n",
      "\u001B[1m68/68\u001B[0m \u001B[32m━━━━━━━━━━━━━━━━━━━━\u001B[0m\u001B[37m\u001B[0m \u001B[1m1233s\u001B[0m 18s/step - loss: 314.6714 - mae: 7.5467 - val_loss: 1173.8754 - val_mae: 17.1909 - learning_rate: 1.0000e-05\n",
      "Epoch 3/10\n",
      "\u001B[1m68/68\u001B[0m \u001B[32m━━━━━━━━━━━━━━━━━━━━\u001B[0m\u001B[37m\u001B[0m \u001B[1m942s\u001B[0m 14s/step - loss: 263.6314 - mae: 6.9805 - val_loss: 1337.8755 - val_mae: 18.4787 - learning_rate: 1.0000e-05\n",
      "Epoch 4/10\n",
      "\u001B[1m68/68\u001B[0m \u001B[32m━━━━━━━━━━━━━━━━━━━━\u001B[0m\u001B[37m\u001B[0m \u001B[1m723s\u001B[0m 11s/step - loss: 239.6179 - mae: 6.6429 - val_loss: 1593.4033 - val_mae: 20.2264 - learning_rate: 1.0000e-05\n",
      "Epoch 5/10\n",
      "\u001B[1m68/68\u001B[0m \u001B[32m━━━━━━━━━━━━━━━━━━━━\u001B[0m\u001B[37m\u001B[0m \u001B[1m627s\u001B[0m 9s/step - loss: 234.7787 - mae: 6.6285 - val_loss: 1647.3556 - val_mae: 20.5093 - learning_rate: 5.0000e-06\n"
     ]
    },
    {
     "data": {
      "text/plain": [
       "<Figure size 640x480 with 1 Axes>"
      ],
      "image/png": "[encoded data removed]"
     },
     "metadata": {},
     "output_type": "display_data"
    }
   ],
   "execution_count": 60
  },
  {
   "metadata": {
    "ExecuteTime": {
     "end_time": "2024-11-23T17:52:09.665787Z",
     "start_time": "2024-11-23T17:51:33.537480Z"
    }
   },
   "cell_type": "code",
   "source": [
    "# Make predictions on test data\n",
    "y_pred = model.predict(X_test)\n",
    "\n",
    "# Reverse scaling for true and predicted values\n",
    "y_test_original = scaler_y.inverse_transform(y_test)\n",
    "y_pred_original = scaler_y.inverse_transform(y_pred)\n",
    "\n",
    "# Visualize predictions\n",
    "def visualize_predictions(X, y_true, y_pred, num_samples=5):\n",
    "    for i in range(num_samples):\n",
    "        plt.figure(figsize=(12, 5))\n",
    "\n",
    "        # Show the image\n",
    "        plt.subplot(1, 2, 1)\n",
    "        plt.imshow(X[i])\n",
    "        plt.axis('off')\n",
    "        plt.title(\"Input Image\")\n",
    "\n",
    "        # Show true vs predicted values\n",
    "        plt.subplot(1, 2, 2)\n",
    "        indices = range(len(y_true[i]))\n",
    "        plt.bar(indices, y_true[i], alpha=0.6, label='True', color='blue')\n",
    "        plt.bar(indices, y_pred[i], alpha=0.6, label='Predicted', color='orange')\n",
    "        plt.xticks(indices, ['Calories', 'Proteins', 'Fat', 'Glucose', 'Cholesterol', 'Water', 'Energy'])\n",
    "        plt.legend()\n",
    "        plt.title(\"True vs Predicted Values\")\n",
    "\n",
    "        plt.show()\n",
    "\n",
    "# Visualize predictions for test samples\n",
    "visualize_predictions(X_test, y_test_original, y_pred_original)"
   ],
   "id": "fe0c4517323c9aa3",
   "outputs": [
    {
     "name": "stdout",
     "output_type": "stream",
     "text": [
      "\u001B[1m17/17\u001B[0m \u001B[32m━━━━━━━━━━━━━━━━━━━━\u001B[0m\u001B[37m\u001B[0m \u001B[1m35s\u001B[0m 2s/step\n"
     ]
    },
    {
     "ename": "NameError",
     "evalue": "name 'scaler_y' is not defined",
     "output_type": "error",
     "traceback": [
      "\u001B[0;31m---------------------------------------------------------------------------\u001B[0m",
      "\u001B[0;31mNameError\u001B[0m                                 Traceback (most recent call last)",
      "Cell \u001B[0;32mIn[61], line 5\u001B[0m\n\u001B[1;32m      2\u001B[0m y_pred \u001B[38;5;241m=\u001B[39m model\u001B[38;5;241m.\u001B[39mpredict(X_test)\n\u001B[1;32m      4\u001B[0m \u001B[38;5;66;03m# Reverse scaling for true and predicted values\u001B[39;00m\n\u001B[0;32m----> 5\u001B[0m y_test_original \u001B[38;5;241m=\u001B[39m \u001B[43mscaler_y\u001B[49m\u001B[38;5;241m.\u001B[39minverse_transform(y_test)\n\u001B[1;32m      6\u001B[0m y_pred_original \u001B[38;5;241m=\u001B[39m scaler_y\u001B[38;5;241m.\u001B[39minverse_transform(y_pred)\n\u001B[1;32m      8\u001B[0m \u001B[38;5;66;03m# Visualize predictions\u001B[39;00m\n",
      "\u001B[0;31mNameError\u001B[0m: name 'scaler_y' is not defined"
     ]
    }
   ],
   "execution_count": 61
  },
  {
   "metadata": {
    "ExecuteTime": {
     "end_time": "2024-11-23T17:53:48.359492Z",
     "start_time": "2024-11-23T17:53:48.314036Z"
    }
   },
   "cell_type": "code",
   "source": [
    "# allow user to input  image path\n",
    "# let user input image path\n",
    "image_path =\"Dates/Saqi_006.jpg\"\n",
    "\n",
    "# Preprocess the input image\n",
    "original_image, preprocessed_image = preprocess_image(image_path)\n",
    "\n",
    "# Predict the nutritional values\n",
    "predicted_values = model.predict(preprocessed_image)\n",
    "\n",
    "# Nutritional value labels\n",
    "nutritional_labels = ['calories', 'proteins', 'total_fat',\n",
    "                           'glucose', 'cholesterol', 'water', 'Energy (Kcal)']\n",
    "\n",
    "# Displaying the image and the predictions\n",
    "fig, ax = plt.subplots(1, 2, figsize=(15, 6))\n",
    "\n",
    "# Display the image\n",
    "ax[0].imshow(original_image)\n",
    "ax[0].axis('off')\n",
    "ax[0].set_title(\"Input Image\")\n",
    "\n",
    "# Display the predicted values\n",
    "ax[1].axis('off')\n",
    "ax[1].text(0.5, 0.8, \"Predicted Nutritional Values\", ha='center', va='center', fontsize=16, fontweight='bold')\n",
    "\n",
    "# Display each label and value\n",
    "for idx, (label, value) in enumerate(zip(nutritional_labels, predicted_values[0])):\n",
    "    ax[1].text(0.5, 0.7 - (idx * 0.1), f\"{label}: {value:.2f}\", ha='center', va='center', fontsize=12)\n",
    "\n",
    "plt.show()"
   ],
   "id": "99bb966154ee8514",
   "outputs": [
    {
     "ename": "NameError",
     "evalue": "name 'preprocess_image' is not defined",
     "output_type": "error",
     "traceback": [
      "\u001B[0;31m---------------------------------------------------------------------------\u001B[0m",
      "\u001B[0;31mNameError\u001B[0m                                 Traceback (most recent call last)",
      "Cell \u001B[0;32mIn[62], line 6\u001B[0m\n\u001B[1;32m      3\u001B[0m image_path \u001B[38;5;241m=\u001B[39m\u001B[38;5;124m\"\u001B[39m\u001B[38;5;124mDates/Saqi_006.jpg\u001B[39m\u001B[38;5;124m\"\u001B[39m\n\u001B[1;32m      5\u001B[0m \u001B[38;5;66;03m# Preprocess the input image\u001B[39;00m\n\u001B[0;32m----> 6\u001B[0m original_image, preprocessed_image \u001B[38;5;241m=\u001B[39m \u001B[43mpreprocess_image\u001B[49m(image_path)\n\u001B[1;32m      8\u001B[0m \u001B[38;5;66;03m# Predict the nutritional values\u001B[39;00m\n\u001B[1;32m      9\u001B[0m predicted_values \u001B[38;5;241m=\u001B[39m model\u001B[38;5;241m.\u001B[39mpredict(preprocessed_image)\n",
      "\u001B[0;31mNameError\u001B[0m: name 'preprocess_image' is not defined"
     ]
    }
   ],
   "execution_count": 62
  },
  {
   "metadata": {},
   "cell_type": "code",
   "outputs": [],
   "execution_count": null,
   "source": [
    "# Save the model\n",
    "model.save('001_resnet_model.h5')"
   ],
   "id": "b1b446537bde0421"
  },
  {
   "metadata": {},
   "cell_type": "code",
   "outputs": [],
   "execution_count": null,
   "source": [
    "import numpy as np\n",
    "\n",
    "# Define accuracy metric for regression\n",
    "def regression_accuracy(y_true, y_pred, tolerance=0.1):\n",
    "    relative_error = np.abs((y_true - y_pred) / y_true)  # Relative error\n",
    "    accurate_predictions = np.sum(relative_error <= tolerance)  # Predictions within tolerance\n",
    "    accuracy = (accurate_predictions / len(y_true)) * 100  # Percentage accuracy\n",
    "    return accuracy\n",
    "y_train_pred_resnet = model.predict(X_train)\n",
    "y_test_pred_resnet = model.predict(X_test)\n",
    "\n",
    "train_accuracy_resnet = regression_accuracy(y_train, y_train_pred_resnet)\n",
    "test_accuracy_resnet = regression_accuracy(y_test, y_test_pred_resnet)\n",
    "print(f\"ResNet50 - Train Accuracy: {train_accuracy_resnet:.2f}%, Test Accuracy: {test_accuracy_resnet:.2f}%\")"
   ],
   "id": "7642a97b470b238a"
  }
 ],
 "metadata": {
  "kernelspec": {
   "display_name": "Python 3",
   "language": "python",
   "name": "python3"
  },
  "language_info": {
   "codemirror_mode": {
    "name": "ipython",
    "version": 2
   },
   "file_extension": ".py",
   "mimetype": "text/x-python",
   "name": "python",
   "nbconvert_exporter": "python",
   "pygments_lexer": "ipython2",
   "version": "2.7.6"
  }
 },
 "nbformat": 4,
 "nbformat_minor": 5
}
