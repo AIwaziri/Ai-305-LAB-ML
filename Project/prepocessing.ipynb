{
 "cells": [
  {
   "metadata": {
    "ExecuteTime": {
     "end_time": "2024-11-22T14:46:33.411775Z",
     "start_time": "2024-11-22T14:46:28.268639Z"
    }
   },
   "cell_type": "code",
   "source": [
    "import os\n",
    "import pandas as pd\n",
    "import numpy as np\n",
    "from tensorflow.keras.utils import load_img, img_to_array\n",
    "from sklearn.model_selection import train_test_split"
   ],
   "id": "cc1e1f15c2df72db",
   "outputs": [],
   "execution_count": 1
  },
  {
   "metadata": {
    "ExecuteTime": {
     "end_time": "2024-11-22T14:46:33.444054Z",
     "start_time": "2024-11-22T14:46:33.417355Z"
    }
   },
   "cell_type": "code",
   "source": [
    "# Load the nutritional value CSV\n",
    "nutritional_data = pd.read_csv(\"nutritional_values.csv\")\n",
    "\n",
    "# Ensure the CSV contains 'image_name' column for image filenames\n",
    "print(nutritional_data.head())"
   ],
   "id": "ef6f89da7d8e0684",
   "outputs": [
    {
     "name": "stdout",
     "output_type": "stream",
     "text": [
      "   image_id  type                                           taxonomy  \\\n",
      "0  Ajwa_001  Ajwa  Kingdom - Plantae, Order - Arecales, Family - ...   \n",
      "1  Ajwa_002  Ajwa  Kingdom - Plantae, Order - Arecales, Family - ...   \n",
      "2  Ajwa_003  Ajwa  Kingdom - Plantae, Order - Arecales, Family - ...   \n",
      "3  Ajwa_004  Ajwa  Kingdom - Plantae, Order - Arecales, Family - ...   \n",
      "4  Ajwa_005  Ajwa  Kingdom - Plantae, Order - Arecales, Family - ...   \n",
      "\n",
      "                                    vernacular_names  calories  carbohydrate  \\\n",
      "0  Arabic-Nakhleh, English-Date friut, French-Dat...        23         74.97   \n",
      "1  Arabic-Nakhleh, English-Date friut, French-Dat...        25         78.39   \n",
      "2  Arabic-Nakhleh, English-Date friut, French-Dat...        24         75.41   \n",
      "3  Arabic-Nakhleh, English-Date friut, French-Dat...        23         75.67   \n",
      "4  Arabic-Nakhleh, English-Date friut, French-Dat...        25         77.63   \n",
      "\n",
      "   proteins  total_fat  cholesterol  dietary_fiber  ...  Magnesium (mg)  \\\n",
      "0      1.81       0.15          0.0           6.70  ...           54.00   \n",
      "1      1.88       0.15          0.0           6.93  ...           56.61   \n",
      "2      1.87       0.16          0.0           6.86  ...           54.35   \n",
      "3      1.89       0.15          0.0           6.92  ...           55.35   \n",
      "4      1.84       0.15          0.0           6.82  ...           55.87   \n",
      "\n",
      "   Manganese (mg)  Phosphorus (mg)  Zinc (mg)  Carotene-ß (µg)  \\\n",
      "0           0.296            62.00       0.44            89.00   \n",
      "1           0.300            61.83       0.44            88.78   \n",
      "2           0.300            62.95       0.45            93.30   \n",
      "3           0.310            62.66       0.44            91.95   \n",
      "4           0.300            63.59       0.44            89.25   \n",
      "\n",
      "   Crypto-xanthin-ß (µg)  Lutein Zeaxanthin (µg)  quality        colour  \\\n",
      "0                    0.0                   23.00   Medium  Golden Brown   \n",
      "1                    0.0                   22.98   Medium         Black   \n",
      "2                    0.0                   23.12   Medium         Black   \n",
      "3                    0.0                   22.98   Medium         Black   \n",
      "4                    0.0                   24.13   Medium         Black   \n",
      "\n",
      "     size  \n",
      "0  Medium  \n",
      "1   Large  \n",
      "2   Large  \n",
      "3   Large  \n",
      "4   Large  \n",
      "\n",
      "[5 rows x 69 columns]\n"
     ]
    }
   ],
   "execution_count": 2
  },
  {
   "metadata": {
    "ExecuteTime": {
     "end_time": "2024-11-22T14:46:35.523755Z",
     "start_time": "2024-11-22T14:46:35.521442Z"
    }
   },
   "cell_type": "code",
   "source": [
    "# Set parameters for image processing\n",
    "image_folder = \"Dates\"  # Folder containing images\n",
    "target_size = (224, 224)  # ResNet/EfficientNet input size"
   ],
   "id": "6558d0b6227bb31b",
   "outputs": [],
   "execution_count": 3
  },
  {
   "metadata": {
    "ExecuteTime": {
     "end_time": "2024-11-22T14:46:48.918377Z",
     "start_time": "2024-11-22T14:46:46.190753Z"
    }
   },
   "cell_type": "code",
   "source": [
    "# Load and preprocess images\n",
    "images = []\n",
    "labels = []\n",
    "\n",
    "for index, row in nutritional_data.iterrows():\n",
    "    image_id = row['image_id'] + '.jpg'  # Add .jpg extension\n",
    "    image_path = os.path.join(image_folder, image_id)\n",
    "\n",
    "    # Check if the image file exists\n",
    "    if os.path.exists(image_path):\n",
    "        # Load image\n",
    "        img = load_img(image_path, target_size=target_size)\n",
    "        img_array = img_to_array(img) / 255.0  # Normalize to [0, 1]\n",
    "        images.append(img_array)\n",
    "\n",
    "        # Add labels (nutritional values)\n",
    "        labels.append(row[[ 'calories', 'proteins', 'total_fat',\n",
    "                           'glucose', 'cholesterol', 'water', 'Energy (Kcal)']].values)\n"
   ],
   "id": "6452fc93c4a023ff",
   "outputs": [],
   "execution_count": 4
  },
  {
   "metadata": {
    "ExecuteTime": {
     "end_time": "2024-11-22T14:46:53.189683Z",
     "start_time": "2024-11-22T14:46:52.070894Z"
    }
   },
   "cell_type": "code",
   "source": [
    "# Convert to NumPy arrays\n",
    "images = np.array(images)\n",
    "labels = np.array(labels)\n",
    "\n",
    "print(f\"Images shape: {images.shape}, Labels shape: {labels.shape}\")"
   ],
   "id": "a18bf968ebed2d6f",
   "outputs": [
    {
     "name": "stdout",
     "output_type": "stream",
     "text": [
      "Images shape: (2707, 224, 224, 3), Labels shape: (2707, 7)\n"
     ]
    }
   ],
   "execution_count": 5
  },
  {
   "metadata": {
    "ExecuteTime": {
     "end_time": "2024-11-22T14:46:56.387293Z",
     "start_time": "2024-11-22T14:46:55.218394Z"
    }
   },
   "cell_type": "code",
   "source": [
    "# Split the dataset into training and testing sets\n",
    "X_train, X_test, y_train, y_test = train_test_split(images, labels, test_size=0.2, random_state=42)\n",
    "\n",
    "print(f\"Training set: {X_train.shape}, {y_train.shape}\")\n",
    "print(f\"Testing set: {X_test.shape}, {y_test.shape}\")"
   ],
   "id": "7a9c3c3d989515bb",
   "outputs": [
    {
     "name": "stdout",
     "output_type": "stream",
     "text": [
      "Training set: (2165, 224, 224, 3), (2165, 7)\n",
      "Testing set: (542, 224, 224, 3), (542, 7)\n"
     ]
    }
   ],
   "execution_count": 6
  },
  {
   "metadata": {
    "ExecuteTime": {
     "end_time": "2024-11-22T14:46:59.785840Z",
     "start_time": "2024-11-22T14:46:59.263328Z"
    }
   },
   "cell_type": "code",
   "source": [
    "# Save to .npy files\n",
    "np.save(\"images_preprocessed.npy\", images)\n",
    "np.save(\"nutritional_values.npy\", labels)"
   ],
   "id": "2f3377316581b532",
   "outputs": [],
   "execution_count": 7
  },
  {
   "metadata": {
    "ExecuteTime": {
     "end_time": "2024-11-22T14:47:00.890958Z",
     "start_time": "2024-11-22T14:47:00.888955Z"
    }
   },
   "cell_type": "code",
   "source": [
    "# images = np.load(\"images_preprocessed.npy\")\n",
    "# labels = np.load(\"nutritional_values.npy\")"
   ],
   "id": "3515677f6847a0e2",
   "outputs": [],
   "execution_count": 8
  },
  {
   "metadata": {},
   "cell_type": "code",
   "outputs": [],
   "execution_count": null,
   "source": "",
   "id": "8468113019851a54"
  }
 ],
 "metadata": {
  "kernelspec": {
   "display_name": "Python 3",
   "language": "python",
   "name": "python3"
  },
  "language_info": {
   "codemirror_mode": {
    "name": "ipython",
    "version": 2
   },
   "file_extension": ".py",
   "mimetype": "text/x-python",
   "name": "python",
   "nbconvert_exporter": "python",
   "pygments_lexer": "ipython2",
   "version": "2.7.6"
  }
 },
 "nbformat": 4,
 "nbformat_minor": 5
}
