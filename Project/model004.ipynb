{
 "cells": [
  {
   "cell_type": "code",
   "id": "initial_id",
   "metadata": {
    "collapsed": true,
    "ExecuteTime": {
     "end_time": "2024-11-23T14:57:03.163520Z",
     "start_time": "2024-11-23T14:57:01.225973Z"
    }
   },
   "source": [
    "from tensorflow.keras.applications import InceptionV3, DenseNet121\n",
    "from tensorflow.keras.models import Model\n",
    "from tensorflow.keras.layers import Dense, Dropout, GlobalAveragePooling2D\n",
    "from tensorflow.keras.optimizers import Adam\n",
    "\n",
    "# Choose the model architecture\n",
    "# Uncomment the one you want to use:\n",
    "#base_model = InceptionV3(weights='imagenet', include_top=False, input_shape=(224, 224, 3))\n",
    "base_model = DenseNet121(weights='imagenet', include_top=False, input_shape=(224, 224, 3))\n",
    "\n",
    "# Freeze the base model layers\n",
    "base_model.trainable = False\n",
    "\n",
    "# Add custom layers for regression\n",
    "x = base_model.output\n",
    "x = GlobalAveragePooling2D()(x)\n",
    "x = Dense(512, activation='relu')(x)\n",
    "x = Dropout(0.5)(x)\n",
    "x = Dense(256, activation='relu')(x)\n",
    "x = Dropout(0.5)(x)\n",
    "output = Dense(7, activation='linear')(x)  # 7 regression outputs\n",
    "\n",
    "# Define the full model\n",
    "model = Model(inputs=base_model.input, outputs=output)\n",
    "\n",
    "# Compile the model\n",
    "model.compile(optimizer=Adam(learning_rate=0.001), loss='mse', metrics=['mae'])\n",
    "\n",
    "# Model summary\n",
    "#model.summary()"
   ],
   "outputs": [],
   "execution_count": 5
  },
  {
   "metadata": {
    "ExecuteTime": {
     "end_time": "2024-11-23T15:08:24.650922Z",
     "start_time": "2024-11-23T14:57:05.832433Z"
    }
   },
   "cell_type": "code",
   "source": [
    "from tensorflow.keras.callbacks import EarlyStopping, ReduceLROnPlateau\n",
    "\n",
    "# Early stopping and learning rate scheduler\n",
    "early_stop = EarlyStopping(monitor='val_loss', patience=5, restore_best_weights=True)\n",
    "reduce_lr = ReduceLROnPlateau(monitor='val_loss', factor=0.5, patience=3)\n",
    "\n",
    "# Train the model\n",
    "history = model.fit(\n",
    "    X_train, y_train,\n",
    "    validation_data=(X_test, y_test),\n",
    "    epochs=20,\n",
    "    batch_size=32,\n",
    "    callbacks=[early_stop, reduce_lr]\n",
    ")"
   ],
   "id": "ec3406d69421c210",
   "outputs": [
    {
     "name": "stdout",
     "output_type": "stream",
     "text": [
      "Epoch 1/20\n",
      "\u001B[1m25/25\u001B[0m \u001B[32m━━━━━━━━━━━━━━━━━━━━\u001B[0m\u001B[37m\u001B[0m \u001B[1m63s\u001B[0m 2s/step - loss: 1.4290 - mae: 0.9937 - val_loss: 1.0004 - val_mae: 0.8700 - learning_rate: 0.0010\n",
      "Epoch 2/20\n",
      "\u001B[1m25/25\u001B[0m \u001B[32m━━━━━━━━━━━━━━━━━━━━\u001B[0m\u001B[37m\u001B[0m \u001B[1m79s\u001B[0m 2s/step - loss: 1.0179 - mae: 0.8674 - val_loss: 0.9964 - val_mae: 0.8679 - learning_rate: 0.0010\n",
      "Epoch 3/20\n",
      "\u001B[1m25/25\u001B[0m \u001B[32m━━━━━━━━━━━━━━━━━━━━\u001B[0m\u001B[37m\u001B[0m \u001B[1m57s\u001B[0m 2s/step - loss: 1.0231 - mae: 0.8750 - val_loss: 0.9930 - val_mae: 0.8676 - learning_rate: 0.0010\n",
      "Epoch 4/20\n",
      "\u001B[1m25/25\u001B[0m \u001B[32m━━━━━━━━━━━━━━━━━━━━\u001B[0m\u001B[37m\u001B[0m \u001B[1m52s\u001B[0m 2s/step - loss: 1.0389 - mae: 0.8848 - val_loss: 0.9939 - val_mae: 0.8680 - learning_rate: 0.0010\n",
      "Epoch 5/20\n",
      "\u001B[1m25/25\u001B[0m \u001B[32m━━━━━━━━━━━━━━━━━━━━\u001B[0m\u001B[37m\u001B[0m \u001B[1m52s\u001B[0m 2s/step - loss: 1.0243 - mae: 0.8746 - val_loss: 0.9924 - val_mae: 0.8684 - learning_rate: 0.0010\n",
      "Epoch 6/20\n",
      "\u001B[1m25/25\u001B[0m \u001B[32m━━━━━━━━━━━━━━━━━━━━\u001B[0m\u001B[37m\u001B[0m \u001B[1m51s\u001B[0m 2s/step - loss: 1.0022 - mae: 0.8647 - val_loss: 0.9935 - val_mae: 0.8680 - learning_rate: 0.0010\n",
      "Epoch 7/20\n",
      "\u001B[1m25/25\u001B[0m \u001B[32m━━━━━━━━━━━━━━━━━━━━\u001B[0m\u001B[37m\u001B[0m \u001B[1m58s\u001B[0m 2s/step - loss: 0.9892 - mae: 0.8587 - val_loss: 0.9941 - val_mae: 0.8681 - learning_rate: 0.0010\n",
      "Epoch 8/20\n",
      "\u001B[1m25/25\u001B[0m \u001B[32m━━━━━━━━━━━━━━━━━━━━\u001B[0m\u001B[37m\u001B[0m \u001B[1m75s\u001B[0m 3s/step - loss: 1.0001 - mae: 0.8648 - val_loss: 0.9934 - val_mae: 0.8681 - learning_rate: 0.0010\n",
      "Epoch 9/20\n",
      "\u001B[1m25/25\u001B[0m \u001B[32m━━━━━━━━━━━━━━━━━━━━\u001B[0m\u001B[37m\u001B[0m \u001B[1m93s\u001B[0m 4s/step - loss: 1.0062 - mae: 0.8685 - val_loss: 0.9936 - val_mae: 0.8680 - learning_rate: 5.0000e-04\n",
      "Epoch 10/20\n",
      "\u001B[1m25/25\u001B[0m \u001B[32m━━━━━━━━━━━━━━━━━━━━\u001B[0m\u001B[37m\u001B[0m \u001B[1m98s\u001B[0m 4s/step - loss: 0.9971 - mae: 0.8624 - val_loss: 0.9938 - val_mae: 0.8681 - learning_rate: 5.0000e-04\n"
     ]
    }
   ],
   "execution_count": 6
  },
  {
   "metadata": {
    "ExecuteTime": {
     "end_time": "2024-11-23T15:09:39.174848Z",
     "start_time": "2024-11-23T15:09:15.101691Z"
    }
   },
   "cell_type": "code",
   "source": [
    "import matplotlib.pyplot as plt\n",
    "\n",
    "# Evaluate on test data\n",
    "test_loss, test_mae = model.evaluate(X_test, y_test)\n",
    "print(f\"Test Loss: {test_loss}, Test MAE: {test_mae}\")\n",
    "\n",
    "# Plot training vs validation loss\n",
    "plt.plot(history.history['loss'], label='Training Loss')\n",
    "plt.plot(history.history['val_loss'], label='Validation Loss')\n",
    "plt.xlabel('Epochs')\n",
    "plt.ylabel('Loss (MSE)')\n",
    "plt.legend()\n",
    "plt.title('Training vs Validation Loss')\n",
    "plt.show()"
   ],
   "id": "da9e2698320bb017",
   "outputs": [
    {
     "name": "stdout",
     "output_type": "stream",
     "text": [
      "\u001B[1m7/7\u001B[0m \u001B[32m━━━━━━━━━━━━━━━━━━━━\u001B[0m\u001B[37m\u001B[0m \u001B[1m22s\u001B[0m 3s/step - loss: 0.9966 - mae: 0.8715\n",
      "Test Loss: 0.9923510551452637, Test MAE: 0.8683724999427795\n"
     ]
    },
    {
     "data": {
      "text/plain": [
       "<Figure size 640x480 with 1 Axes>"
      ],
      "image/png": "[encoded data removed]"
     },
     "metadata": {},
     "output_type": "display_data"
    }
   ],
   "execution_count": 7
  },
  {
   "metadata": {
    "jupyter": {
     "is_executing": true
    },
    "ExecuteTime": {
     "start_time": "2024-11-23T15:54:13.544396Z"
    }
   },
   "cell_type": "code",
   "source": [
    "# Unfreeze the base model for fine-tuning\n",
    "base_model.trainable = True\n",
    "\n",
    "# Recompile the model with a lower learning rate\n",
    "model.compile(optimizer=Adam(learning_rate=1e-5), loss='mse', metrics=['mae'])\n",
    "\n",
    "# Fine-tune the model\n",
    "fine_tune_history = model.fit(\n",
    "    X_train, y_train,\n",
    "    validation_data=(X_test, y_test),\n",
    "    epochs=10,\n",
    "    batch_size=32,\n",
    "    callbacks=[early_stop, reduce_lr]\n",
    ")\n",
    "\n",
    "# Plot fine-tuning training progress\n",
    "plt.plot(fine_tune_history.history['loss'], label='Training Loss')\n",
    "plt.plot(fine_tune_history.history['val_loss'], label='Validation Loss')\n",
    "plt.xlabel('Epochs')\n",
    "plt.ylabel('Loss (MSE)')\n",
    "plt.legend()\n",
    "plt.title('Fine-Tuning: Training vs Validation Loss')\n",
    "plt.show()"
   ],
   "id": "12a89f740474687c",
   "outputs": [
    {
     "name": "stdout",
     "output_type": "stream",
     "text": [
      "Epoch 1/10\n"
     ]
    }
   ],
   "execution_count": null
  },
  {
   "metadata": {},
   "cell_type": "code",
   "outputs": [],
   "execution_count": null,
   "source": [
    "# Make predictions on test data\n",
    "y_pred = model.predict(X_test)\n",
    "\n",
    "# Reverse scaling for true and predicted values\n",
    "y_test_original = scaler_y.inverse_transform(y_test)\n",
    "y_pred_original = scaler_y.inverse_transform(y_pred)\n",
    "\n",
    "# Visualize predictions\n",
    "def visualize_predictions(X, y_true, y_pred, num_samples=5):\n",
    "    for i in range(num_samples):\n",
    "        plt.figure(figsize=(12, 5))\n",
    "\n",
    "        # Show the image\n",
    "        plt.subplot(1, 2, 1)\n",
    "        plt.imshow(X[i])\n",
    "        plt.axis('off')\n",
    "        plt.title(\"Input Image\")\n",
    "\n",
    "        # Show true vs predicted values\n",
    "        plt.subplot(1, 2, 2)\n",
    "        indices = range(len(y_true[i]))\n",
    "        plt.bar(indices, y_true[i], alpha=0.6, label='True', color='blue')\n",
    "        plt.bar(indices, y_pred[i], alpha=0.6, label='Predicted', color='orange')\n",
    "        plt.xticks(indices, ['Calories', 'Proteins', 'Fat', 'Glucose', 'Cholesterol', 'Water', 'Energy'])\n",
    "        plt.legend()\n",
    "        plt.title(\"True vs Predicted Values\")\n",
    "\n",
    "        plt.show()\n",
    "\n",
    "# Visualize predictions for test samples\n",
    "visualize_predictions(X_test, y_test_original, y_pred_original)"
   ],
   "id": "54743939d89db57"
  },
  {
   "metadata": {},
   "cell_type": "code",
   "outputs": [],
   "execution_count": null,
   "source": [
    "# let user input image path\n",
    "image_path = input(\"Enter the path of the image: \")\n",
    "\n",
    "# Preprocess the input image\n",
    "original_image, preprocessed_image = preprocess_image(image_path)\n",
    "\n",
    "# Predict nutritional values\n",
    "predicted_values = model.predict(preprocessed_image)\n",
    "\n",
    "# Nutritional value labels\n",
    "nutritional_labels = ['calories', 'proteins', 'total_fat',\n",
    "                       'glucose', 'cholesterol', 'water', 'Energy (Kcal)']\n",
    "\n",
    "# Displaying the image and the predictions\n",
    "fig, ax = plt.subplots(1, 2, figsize=(15, 6))\n",
    "\n",
    "# Display the image\n",
    "ax[0].imshow(original_image)\n",
    "ax[0].axis('off')\n",
    "ax[0].set_title(\"Input Image\")\n",
    "\n",
    "# Display the predicted values\n",
    "ax[1].axis('off')\n",
    "ax[1].text(0.5, 0.8, \"Predicted Nutritional Values\", ha='center', va='center', fontsize=16, fontweight='bold')\n",
    "\n",
    "# Display each label and value\n",
    "for idx, (label, value) in enumerate(zip(nutritional_labels, predicted_values[0])):\n",
    "    ax[1].text(0.5, 0.7 - (idx * 0.1), f\"{label}: {value:.2f}\", ha='center', va='center', fontsize=12)\n",
    "\n",
    "plt.show()\n",
    "\n",
    "# Bar plot of nutritional values\n",
    "fig, ax = plt.subplots(figsize=(10, 6))\n",
    "ax.barh(nutritional_labels, predicted_values[0], color='skyblue')\n",
    "\n",
    "# Display the plot\n",
    "plt.show()\n"
   ],
   "id": "5d191dfcd1cc7bea"
  },
  {
   "metadata": {},
   "cell_type": "code",
   "outputs": [],
   "execution_count": null,
   "source": [
    "# Save the model\n",
    "model.save(\"004_nutritional_value_model.h5\")"
   ],
   "id": "d3985b62d7748305"
  },
  {
   "metadata": {},
   "cell_type": "code",
   "outputs": [],
   "execution_count": null,
   "source": [
    "import numpy as np\n",
    "\n",
    "# Define accuracy metric for regression\n",
    "def regression_accuracy(y_true, y_pred, tolerance=0.1):\n",
    "    relative_error = np.abs((y_true - y_pred) / y_true)  # Relative error\n",
    "    accurate_predictions = np.sum(relative_error <= tolerance)  # Predictions within tolerance\n",
    "    accuracy = (accurate_predictions / len(y_true)) * 100  # Percentage accuracy\n",
    "    return accuracy\n",
    "\n",
    "y_train_pred_densenet = model.predict(X_train)\n",
    "y_test_pred_densenet = .predict(X_test)\n",
    "\n",
    "train_accuracy_densenet = regression_accuracy(y_train, y_train_pred_densenet)\n",
    "test_accuracy_densenet = regression_accuracy(y_test, y_test_pred_densenet)\n",
    "print(f\"DenseNet121 - Train Accuracy: {train_accuracy_densenet:.2f}%, Test Accuracy: {test_accuracy_densenet:.2f}%\")"
   ],
   "id": "bb9b5ba8b988d042"
  }
 ],
 "metadata": {
  "kernelspec": {
   "display_name": "Python 3",
   "language": "python",
   "name": "python3"
  },
  "language_info": {
   "codemirror_mode": {
    "name": "ipython",
    "version": 2
   },
   "file_extension": ".py",
   "mimetype": "text/x-python",
   "name": "python",
   "nbconvert_exporter": "python",
   "pygments_lexer": "ipython2",
   "version": "2.7.6"
  }
 },
 "nbformat": 4,
 "nbformat_minor": 5
}
