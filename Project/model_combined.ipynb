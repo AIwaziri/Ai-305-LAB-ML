{
 "cells": [
  {
   "metadata": {
    "ExecuteTime": {
     "end_time": "2024-11-25T09:48:37.437583Z",
     "start_time": "2024-11-25T09:48:29.564308Z"
    }
   },
   "cell_type": "code",
   "source": [
    "import os\n",
    "import pandas as pd\n",
    "import numpy as np\n",
    "from tensorflow.keras.preprocessing.image import ImageDataGenerator, load_img, img_to_array\n",
    "\n",
    "# Load the nutritional CSV file\n",
    "nutritional_data = pd.read_csv('nutritional_values.csv')\n",
    "\n",
    "# Preprocess the images and labels\n",
    "def load_and_preprocess_images(image_paths):\n",
    "    images = []\n",
    "    for path in image_paths:\n",
    "        img_path = 'Dates/' + path + \".jpg\"  # Ensure the correct extension\n",
    "        if os.path.exists(img_path):  # Check if the image file exists\n",
    "            img = load_img(img_path, target_size=(224, 224))\n",
    "            img = img_to_array(img)\n",
    "            images.append(img)\n",
    "        else:\n",
    "            print(f\"Image {img_path} not found, skipping...\")\n",
    "    return np.array(images)\n",
    "\n",
    "# Preprocess the training and testing images\n",
    "train_images = load_and_preprocess_images(nutritional_data['image_id'].values )  # Example image paths in your dataset\n",
    "train_labels = nutritional_data[['calories', 'proteins', 'total_fat', 'glucose', 'cholesterol', 'water', 'Energy (Kcal)']].values\n",
    "\n",
    "# Split data into train and test sets (you can use sklearn or any other splitting method)\n",
    "from sklearn.model_selection import train_test_split\n",
    "X_train, X_test, y_train, y_test = train_test_split(train_images, train_labels, test_size=0.2, random_state=42)"
   ],
   "id": "26f6bbf66ef2d785",
   "outputs": [],
   "execution_count": 1
  },
  {
   "metadata": {
    "ExecuteTime": {
     "end_time": "2024-11-25T09:48:45.950349Z",
     "start_time": "2024-11-25T09:48:45.947748Z"
    }
   },
   "cell_type": "code",
   "source": [
    "print(len(train_images))\n",
    "print(len(train_labels))"
   ],
   "id": "7e07961e2985a360",
   "outputs": [
    {
     "name": "stdout",
     "output_type": "stream",
     "text": [
      "2707\n",
      "2707\n"
     ]
    }
   ],
   "execution_count": 2
  },
  {
   "metadata": {
    "collapsed": true,
    "ExecuteTime": {
     "end_time": "2024-11-25T09:56:09.783154Z",
     "start_time": "2024-11-25T09:48:55.263124Z"
    }
   },
   "cell_type": "code",
   "source": [
    "from sklearn.linear_model import LinearRegression\n",
    "\n",
    "# Flatten the image data\n",
    "X_train_flat = X_train.reshape(X_train.shape[0], -1)\n",
    "X_test_flat = X_test.reshape(X_test.shape[0], -1)\n",
    "\n",
    "# Initialize and train Linear Regression\n",
    "lr_model = LinearRegression()\n",
    "lr_model.fit(X_train_flat, y_train)\n",
    "\n",
    "# Predictions on train and test data\n",
    "lr_preds_train = lr_model.predict(X_train_flat)\n",
    "lr_preds_test = lr_model.predict(X_test_flat)"
   ],
   "id": "initial_id",
   "outputs": [],
   "execution_count": 3
  },
  {
   "metadata": {
    "jupyter": {
     "is_executing": true
    },
    "ExecuteTime": {
     "start_time": "2024-11-23T16:39:41.938866Z"
    }
   },
   "cell_type": "code",
   "source": [
    "from sklearn.ensemble import RandomForestRegressor\n",
    "\n",
    "# Flatten the image data\n",
    "X_train_flat = X_train.reshape(X_train.shape[0], -1)\n",
    "X_test_flat = X_test.reshape(X_test.shape[0], -1)\n",
    "\n",
    "# Initialize and train Random Forest Regressor\n",
    "rf_model = RandomForestRegressor(n_estimators=100)\n",
    "rf_model.fit(X_train_flat, y_train)\n",
    "\n",
    "# Predictions on train and test data\n",
    "rf_preds_train = rf_model.predict(X_train_flat)\n",
    "rf_preds_test = rf_model.predict(X_test_flat)"
   ],
   "id": "3f97ffd4c4b1dd2c",
   "outputs": [],
   "execution_count": null
  },
  {
   "metadata": {},
   "cell_type": "code",
   "outputs": [],
   "execution_count": null,
   "source": [
    "from Project.model004 import model as densenet_model\n",
    "from Project.model1 import model as resnet_model\n",
    "from Project.model003 import model as efficientnet_model\n",
    "\n",
    "\n",
    "# Generate predictions from ResNet50, EfficientNetB0, and DenseNet121\n",
    "\n",
    "resnet_preds_train = resnet_model.predict(X_train)\n",
    "resnet_preds_test = resnet_model.predict(X_test)\n",
    "\n",
    "efficientnet_preds_train = efficientnet_model.predict(X_train)\n",
    "efficientnet_preds_test = efficientnet_model.predict(X_test)\n",
    "\n",
    "densenet_preds_train = densenet_model.predict(X_train)\n",
    "densenet_preds_test = densenet_model.predict(X_test)"
   ],
   "id": "7a35622087afc661"
  }
 ],
 "metadata": {
  "kernelspec": {
   "display_name": "Python 3",
   "language": "python",
   "name": "python3"
  },
  "language_info": {
   "codemirror_mode": {
    "name": "ipython",
    "version": 2
   },
   "file_extension": ".py",
   "mimetype": "text/x-python",
   "name": "python",
   "nbconvert_exporter": "python",
   "pygments_lexer": "ipython2",
   "version": "2.7.6"
  }
 },
 "nbformat": 4,
 "nbformat_minor": 5
}
