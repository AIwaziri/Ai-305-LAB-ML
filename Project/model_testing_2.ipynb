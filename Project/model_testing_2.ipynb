{
 "cells": [
  {
   "cell_type": "code",
   "execution_count": null,
   "id": "initial_id",
   "metadata": {
    "collapsed": true
   },
   "outputs": [],
   "source": [
    "import os\n",
    "import numpy as np\n",
    "import matplotlib.pyplot as plt\n",
    "from PIL import Image\n",
    "from tensorflow.keras.preprocessing.image import img_to_array\n",
    "from tensorflow.keras.models import load_model"
   ]
  },
  {
   "metadata": {},
   "cell_type": "code",
   "outputs": [],
   "execution_count": null,
   "source": [
    "# Load the pre-trained model (Make sure to replace 'your_model.h5' with your actual model path)\n",
    "model = load_model('your_model.h5')"
   ],
   "id": "4d5ce0b8c13b230a"
  },
  {
   "metadata": {},
   "cell_type": "code",
   "outputs": [],
   "execution_count": null,
   "source": [
    "def preprocess_and_predict(image_path, model):\n",
    "    # Load and resize the image\n",
    "    img = Image.open(image_path)\n",
    "    img_resized = img.resize((224, 224))  # Resize to match model input size\n",
    "    img_array = img_to_array(img_resized) / 255.0  # Normalize the image\n",
    "    img_array = np.expand_dims(img_array, axis=0)  # Add batch dimension\n",
    "\n",
    "    # Make prediction\n",
    "    predicted_values = model.predict(img_array)\n",
    "\n",
    "    # Extract predicted nutritional values (Example: Calories, Carbs, Proteins, Fats)\n",
    "    calories = predicted_values[0][0]\n",
    "    carbohydrates = predicted_values[0][1]\n",
    "    proteins = predicted_values[0][2]\n",
    "    fats = predicted_values[0][3]\n",
    "\n",
    "    return img_resized, calories, carbohydrates, proteins, fats"
   ],
   "id": "3f59ff559ff35b62"
  },
  {
   "metadata": {},
   "cell_type": "code",
   "outputs": [],
   "execution_count": null,
   "source": [
    "def visualize_image_with_predictions(image_path, model):\n",
    "    # Preprocess the image and get predictions\n",
    "    img_resized, calories, carbohydrates, proteins, fats = preprocess_and_predict(image_path, model)\n",
    "\n",
    "    # Visualize the image\n",
    "    plt.figure(figsize=(6, 6))\n",
    "    plt.imshow(img_resized)\n",
    "    plt.axis('off')  # Hide axes\n",
    "\n",
    "    # Create a heading with predicted nutritional values\n",
    "    plt.title(f\"Predicted Nutritional Values:\\nCalories: {calories:.2f} kcal\\nCarbs: {carbohydrates:.2f} g\\nProteins: {proteins:.2f} g\\nFats: {fats:.2f} g\", fontsize=12)\n",
    "\n",
    "    plt.show()"
   ],
   "id": "e68efaacefc69ddc"
  },
  {
   "metadata": {},
   "cell_type": "code",
   "outputs": [],
   "execution_count": null,
   "source": [
    "# Example usage:\n",
    "image_path = 'path_to_your_image.jpg'  # Provide the path to your image\n",
    "visualize_image_with_predictions(image_path, model)"
   ],
   "id": "700bf53b59fb361b"
  },
  {
   "metadata": {},
   "cell_type": "code",
   "outputs": [],
   "execution_count": null,
   "source": "",
   "id": "7635ba2952d61cb4"
  }
 ],
 "metadata": {
  "kernelspec": {
   "display_name": "Python 3",
   "language": "python",
   "name": "python3"
  },
  "language_info": {
   "codemirror_mode": {
    "name": "ipython",
    "version": 2
   },
   "file_extension": ".py",
   "mimetype": "text/x-python",
   "name": "python",
   "nbconvert_exporter": "python",
   "pygments_lexer": "ipython2",
   "version": "2.7.6"
  }
 },
 "nbformat": 4,
 "nbformat_minor": 5
}
