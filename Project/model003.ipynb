{
 "cells": [
  {
   "metadata": {
    "ExecuteTime": {
     "end_time": "2024-11-25T08:33:48.718187Z",
     "start_time": "2024-11-25T08:33:42.252229Z"
    }
   },
   "cell_type": "code",
   "source": [
    "import os\n",
    "import numpy as np\n",
    "import pandas as pd\n",
    "from tensorflow.keras.preprocessing.image import load_img, img_to_array\n",
    "from sklearn.model_selection import train_test_split\n",
    "from sklearn.preprocessing import MinMaxScaler\n",
    "\n",
    "# File paths\n",
    "csv_path = \"nutritional_values.csv\"\n",
    "images_folder = \"Dates/\"\n",
    "\n",
    "# Load nutritional values\n",
    "df = pd.read_csv(csv_path)\n",
    "\n",
    "# Ensure required columns\n",
    "required_columns = ['image_id', 'calories', 'proteins', 'total_fat', 'glucose', 'cholesterol', 'water', 'Energy (Kcal)']\n",
    "if not all(col in df.columns for col in required_columns):\n",
    "    raise ValueError(f\"CSV must contain columns: {', '.join(required_columns)}\")\n",
    "\n",
    "# Preprocessing: Load images and normalize nutritional values\n",
    "X = []\n",
    "y = []\n",
    "missing_images = 0\n",
    "\n",
    "for _, row in df.iterrows():\n",
    "    image_path = os.path.join(images_folder, row['image_id'] + \".jpg\")\n",
    "    if os.path.exists(image_path):\n",
    "        # Load image, resize to 224x224 for transfer learning models\n",
    "        image = load_img(image_path, target_size=(224, 224))\n",
    "        image = img_to_array(image) / 255.0  # Normalize pixel values\n",
    "        X.append(image)\n",
    "\n",
    "        # Extract nutritional values\n",
    "        y.append(row[['calories', 'proteins', 'total_fat', 'glucose', 'cholesterol', 'water', 'Energy (Kcal)']].values)\n",
    "    else:\n",
    "        missing_images += 1\n",
    "\n",
    "print(f\"Missing images: {missing_images}\")\n",
    "X = np.array(X)\n",
    "y = np.array(y)\n",
    "\n",
    "# Normalize the target values using MinMaxScaler\n",
    "scaler_y = MinMaxScaler()\n",
    "y = scaler_y.fit_transform(y)\n",
    "\n",
    "# Split the dataset\n",
    "X_train, X_test, y_train, y_test = train_test_split(X, y, test_size=0.2, random_state=42)\n",
    "print(f\"Training samples: {X_train.shape[0]}, Testing samples: {X_test.shape[0]}\")"
   ],
   "id": "32bdabd6b37f4588",
   "outputs": [
    {
     "name": "stdout",
     "output_type": "stream",
     "text": [
      "Missing images: 0\n",
      "Training samples: 2165, Testing samples: 542\n"
     ]
    }
   ],
   "execution_count": 1
  },
  {
   "metadata": {
    "ExecuteTime": {
     "end_time": "2024-11-25T08:34:02.664037Z",
     "start_time": "2024-11-25T08:34:02.151142Z"
    }
   },
   "cell_type": "code",
   "source": [
    "from tensorflow.keras.applications import EfficientNetB0\n",
    "from tensorflow.keras.models import Model\n",
    "from tensorflow.keras.layers import Dense, Dropout, GlobalAveragePooling2D\n",
    "from tensorflow.keras.optimizers import Adam\n",
    "\n",
    "# Load the pretrained EfficientNetB0 model\n",
    "base_model = EfficientNetB0(weights='imagenet', include_top=False, input_shape=(224, 224, 3))\n",
    "\n",
    "# Freeze the base model (fine-tune later if needed)\n",
    "base_model.trainable = False\n",
    "\n",
    "# Add custom dense layers for regression\n",
    "x = base_model.output\n",
    "x = GlobalAveragePooling2D()(x)\n",
    "x = Dense(256, activation='relu')(x)\n",
    "x = Dropout(0.5)(x)\n",
    "x = Dense(128, activation='relu')(x)\n",
    "x = Dropout(0.5)(x)\n",
    "output = Dense(7, activation='linear')(x)  # 7 regression outputs\n",
    "\n",
    "# Define the full model\n",
    "model = Model(inputs=base_model.input, outputs=output)\n",
    "\n",
    "# Compile the model\n",
    "model.compile(optimizer=Adam(learning_rate=0.001), loss='mse', metrics=['mae'])\n",
    "\n",
    "# Model summary\n",
    "#model.summary()"
   ],
   "id": "c3d254477388e4bf",
   "outputs": [],
   "execution_count": 2
  },
  {
   "metadata": {
    "ExecuteTime": {
     "end_time": "2024-11-25T10:05:47.915005Z",
     "start_time": "2024-11-25T09:49:37.567095Z"
    }
   },
   "cell_type": "code",
   "source": [
    "from tensorflow.keras.callbacks import EarlyStopping, ReduceLROnPlateau\n",
    "\n",
    "# Early stopping to avoid overfitting\n",
    "early_stop = EarlyStopping(monitor='val_loss', patience=5, restore_best_weights=True)\n",
    "\n",
    "# Reduce learning rate on plateau\n",
    "reduce_lr = ReduceLROnPlateau(monitor='val_loss', factor=0.5, patience=3)\n",
    "\n",
    "# Train the model\n",
    "history = model.fit(\n",
    "    X_train, y_train,\n",
    "    validation_data=(X_test, y_test),\n",
    "    epochs=50,\n",
    "    batch_size=32,\n",
    "    callbacks=[early_stop, reduce_lr]\n",
    ")"
   ],
   "id": "8e4bb5fc8c223b03",
   "outputs": [
    {
     "name": "stdout",
     "output_type": "stream",
     "text": [
      "Epoch 1/50\n",
      "\u001B[1m68/68\u001B[0m \u001B[32m━━━━━━━━━━━━━━━━━━━━\u001B[0m\u001B[37m\u001B[0m \u001B[1m280s\u001B[0m 4s/step - loss: 0.3834 - mae: 0.4687 - val_loss: 0.1041 - val_mae: 0.2563 - learning_rate: 5.0000e-06\n",
      "Epoch 2/50\n",
      "\u001B[1m68/68\u001B[0m \u001B[32m━━━━━━━━━━━━━━━━━━━━\u001B[0m\u001B[37m\u001B[0m \u001B[1m178s\u001B[0m 3s/step - loss: 0.2397 - mae: 0.3756 - val_loss: 0.1076 - val_mae: 0.2612 - learning_rate: 5.0000e-06\n",
      "Epoch 3/50\n",
      "\u001B[1m68/68\u001B[0m \u001B[32m━━━━━━━━━━━━━━━━━━━━\u001B[0m\u001B[37m\u001B[0m \u001B[1m129s\u001B[0m 2s/step - loss: 0.1760 - mae: 0.3297 - val_loss: 0.1382 - val_mae: 0.2925 - learning_rate: 5.0000e-06\n",
      "Epoch 4/50\n",
      "\u001B[1m68/68\u001B[0m \u001B[32m━━━━━━━━━━━━━━━━━━━━\u001B[0m\u001B[37m\u001B[0m \u001B[1m138s\u001B[0m 2s/step - loss: 0.1560 - mae: 0.3116 - val_loss: 0.1617 - val_mae: 0.3152 - learning_rate: 5.0000e-06\n",
      "Epoch 5/50\n",
      "\u001B[1m68/68\u001B[0m \u001B[32m━━━━━━━━━━━━━━━━━━━━\u001B[0m\u001B[37m\u001B[0m \u001B[1m122s\u001B[0m 2s/step - loss: 0.1501 - mae: 0.3061 - val_loss: 0.1537 - val_mae: 0.3094 - learning_rate: 2.5000e-06\n",
      "Epoch 6/50\n",
      "\u001B[1m68/68\u001B[0m \u001B[32m━━━━━━━━━━━━━━━━━━━━\u001B[0m\u001B[37m\u001B[0m \u001B[1m118s\u001B[0m 2s/step - loss: 0.1408 - mae: 0.2979 - val_loss: 0.1459 - val_mae: 0.3042 - learning_rate: 2.5000e-06\n"
     ]
    }
   ],
   "execution_count": 7
  },
  {
   "metadata": {
    "ExecuteTime": {
     "end_time": "2024-11-25T10:08:06.041887Z",
     "start_time": "2024-11-25T10:08:00.299390Z"
    }
   },
   "cell_type": "code",
   "source": [
    "import matplotlib.pyplot as plt\n",
    "\n",
    "# Evaluate on test data\n",
    "test_loss, test_mae = model.evaluate(X_test, y_test)\n",
    "print(f\"Test Loss: {test_loss}, Test MAE: {test_mae}\")\n",
    "\n",
    "# Plot training vs validation loss\n",
    "plt.plot(history.history['loss'], label='Training Loss')\n",
    "plt.plot(history.history['val_loss'], label='Validation Loss')\n",
    "plt.xlabel('Epochs')\n",
    "plt.ylabel('Loss (MSE)')\n",
    "plt.legend()\n",
    "plt.title('Training vs Validation Loss')\n",
    "plt.show()"
   ],
   "id": "96a05c8a12550be9",
   "outputs": [
    {
     "name": "stdout",
     "output_type": "stream",
     "text": [
      "\u001B[1m17/17\u001B[0m \u001B[32m━━━━━━━━━━━━━━━━━━━━\u001B[0m\u001B[37m\u001B[0m \u001B[1m5s\u001B[0m 319ms/step - loss: 0.1038 - mae: 0.2557\n",
      "Test Loss: 0.10409577935934067, Test MAE: 0.2562992572784424\n"
     ]
    },
    {
     "data": {
      "text/plain": [
       "<Figure size 640x480 with 1 Axes>"
      ],
      "image/png": "[encoded data removed]"
     },
     "metadata": {},
     "output_type": "display_data"
    }
   ],
   "execution_count": 8
  },
  {
   "metadata": {
    "ExecuteTime": {
     "end_time": "2024-11-25T10:19:18.985942Z",
     "start_time": "2024-11-25T10:08:16.675001Z"
    }
   },
   "cell_type": "code",
   "source": [
    "# Unfreeze the base model for fine-tuning\n",
    "base_model.trainable = True\n",
    "\n",
    "# Recompile with a lower learning rate\n",
    "model.compile(optimizer=Adam(learning_rate=1e-5), loss='mse', metrics=['mae'])\n",
    "\n",
    "# Fine-tune the model\n",
    "fine_tune_history = model.fit(\n",
    "    X_train, y_train,\n",
    "    validation_data=(X_test, y_test),\n",
    "    epochs=10,\n",
    "    batch_size=32,\n",
    "    callbacks=[early_stop, reduce_lr]\n",
    ")\n",
    "\n",
    "# Plot fine-tuning training progress\n",
    "plt.plot(fine_tune_history.history['loss'], label='Training Loss')\n",
    "plt.plot(fine_tune_history.history['val_loss'], label='Validation Loss')\n",
    "plt.xlabel('Epochs')\n",
    "plt.ylabel('Loss (MSE)')\n",
    "plt.legend()\n",
    "plt.title('Fine-Tuning: Training vs Validation Loss')\n",
    "plt.show()"
   ],
   "id": "c5084c838b83927d",
   "outputs": [
    {
     "name": "stdout",
     "output_type": "stream",
     "text": [
      "Epoch 1/10\n",
      "\u001B[1m68/68\u001B[0m \u001B[32m━━━━━━━━━━━━━━━━━━━━\u001B[0m\u001B[37m\u001B[0m \u001B[1m136s\u001B[0m 2s/step - loss: 0.1878 - mae: 0.3369 - val_loss: 0.1064 - val_mae: 0.2595 - learning_rate: 1.0000e-05\n",
      "Epoch 2/10\n",
      "\u001B[1m68/68\u001B[0m \u001B[32m━━━━━━━━━━━━━━━━━━━━\u001B[0m\u001B[37m\u001B[0m \u001B[1m151s\u001B[0m 2s/step - loss: 0.1308 - mae: 0.2886 - val_loss: 0.1208 - val_mae: 0.2763 - learning_rate: 1.0000e-05\n",
      "Epoch 3/10\n",
      "\u001B[1m68/68\u001B[0m \u001B[32m━━━━━━━━━━━━━━━━━━━━\u001B[0m\u001B[37m\u001B[0m \u001B[1m127s\u001B[0m 2s/step - loss: 0.1168 - mae: 0.2719 - val_loss: 0.1246 - val_mae: 0.2811 - learning_rate: 1.0000e-05\n",
      "Epoch 4/10\n",
      "\u001B[1m68/68\u001B[0m \u001B[32m━━━━━━━━━━━━━━━━━━━━\u001B[0m\u001B[37m\u001B[0m \u001B[1m118s\u001B[0m 2s/step - loss: 0.1128 - mae: 0.2673 - val_loss: 0.1167 - val_mae: 0.2730 - learning_rate: 1.0000e-05\n",
      "Epoch 5/10\n",
      "\u001B[1m68/68\u001B[0m \u001B[32m━━━━━━━━━━━━━━━━━━━━\u001B[0m\u001B[37m\u001B[0m \u001B[1m130s\u001B[0m 2s/step - loss: 0.1105 - mae: 0.2649 - val_loss: 0.1151 - val_mae: 0.2719 - learning_rate: 5.0000e-06\n"
     ]
    },
    {
     "data": {
      "text/plain": [
       "<Figure size 640x480 with 1 Axes>"
      ],
      "image/png": "[encoded data removed]"
     },
     "metadata": {},
     "output_type": "display_data"
    }
   ],
   "execution_count": 9
  },
  {
   "metadata": {
    "ExecuteTime": {
     "end_time": "2024-12-02T18:24:15.281953Z",
     "start_time": "2024-12-02T18:24:15.267608Z"
    }
   },
   "cell_type": "code",
   "source": [
    "# Make predictions on test data\n",
    "y_pred = model.predict(X_test)\n",
    "\n",
    "# Reverse scale for true values\n",
    "y_test_original = scaler_y.inverse_transform(y_test)\n",
    "y_pred_original = scaler_y.inverse_transform(y_pred)\n",
    "\n",
    "# Visualize predictions for the first few samples\n",
    "def visualize_predictions(X, y_true, y_pred, num_samples=5):\n",
    "    for i in range(num_samples):\n",
    "        plt.figure(figsize=(12, 5))\n",
    "\n",
    "        # Show the image\n",
    "        plt.subplot(1, 2, 1)\n",
    "        plt.imshow(X[i])\n",
    "        plt.axis('off')\n",
    "        plt.title(\"Input Image\")\n",
    "\n",
    "        # Show true vs predicted values\n",
    "        plt.subplot(1, 2, 2)\n",
    "        indices = range(len(y_true[i]))\n",
    "        plt.bar(indices, y_true[i], alpha=0.6, label='True', color='blue')\n",
    "        plt.bar(indices, y_pred[i], alpha=0.6, label='Predicted', color='orange')\n",
    "        plt.xticks(indices, ['Calories', 'Proteins', 'Fat', 'Glucose', 'Cholesterol', 'Water', 'Energy'])\n",
    "        plt.legend()\n",
    "        plt.title(\"True vs Predicted Values\")\n",
    "\n",
    "        plt.show()\n",
    "\n",
    "visualize_predictions(X_test, y_test_original, y_pred_original)"
   ],
   "id": "afac836f0ef73b93",
   "outputs": [
    {
     "ename": "NameError",
     "evalue": "name 'model' is not defined",
     "output_type": "error",
     "traceback": [
      "\u001B[0;31m---------------------------------------------------------------------------\u001B[0m",
      "\u001B[0;31mNameError\u001B[0m                                 Traceback (most recent call last)",
      "Cell \u001B[0;32mIn[3], line 2\u001B[0m\n\u001B[1;32m      1\u001B[0m \u001B[38;5;66;03m# Make predictions on test data\u001B[39;00m\n\u001B[0;32m----> 2\u001B[0m y_pred \u001B[38;5;241m=\u001B[39m \u001B[43mmodel\u001B[49m\u001B[38;5;241m.\u001B[39mpredict(X_test)\n\u001B[1;32m      4\u001B[0m \u001B[38;5;66;03m# Reverse scale for true values\u001B[39;00m\n\u001B[1;32m      5\u001B[0m y_test_original \u001B[38;5;241m=\u001B[39m scaler_y\u001B[38;5;241m.\u001B[39minverse_transform(y_test)\n",
      "\u001B[0;31mNameError\u001B[0m: name 'model' is not defined"
     ]
    }
   ],
   "execution_count": 3
  },
  {
   "metadata": {
    "ExecuteTime": {
     "end_time": "2024-12-02T18:24:01.948111Z",
     "start_time": "2024-12-02T18:24:01.931834Z"
    }
   },
   "cell_type": "code",
   "source": [
    "image_path = \"Dates/Saqi_005.jpg\"\n",
    "image = load_img(image_path, target_size=(224, 224))\n",
    "image = img_to_array(image) / 255.0\n",
    "\n",
    "# Predict the nutritional values\n",
    "nutritional_values = model.predict(np.expand_dims(image, axis=0))\n",
    "nutritional_values = scaler_y.inverse_transform(nutritional_values)\n",
    "\n",
    "# Display the nutritional values\n",
    "print(\"Predicted Nutritional Values:\")\n",
    "print(f\"Calories: {nutritional_values[0][0]:.2f}\")\n",
    "print(f\"Proteins: {nutritional_values[0][1]:.2f}\")\n",
    "print(f\"Total Fat: {nutritional_values[0][2]:.2f}\")\n",
    "print(f\"Glucose: {nutritional_values[0][3]:.2f}\")\n",
    "print(f\"Cholesterol: {nutritional_values[0][4]:.2f}\")\n",
    "print(f\"Water: {nutritional_values[0][5]:.2f}\")\n",
    "print(f\"Energy: {nutritional_values[0][6]:.2f}\")\n",
    "\n",
    "\n",
    "\n",
    "# Plot predicted and actual images side by side\n",
    "plt.figure(figsize=(12, 5))\n",
    "\n",
    "# Show image (unflatten and reshape to 64x64)\n",
    "plt.subplot(1, 2, 1)\n",
    "plt.imshow(load_img(image_path))\n",
    "plt.axis('off')\n",
    "plt.title(\"Input Image\")\n",
    "\n",
    "# Show true vs predicted values\n",
    "plt.subplot(1, 2, 2)\n",
    "indices = range(len(nutritional_values[0]))\n",
    "plt.bar(indices, nutritional_values[0], alpha=0.6, label='Predicted', color='orange')\n",
    "plt.xticks(indices, ['Calories', 'Proteins', 'Fat', 'Glucose', 'Cholesterol', 'Water', 'Energy'])\n",
    "plt.title(\"Predicted Nutritional Values\")\n",
    "\n",
    "plt.show()\n",
    "\n"
   ],
   "id": "a33df8433e1aa460",
   "outputs": [
    {
     "ename": "NameError",
     "evalue": "name 'load_img' is not defined",
     "output_type": "error",
     "traceback": [
      "\u001B[0;31m---------------------------------------------------------------------------\u001B[0m",
      "\u001B[0;31mNameError\u001B[0m                                 Traceback (most recent call last)",
      "Cell \u001B[0;32mIn[2], line 2\u001B[0m\n\u001B[1;32m      1\u001B[0m image_path \u001B[38;5;241m=\u001B[39m \u001B[38;5;124m\"\u001B[39m\u001B[38;5;124mDates/Saqi_005.jpg\u001B[39m\u001B[38;5;124m\"\u001B[39m\n\u001B[0;32m----> 2\u001B[0m image \u001B[38;5;241m=\u001B[39m \u001B[43mload_img\u001B[49m(image_path, target_size\u001B[38;5;241m=\u001B[39m(\u001B[38;5;241m224\u001B[39m, \u001B[38;5;241m224\u001B[39m))\n\u001B[1;32m      3\u001B[0m image \u001B[38;5;241m=\u001B[39m img_to_array(image) \u001B[38;5;241m/\u001B[39m \u001B[38;5;241m255.0\u001B[39m\n\u001B[1;32m      5\u001B[0m \u001B[38;5;66;03m# Predict the nutritional values\u001B[39;00m\n",
      "\u001B[0;31mNameError\u001B[0m: name 'load_img' is not defined"
     ]
    }
   ],
   "execution_count": 2
  },
  {
   "metadata": {
    "ExecuteTime": {
     "end_time": "2024-11-23T15:11:38.904386Z",
     "start_time": "2024-11-23T15:11:38.072027Z"
    }
   },
   "cell_type": "code",
   "source": [
    "# Save the model\n",
    "model.save(\"003_efficientnet_model.h5\")"
   ],
   "id": "addd2f8c3ab58583",
   "outputs": [
    {
     "name": "stderr",
     "output_type": "stream",
     "text": [
      "WARNING:absl:You are saving your model as an HDF5 file via `model.save()` or `keras.saving.save_model(model)`. This file format is considered legacy. We recommend using instead the native Keras format, e.g. `model.save('my_model.keras')` or `keras.saving.save_model(model, 'my_model.keras')`. \n"
     ]
    }
   ],
   "execution_count": 76
  },
  {
   "metadata": {
    "ExecuteTime": {
     "end_time": "2024-11-23T15:40:35.545810Z",
     "start_time": "2024-11-23T15:38:39.293257Z"
    }
   },
   "cell_type": "code",
   "source": [
    "import numpy as np\n",
    "\n",
    "# Define accuracy metric for regression\n",
    "def regression_accuracy(y_true, y_pred, tolerance=0.1):\n",
    "    # Calculate relative error\n",
    "    relative_error = np.abs((y_true - y_pred) / y_true)\n",
    "    # Count predictions within the tolerance range\n",
    "    accurate_predictions = np.sum(relative_error <= tolerance)\n",
    "    # Calculate accuracy as a percentage\n",
    "    accuracy = (accurate_predictions / len(y_true)) * 100\n",
    "    return accuracy\n",
    "\n",
    "# Example usage\n",
    "y_train_pred = model.predict(X_train)  # Predictions on training set\n",
    "y_test_pred = model.predict(X_test)    # Predictions on testing set\n",
    "\n",
    "train_accuracy = regression_accuracy(y_train, y_train_pred)\n",
    "test_accuracy = regression_accuracy(y_test, y_test_pred)\n",
    "\n",
    "print(f\"Train Accuracy: {train_accuracy:.2f}%\")\n",
    "print(f\"Test Accuracy: {test_accuracy:.2f}%\")"
   ],
   "id": "eea089da507f314",
   "outputs": [
    {
     "name": "stdout",
     "output_type": "stream",
     "text": [
      "\u001B[1m68/68\u001B[0m \u001B[32m━━━━━━━━━━━━━━━━━━━━\u001B[0m\u001B[37m\u001B[0m \u001B[1m90s\u001B[0m 1s/step\n",
      "\u001B[1m17/17\u001B[0m \u001B[32m━━━━━━━━━━━━━━━━━━━━\u001B[0m\u001B[37m\u001B[0m \u001B[1m24s\u001B[0m 1s/step\n",
      "Train Accuracy: 51.78%\n",
      "Test Accuracy: 52.40%\n"
     ]
    },
    {
     "name": "stderr",
     "output_type": "stream",
     "text": [
      "/var/folders/pj/k78tnlfd70x2r6r2m3x__yq40000gn/T/ipykernel_21607/2919488463.py:6: RuntimeWarning: divide by zero encountered in divide\n",
      "  relative_error = np.abs((y_true - y_pred) / y_true)\n"
     ]
    }
   ],
   "execution_count": 78
  },
  {
   "metadata": {},
   "cell_type": "code",
   "outputs": [],
   "execution_count": null,
   "source": "",
   "id": "6fa869fb8d0d7150"
  }
 ],
 "metadata": {
  "kernelspec": {
   "display_name": "Python 3",
   "language": "python",
   "name": "python3"
  },
  "language_info": {
   "codemirror_mode": {
    "name": "ipython",
    "version": 2
   },
   "file_extension": ".py",
   "mimetype": "text/x-python",
   "name": "python",
   "nbconvert_exporter": "python",
   "pygments_lexer": "ipython2",
   "version": "2.7.6"
  }
 },
 "nbformat": 4,
 "nbformat_minor": 5
}
