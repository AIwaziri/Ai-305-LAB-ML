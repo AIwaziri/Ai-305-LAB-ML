{
 "cells": [
  {
   "metadata": {
    "ExecuteTime": {
     "end_time": "2024-11-25T08:31:33.350548Z",
     "start_time": "2024-11-25T08:31:27.780828Z"
    }
   },
   "cell_type": "code",
   "source": [
    "import os\n",
    "import numpy as np\n",
    "import pandas as pd\n",
    "from sklearn.model_selection import train_test_split\n",
    "from sklearn.preprocessing import MinMaxScaler\n",
    "from sklearn.ensemble import RandomForestRegressor\n",
    "from sklearn.metrics import mean_squared_error, mean_absolute_error\n",
    "from tensorflow.keras.preprocessing.image import load_img, img_to_array\n",
    "\n",
    "# File paths\n",
    "csv_path = \"nutritional_values.csv\"\n",
    "images_folder = \"Dates/\"\n",
    "\n",
    "# Load nutritional values\n",
    "df = pd.read_csv(csv_path)\n",
    "\n",
    "# Ensure required columns\n",
    "required_columns = ['image_id', 'calories', 'proteins', 'total_fat', 'glucose', 'cholesterol', 'water', 'Energy (Kcal)']\n",
    "if not all(col in df.columns for col in required_columns):\n",
    "    raise ValueError(f\"CSV must contain columns: {', '.join(required_columns)}\")\n",
    "\n",
    "# Preprocessing: Load images and normalize nutritional values\n",
    "X = []\n",
    "y = []\n",
    "missing_images = 0\n",
    "\n",
    "for _, row in df.iterrows():\n",
    "    image_path = os.path.join(images_folder, row['image_id'] + \".jpg\")\n",
    "    if os.path.exists(image_path):\n",
    "        # Load image, resize to 64x64, and flatten it\n",
    "        image = load_img(image_path, target_size=(64, 64))  # Resize to smaller dimensions\n",
    "        image = img_to_array(image).flatten() / 255.0  # Flatten and normalize pixel values\n",
    "        X.append(image)\n",
    "\n",
    "        # Extract nutritional values\n",
    "        y.append(row[['calories', 'proteins', 'total_fat', 'glucose', 'cholesterol', 'water', 'Energy (Kcal)']].values)\n",
    "    else:\n",
    "        missing_images += 1\n",
    "\n",
    "print(f\"Missing images: {missing_images}\")\n",
    "X = np.array(X)\n",
    "y = np.array(y)\n",
    "\n",
    "# Ensure that X and y are not empty\n",
    "if X.size == 0 or y.size == 0:\n",
    "    raise ValueError(\"No data available for training. Please check the image paths and CSV file.\")\n",
    "\n",
    "# Normalize the target values using MinMaxScaler\n",
    "scaler_y = MinMaxScaler()\n",
    "y = scaler_y.fit_transform(y)\n",
    "\n",
    "# Split the dataset\n",
    "X_train, X_test, y_train, y_test = train_test_split(X, y, test_size=0.2, random_state=42)\n",
    "print(f\"Training samples: {X_train.shape[0]}, Testing samples: {X_test.shape[0]}\")"
   ],
   "id": "ed586915c12784d4",
   "outputs": [
    {
     "name": "stdout",
     "output_type": "stream",
     "text": [
      "Missing images: 0\n",
      "Training samples: 2165, Testing samples: 542\n"
     ]
    }
   ],
   "execution_count": 1
  },
  {
   "metadata": {
    "jupyter": {
     "is_executing": true
    },
    "ExecuteTime": {
     "start_time": "2024-11-25T08:31:48.923332Z"
    }
   },
   "cell_type": "code",
   "source": [
    "from sklearn.ensemble import RandomForestRegressor\n",
    "\n",
    "# Initialize and train the model\n",
    "rf_model = RandomForestRegressor(n_estimators=100, random_state=42)\n",
    "rf_model.fit(X_train, y_train)\n",
    "\n",
    "# Training complete\n",
    "print(\"Random Forest Model trained successfully.\")"
   ],
   "id": "b1e0b6f011f16afa",
   "outputs": [],
   "execution_count": null
  },
  {
   "metadata": {
    "ExecuteTime": {
     "end_time": "2024-11-23T15:03:31.668367Z",
     "start_time": "2024-11-23T15:03:31.269858Z"
    }
   },
   "cell_type": "code",
   "source": [
    "# Predictions on test data\n",
    "y_pred = rf_model.predict(X_test)\n",
    "\n",
    "# Evaluate the model\n",
    "mse = mean_squared_error(y_test, y_pred)\n",
    "mae = mean_absolute_error(y_test, y_pred)\n",
    "\n",
    "print(f\"Test MSE: {mse}\")\n",
    "print(f\"Test MAE: {mae}\")"
   ],
   "id": "75c8a0a99b89ef4d",
   "outputs": [
    {
     "name": "stdout",
     "output_type": "stream",
     "text": [
      "Test MSE: 0.1062395442308227\n",
      "Test MAE: 0.2577000530635831\n"
     ]
    }
   ],
   "execution_count": 51
  },
  {
   "metadata": {
    "jupyter": {
     "is_executing": true
    },
    "ExecuteTime": {
     "start_time": "2024-11-23T15:03:36.150604Z"
    }
   },
   "cell_type": "code",
   "source": [
    "from sklearn.model_selection import GridSearchCV\n",
    "\n",
    "# Define hyperparameter grid\n",
    "param_grid = {\n",
    "    'n_estimators': [50, 100, 150],\n",
    "    'max_depth': [None, 10, 20, 30],\n",
    "    'min_samples_split': [2, 5, 10]\n",
    "}\n",
    "\n",
    "# Grid Search\n",
    "grid_search = GridSearchCV(RandomForestRegressor(random_state=42), param_grid, cv=3, scoring='neg_mean_squared_error', n_jobs=-1)\n",
    "grid_search.fit(X_train, y_train)\n",
    "\n",
    "# Best parameters\n",
    "print(\"Best Parameters:\", grid_search.best_params_)\n",
    "best_rf_model = grid_search.best_estimator_"
   ],
   "id": "3711e310b1e1986e",
   "outputs": [],
   "execution_count": null
  },
  {
   "metadata": {},
   "cell_type": "code",
   "outputs": [],
   "execution_count": null,
   "source": [
    "# Reverse scale target values\n",
    "y_test_original = scaler_y.inverse_transform(y_test)\n",
    "y_pred_original = scaler_y.inverse_transform(y_pred)\n",
    "\n",
    "# Visualize predictions\n",
    "import matplotlib.pyplot as plt\n",
    "\n",
    "def visualize_predictions(X, y_true, y_pred, num_samples=5):\n",
    "    for i in range(num_samples):\n",
    "        plt.figure(figsize=(12, 5))\n",
    "\n",
    "        # Show image (unflatten and reshape to 64x64)\n",
    "        plt.subplot(1, 2, 1)\n",
    "        plt.imshow(X[i].reshape(64, 64, 3))\n",
    "        plt.axis('off')\n",
    "        plt.title(\"Input Image\")\n",
    "\n",
    "        # Show true vs predicted values\n",
    "        plt.subplot(1, 2, 2)\n",
    "        indices = range(len(y_true[i]))\n",
    "        plt.bar(indices, y_true[i], alpha=0.6, label='True', color='blue')\n",
    "        plt.bar(indices, y_pred[i], alpha=0.6, label='Predicted', color='orange')\n",
    "        plt.xticks(indices, ['Calories', 'Proteins', 'Fat', 'Glucose', 'Cholesterol', 'Water', 'Energy'])\n",
    "        plt.legend()\n",
    "        plt.title(\"True vs Predicted Values\")\n",
    "\n",
    "        plt.show()\n",
    "\n",
    "# Visualize results\n",
    "visualize_predictions(X_test, y_test_original, y_pred_original)"
   ],
   "id": "5482c90a1b7fdb60"
  },
  {
   "metadata": {},
   "cell_type": "code",
   "outputs": [],
   "execution_count": null,
   "source": [
    "# let user input image path\n",
    "image_path = input(\"Enter the path of the image: \")\n",
    "image = load_img(image_path, target_size=(64, 64))\n",
    "image = img_to_array(image).flatten() / 255.0\n",
    "\n",
    "# Predict the nutritional values\n",
    "nutritional_values = best_rf_model.predict([image])\n",
    "nutritional_values = scaler_y.inverse_transform(nutritional_values)\n",
    "\n",
    "# Display the nutritional values\n",
    "print(\"Predicted Nutritional Values:\")\n",
    "print(f\"Calories: {nutritional_values[0][0]:.2f}\")\n",
    "print(f\"Proteins: {nutritional_values[0][1]:.2f}\")\n",
    "print(f\"Total Fat: {nutritional_values[0][2]:.2f}\")\n",
    "print(f\"Glucose: {nutritional_values[0][3]:.2f}\")\n",
    "print(f\"Cholesterol: {nutritional_values[0][4]:.2f}\")\n",
    "print(f\"Water: {nutritional_values[0][5]:.2f}\")\n",
    "print(f\"Energy: {nutritional_values[0][6]:.2f}\")\n",
    "\n",
    "# Display the image\n",
    "plt.imshow(load_img(image_path))\n",
    "plt.axis('off')\n",
    "plt.show()\n",
    "\n",
    "# plot predicted and actual images side by side\n",
    "plt.figure(figsize=(12, 5))\n",
    "\n",
    "# Show image (unflatten and reshape to 64x64)\n",
    "plt.subplot(1, 2, 1)\n",
    "plt.imshow(image.reshape(64, 64, 3))\n",
    "plt.axis('off')\n",
    "plt.title(\"Input Image\")\n",
    "\n",
    "# Show true vs predicted values\n",
    "plt.subplot(1, 2, 2)\n",
    "indices = range(len(nutritional_values[0]))\n",
    "plt.bar(indices, nutritional_values[0], alpha=0.6, label='Predicted', color='orange')\n",
    "plt.xticks(indices, ['Calories', 'Proteins', 'Fat', 'Glucose', 'Cholesterol', 'Water', 'Energy'])\n",
    "plt.legend()\n",
    "plt.title(\"Predicted Values\")\n",
    "\n",
    "plt.show()\n",
    "\n"
   ],
   "id": "403e6cc4c2544b9d"
  },
  {
   "metadata": {},
   "cell_type": "code",
   "outputs": [],
   "execution_count": null,
   "source": [
    "# Save the model\n",
    "import joblib\n",
    "\n",
    "model_filename = \"002_random_forest_model.pkl\"\n",
    "joblib.dump(best_rf_model, model_filename)\n",
    "print(f\"Model saved as {model_filename}\")\n"
   ],
   "id": "6d4d72f1cdc098d2"
  },
  {
   "metadata": {},
   "cell_type": "code",
   "outputs": [],
   "execution_count": null,
   "source": [
    "import numpy as np\n",
    "\n",
    "# Define accuracy metric for regression\n",
    "def regression_accuracy(y_true, y_pred, tolerance=0.1):\n",
    "    relative_error = np.abs((y_true - y_pred) / y_true)  # Relative error\n",
    "    accurate_predictions = np.sum(relative_error <= tolerance)  # Predictions within tolerance\n",
    "    accuracy = (accurate_predictions / len(y_true)) * 100  # Percentage accuracy\n",
    "    return accuracy\n",
    "\n",
    "train_accuracy_rf = regression_accuracy(y_train, rf_model.predict(X_train))\n",
    "test_accuracy_rf = regression_accuracy(y_test, rf_model.predict(X_test))\n",
    "print(f\"Random Forest - Train Accuracy: {train_accuracy_rf:.2f}%, Test Accuracy: {test_accuracy_rf:.2f}%\")"
   ],
   "id": "5e4f9a6cd02def1c"
  }
 ],
 "metadata": {
  "kernelspec": {
   "display_name": "Python 3",
   "language": "python",
   "name": "python3"
  },
  "language_info": {
   "codemirror_mode": {
    "name": "ipython",
    "version": 2
   },
   "file_extension": ".py",
   "mimetype": "text/x-python",
   "name": "python",
   "nbconvert_exporter": "python",
   "pygments_lexer": "ipython2",
   "version": "2.7.6"
  }
 },
 "nbformat": 4,
 "nbformat_minor": 5
}
