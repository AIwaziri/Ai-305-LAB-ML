{
 "cells": [
  {
   "cell_type": "code",
   "execution_count": null,
   "id": "initial_id",
   "metadata": {
    "collapsed": true
   },
   "outputs": [],
   "source": [
    "import numpy as np\n",
    "import tensorflow as tf\n",
    "import matplotlib.pyplot as plt\n",
    "from tensorflow.keras.models import load_model\n",
    "from tensorflow.keras.preprocessing.image import load_img, img_to_array"
   ]
  },
  {
   "metadata": {},
   "cell_type": "code",
   "outputs": [],
   "execution_count": null,
   "source": [
    "def preprocess_image(image_path, target_size=(224, 224)):\n",
    "    # Load the image\n",
    "    img = load_img(image_path, target_size=target_size)\n",
    "\n",
    "    # Convert to numpy array\n",
    "    img_array = img_to_array(img)\n",
    "\n",
    "    # Scale pixel values to [0, 1] range\n",
    "    img_array = img_array / 255.0\n",
    "\n",
    "    # Add a batch dimension\n",
    "    img_array = np.expand_dims(img_array, axis=0)\n",
    "    return img, img_array  # Return both original and preprocessed image"
   ],
   "id": "8f6e165dccd63a14"
  },
  {
   "metadata": {},
   "cell_type": "code",
   "outputs": [],
   "execution_count": null,
   "source": [
    "# Path to the saved model (e.g., ResNet model)\n",
    "model_path = \"resnet_model.h5\"\n",
    "\n",
    "# Load the trained model\n",
    "model = load_model(model_path)"
   ],
   "id": "11102ec30adc07bf"
  },
  {
   "metadata": {},
   "cell_type": "code",
   "outputs": [],
   "execution_count": null,
   "source": [
    "# Path to your new image of a date\n",
    "image_path = \"path_to_date_image.jpg\"\n",
    "\n",
    "# Preprocess the input image\n",
    "original_image, preprocessed_image = preprocess_image(image_path)\n",
    "\n",
    "# Predict nutritional values\n",
    "predicted_values = model.predict(preprocessed_image)\n",
    "\n",
    "# Nutritional value labels\n",
    "nutritional_labels = ['calories', 'proteins', 'total_fat',\n",
    "                           'glucose', 'cholesterol', 'water', 'Energy (Kcal)']\n",
    "\n",
    "# Displaying the image and the predictions\n",
    "fig, ax = plt.subplots(1, 2, figsize=(15, 6))\n",
    "\n",
    "# Display the image\n",
    "ax[0].imshow(original_image)\n",
    "ax[0].axis('off')\n",
    "ax[0].set_title(\"Input Image\")\n",
    "\n",
    "# Display the predicted values\n",
    "ax[1].axis('off')\n",
    "ax[1].text(0.5, 0.8, \"Predicted Nutritional Values\", ha='center', va='center', fontsize=16, fontweight='bold')\n",
    "\n",
    "# Display each label and value\n",
    "for idx, (label, value) in enumerate(zip(nutritional_labels, predicted_values[0])):\n",
    "    ax[1].text(0.5, 0.7 - (idx * 0.1), f\"{label}: {value:.2f}\", ha='center', va='center', fontsize=12)\n",
    "\n",
    "plt.show()"
   ],
   "id": "c7be45c93322717a"
  },
  {
   "metadata": {},
   "cell_type": "code",
   "outputs": [],
   "execution_count": null,
   "source": [
    "# Bar plot of nutritional values\n",
    "fig, ax = plt.subplots(figsize=(10, 6))\n",
    "ax.barh(nutritional_labels, predicted_values[0], color='skyblue')\n",
    "ax.set_xlabel(\"Value\")\n",
    "ax.set_title(\"Predicted Nutritional Values for Date Image\")\n",
    "plt.show()"
   ],
   "id": "33e366a8974c9fbf"
  }
 ],
 "metadata": {
  "kernelspec": {
   "display_name": "Python 3",
   "language": "python",
   "name": "python3"
  },
  "language_info": {
   "codemirror_mode": {
    "name": "ipython",
    "version": 2
   },
   "file_extension": ".py",
   "mimetype": "text/x-python",
   "name": "python",
   "nbconvert_exporter": "python",
   "pygments_lexer": "ipython2",
   "version": "2.7.6"
  }
 },
 "nbformat": 4,
 "nbformat_minor": 5
}
