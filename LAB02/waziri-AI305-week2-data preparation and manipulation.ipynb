{
 "cells": [
  {
   "cell_type": "markdown",
   "metadata": {},
   "source": [
    "# AI305 Lab 2 - Data Preparation and Manipulation"
   ]
  },
  {
   "cell_type": "markdown",
   "metadata": {},
   "source": [
    "### Objective of This Lab\n",
    "This lab focuses on preparing datasets for machine learning by preparing and manipulating data using Pandas. You'll also use Seaborn and Matplotlib to visualize data, helping to explore features and relationships that are critical for building effective machine learning models."
   ]
  },
  {
   "cell_type": "markdown",
   "metadata": {},
   "source": [
    "There are many data sets available from the Internet and in software packages. A wellknown repository of data sets is the Machine Learning Repository maintained by the University of California at Irvine (UCI), found at https://archive.ics.uci.edu/."
   ]
  },
  {
   "cell_type": "markdown",
   "metadata": {},
   "source": [
    "## Part 1"
   ]
  },
  {
   "cell_type": "markdown",
   "metadata": {},
   "source": [
    "The data sets are typically stored in a CSV (comma separated values) format, which\n",
    "can be easily read into Python. For example, to access the abalone data set from this website\n",
    "with Python, download the file to your working directory, import the pandas package\n",
    "via"
   ]
  },
  {
   "cell_type": "markdown",
   "metadata": {},
   "source": [
    "#### What is abalone dataset?\n",
    "The abalone dataset typically consists of information about abalones, a type of marine mollusk. The goal often associated with this dataset is to predict the age of the abalone based on various physical attributes."
   ]
  },
  {
   "cell_type": "markdown",
   "metadata": {},
   "source": [
    "####  The abalone dataset attribute information:\n",
    "\n",
    "Given is the attribute name, attribute type, the measurement unit and a brief description.  The number of rings is the value to predict: either as a continuous value or as a classification problem.\n",
    "\n",
    "| Name           | Description                     |\n",
    "| :------------- | :------------------------------ |\n",
    "| Sex            | M, F, and I (infant)            |\n",
    "| Length         | Longest shell measurement       |\n",
    "| Diameter       | Perpendicular to length         |\n",
    "| Height         | With meat in shell              |\n",
    "| Whole weight   | Whole abalone                   |\n",
    "| Shucked weight | Weight of meat                  |\n",
    "| Viscera weight | Gut weight (after bleeding)     |\n",
    "| Shell weight   | After being dried               |\n",
    "| Rings          | +1.5 gives the age in years     |"
   ]
  },
  {
   "cell_type": "markdown",
   "metadata": {},
   "source": [
    "#### What is the structure of a `.data format`?\n",
    "A `.data` format is usually in a plain text format, where each line represents a data entry, and the values are typically comma-separated. The .data file structure is similar to that of a CSV file, which is why it can be loaded into a pandas DataFrame using the `pd.read_csv()` function."
   ]
  },
  {
   "cell_type": "code",
   "execution_count": 1,
   "metadata": {
    "ExecuteTime": {
     "end_time": "2024-09-12T01:52:47.722650Z",
     "start_time": "2024-09-12T01:52:47.710382Z"
    }
   },
   "outputs": [],
   "source": [
    "import pandas as pd\n",
    "abalone = pd.read_csv('abalone.data',header = None)"
   ]
  },
  {
   "cell_type": "markdown",
   "metadata": {},
   "source": [
    "It is important to add header = None, as this lets Python know that the first line of the\n",
    "CSV does not contain the names of the features, as it assumes so by default. The data set\n",
    "was originally used to predict the age of abalone from physical measurements, such as\n",
    "shell weight and diameter."
   ]
  },
  {
   "cell_type": "code",
   "execution_count": 2,
   "metadata": {
    "ExecuteTime": {
     "end_time": "2024-09-12T01:52:47.727600Z",
     "start_time": "2024-09-12T01:52:47.724437Z"
    }
   },
   "outputs": [
    {
     "data": {
      "text/plain": [
       "(4177, 9)"
      ]
     },
     "execution_count": 2,
     "metadata": {},
     "output_type": "execute_result"
    }
   ],
   "source": [
    "abalone.shape"
   ]
  },
  {
   "cell_type": "markdown",
   "metadata": {},
   "source": [
    "The first three rows of the abalone data set from the UCI repository can be found as\n",
    "follows:"
   ]
  },
  {
   "cell_type": "code",
   "execution_count": 3,
   "metadata": {
    "ExecuteTime": {
     "end_time": "2024-09-12T01:52:47.736277Z",
     "start_time": "2024-09-12T01:52:47.728234Z"
    }
   },
   "outputs": [
    {
     "data": {
      "text/html": [
       "<div>\n",
       "<style scoped>\n",
       "    .dataframe tbody tr th:only-of-type {\n",
       "        vertical-align: middle;\n",
       "    }\n",
       "\n",
       "    .dataframe tbody tr th {\n",
       "        vertical-align: top;\n",
       "    }\n",
       "\n",
       "    .dataframe thead th {\n",
       "        text-align: right;\n",
       "    }\n",
       "</style>\n",
       "<table border=\"1\" class=\"dataframe\">\n",
       "  <thead>\n",
       "    <tr style=\"text-align: right;\">\n",
       "      <th></th>\n",
       "      <th>0</th>\n",
       "      <th>1</th>\n",
       "      <th>2</th>\n",
       "      <th>3</th>\n",
       "      <th>4</th>\n",
       "      <th>5</th>\n",
       "      <th>6</th>\n",
       "      <th>7</th>\n",
       "      <th>8</th>\n",
       "    </tr>\n",
       "  </thead>\n",
       "  <tbody>\n",
       "    <tr>\n",
       "      <th>0</th>\n",
       "      <td>M</td>\n",
       "      <td>0.455</td>\n",
       "      <td>0.365</td>\n",
       "      <td>0.095</td>\n",
       "      <td>0.5140</td>\n",
       "      <td>0.2245</td>\n",
       "      <td>0.1010</td>\n",
       "      <td>0.15</td>\n",
       "      <td>15</td>\n",
       "    </tr>\n",
       "    <tr>\n",
       "      <th>1</th>\n",
       "      <td>M</td>\n",
       "      <td>0.350</td>\n",
       "      <td>0.265</td>\n",
       "      <td>0.090</td>\n",
       "      <td>0.2255</td>\n",
       "      <td>0.0995</td>\n",
       "      <td>0.0485</td>\n",
       "      <td>0.07</td>\n",
       "      <td>7</td>\n",
       "    </tr>\n",
       "    <tr>\n",
       "      <th>2</th>\n",
       "      <td>F</td>\n",
       "      <td>0.530</td>\n",
       "      <td>0.420</td>\n",
       "      <td>0.135</td>\n",
       "      <td>0.6770</td>\n",
       "      <td>0.2565</td>\n",
       "      <td>0.1415</td>\n",
       "      <td>0.21</td>\n",
       "      <td>9</td>\n",
       "    </tr>\n",
       "  </tbody>\n",
       "</table>\n",
       "</div>"
      ],
      "text/plain": [
       "   0      1      2      3       4       5       6     7   8\n",
       "0  M  0.455  0.365  0.095  0.5140  0.2245  0.1010  0.15  15\n",
       "1  M  0.350  0.265  0.090  0.2255  0.0995  0.0485  0.07   7\n",
       "2  F  0.530  0.420  0.135  0.6770  0.2565  0.1415  0.21   9"
      ]
     },
     "execution_count": 3,
     "metadata": {},
     "output_type": "execute_result"
    }
   ],
   "source": [
    "abalone.head(3)"
   ]
  },
  {
   "cell_type": "markdown",
   "metadata": {},
   "source": [
    "Here, the missing headers have been assigned according to the order of the natural\n",
    "numbers. The names should correspond to Sex, Length, Diameter, Height, Whole weight,\n",
    "Shucked weight, Viscera weight, Shell weight, and Rings, as described in the file with the\n",
    "name abalone.names on the UCI website (https://archive.ics.uci.edu/ml/datasets/abalone). We can manually add the names of the features\n",
    "to the DataFrame by reassigning the columns attribute, as in:"
   ]
  },
  {
   "cell_type": "code",
   "execution_count": 4,
   "metadata": {
    "ExecuteTime": {
     "end_time": "2024-09-12T01:52:47.739034Z",
     "start_time": "2024-09-12T01:52:47.737135Z"
    }
   },
   "outputs": [],
   "source": [
    "abalone.columns = ['Sex', 'Length', 'Diameter', 'Height','Whole weight','Shucked weight', 'Viscera weight', 'Shell weight',\n",
    "'Rings']"
   ]
  },
  {
   "cell_type": "code",
   "execution_count": 5,
   "metadata": {
    "ExecuteTime": {
     "end_time": "2024-09-12T01:52:47.744682Z",
     "start_time": "2024-09-12T01:52:47.739578Z"
    }
   },
   "outputs": [
    {
     "data": {
      "text/html": [
       "<div>\n",
       "<style scoped>\n",
       "    .dataframe tbody tr th:only-of-type {\n",
       "        vertical-align: middle;\n",
       "    }\n",
       "\n",
       "    .dataframe tbody tr th {\n",
       "        vertical-align: top;\n",
       "    }\n",
       "\n",
       "    .dataframe thead th {\n",
       "        text-align: right;\n",
       "    }\n",
       "</style>\n",
       "<table border=\"1\" class=\"dataframe\">\n",
       "  <thead>\n",
       "    <tr style=\"text-align: right;\">\n",
       "      <th></th>\n",
       "      <th>Sex</th>\n",
       "      <th>Length</th>\n",
       "      <th>Diameter</th>\n",
       "      <th>Height</th>\n",
       "      <th>Whole weight</th>\n",
       "      <th>Shucked weight</th>\n",
       "      <th>Viscera weight</th>\n",
       "      <th>Shell weight</th>\n",
       "      <th>Rings</th>\n",
       "    </tr>\n",
       "  </thead>\n",
       "  <tbody>\n",
       "    <tr>\n",
       "      <th>0</th>\n",
       "      <td>M</td>\n",
       "      <td>0.455</td>\n",
       "      <td>0.365</td>\n",
       "      <td>0.095</td>\n",
       "      <td>0.5140</td>\n",
       "      <td>0.2245</td>\n",
       "      <td>0.1010</td>\n",
       "      <td>0.15</td>\n",
       "      <td>15</td>\n",
       "    </tr>\n",
       "    <tr>\n",
       "      <th>1</th>\n",
       "      <td>M</td>\n",
       "      <td>0.350</td>\n",
       "      <td>0.265</td>\n",
       "      <td>0.090</td>\n",
       "      <td>0.2255</td>\n",
       "      <td>0.0995</td>\n",
       "      <td>0.0485</td>\n",
       "      <td>0.07</td>\n",
       "      <td>7</td>\n",
       "    </tr>\n",
       "    <tr>\n",
       "      <th>2</th>\n",
       "      <td>F</td>\n",
       "      <td>0.530</td>\n",
       "      <td>0.420</td>\n",
       "      <td>0.135</td>\n",
       "      <td>0.6770</td>\n",
       "      <td>0.2565</td>\n",
       "      <td>0.1415</td>\n",
       "      <td>0.21</td>\n",
       "      <td>9</td>\n",
       "    </tr>\n",
       "  </tbody>\n",
       "</table>\n",
       "</div>"
      ],
      "text/plain": [
       "  Sex  Length  Diameter  Height  Whole weight  Shucked weight  Viscera weight  \\\n",
       "0   M   0.455     0.365   0.095        0.5140          0.2245          0.1010   \n",
       "1   M   0.350     0.265   0.090        0.2255          0.0995          0.0485   \n",
       "2   F   0.530     0.420   0.135        0.6770          0.2565          0.1415   \n",
       "\n",
       "   Shell weight  Rings  \n",
       "0          0.15     15  \n",
       "1          0.07      7  \n",
       "2          0.21      9  "
      ]
     },
     "execution_count": 5,
     "metadata": {},
     "output_type": "execute_result"
    }
   ],
   "source": [
    "abalone.head(3)"
   ]
  },
  {
   "cell_type": "markdown",
   "metadata": {},
   "source": [
    "## Part 2"
   ]
  },
  {
   "cell_type": "markdown",
   "metadata": {},
   "source": [
    "### Structuring Features According to Type\n",
    "We can generally classify features as either quantitative or qualitative.\n",
    "\n",
    "**Quantitative features:**\n",
    "\n",
    "possess “numerical quantity”, such as height, age, number of births, etc., and can either be continuous or discrete. \n",
    "\n",
    "Continuous quantitative features take values in a continuous range of possible values, such as height, voltage, or crop yield; such features capture the idea that measurements can always be made more precisely. \n",
    "Discrete quantitative features have a countable number of possibilities, such as a count.\n",
    "\n",
    "**Qualitative features:**\n",
    "\n",
    "In contrast, qualitative features do not have a numerical meaning, but their possible values can be divided into a fixed number of categories, such as {M,F} for gender or {blue, black, brown, green} for eye color. For this reason such features are also called *categorical*. \n",
    "\n",
    "**A simple rule of thumb is:** if it does not make sense to average the data, it is categorical.\n",
    "\n",
    "For example, it does not make sense to average eye colors. Of course it is still possible to represent categorical data with numbers, such as 1 = blue, 2 = black, 3 = brown, but such numbers carry no quantitative meaning. Categorical features are often called factors.\n",
    "\n",
    "When manipulating, summarizing, and displaying data, it is important to correctly specify the type of the variables (features). We illustrate this using the `nutrition_elderly` data set, which contains the results of a study involving nutritional measurements of thirteen features (columns) for 226 elderly individuals (rows). The data set can be obtained from:\n",
    "http://www.biostatisticien.eu/springeR/nutrition_elderly.xls."
   ]
  },
  {
   "cell_type": "code",
   "execution_count": 6,
   "metadata": {
    "ExecuteTime": {
     "end_time": "2024-09-12T01:52:47.749031Z",
     "start_time": "2024-09-12T01:52:47.745537Z"
    }
   },
   "outputs": [],
   "source": [
    "# URL of the Excel file containing nutrition_elderly data from an external website\n",
    "xls = 'nutri.csv'\n",
    "\n",
    "# Reads the Excel file from the specified URL into a pandas DataFrame called 'nutri'\n",
    "nutri = pd.read_csv(xls)"
   ]
  },
  {
   "cell_type": "markdown",
   "metadata": {},
   "source": [
    "This creates a DataFrame object nutri. \n",
    "\n",
    "The first three rows are as follows:"
   ]
  },
  {
   "cell_type": "code",
   "execution_count": 7,
   "metadata": {
    "ExecuteTime": {
     "end_time": "2024-09-12T01:52:47.757061Z",
     "start_time": "2024-09-12T01:52:47.751100Z"
    }
   },
   "outputs": [
    {
     "data": {
      "text/html": [
       "<div>\n",
       "<style scoped>\n",
       "    .dataframe tbody tr th:only-of-type {\n",
       "        vertical-align: middle;\n",
       "    }\n",
       "\n",
       "    .dataframe tbody tr th {\n",
       "        vertical-align: top;\n",
       "    }\n",
       "\n",
       "    .dataframe thead th {\n",
       "        text-align: right;\n",
       "    }\n",
       "</style>\n",
       "<table border=\"1\" class=\"dataframe\">\n",
       "  <thead>\n",
       "    <tr style=\"text-align: right;\">\n",
       "      <th></th>\n",
       "      <th>Unnamed: 0</th>\n",
       "      <th>gender</th>\n",
       "      <th>situation</th>\n",
       "      <th>tea</th>\n",
       "      <th>coffee</th>\n",
       "      <th>...</th>\n",
       "      <th>fish</th>\n",
       "      <th>raw_fruit</th>\n",
       "      <th>cooked_fruit_veg</th>\n",
       "      <th>chocol</th>\n",
       "      <th>fat</th>\n",
       "    </tr>\n",
       "  </thead>\n",
       "  <tbody>\n",
       "    <tr>\n",
       "      <th>0</th>\n",
       "      <td>0</td>\n",
       "      <td>Female</td>\n",
       "      <td>1</td>\n",
       "      <td>0</td>\n",
       "      <td>0</td>\n",
       "      <td>...</td>\n",
       "      <td>3</td>\n",
       "      <td>1</td>\n",
       "      <td>4</td>\n",
       "      <td>5</td>\n",
       "      <td>Mix of vegetable oils (e.g., Isio4)</td>\n",
       "    </tr>\n",
       "    <tr>\n",
       "      <th>1</th>\n",
       "      <td>1</td>\n",
       "      <td>Female</td>\n",
       "      <td>1</td>\n",
       "      <td>1</td>\n",
       "      <td>1</td>\n",
       "      <td>...</td>\n",
       "      <td>2</td>\n",
       "      <td>5</td>\n",
       "      <td>5</td>\n",
       "      <td>1</td>\n",
       "      <td>Sunflower oil</td>\n",
       "    </tr>\n",
       "    <tr>\n",
       "      <th>2</th>\n",
       "      <td>2</td>\n",
       "      <td>Female</td>\n",
       "      <td>1</td>\n",
       "      <td>0</td>\n",
       "      <td>4</td>\n",
       "      <td>...</td>\n",
       "      <td>1</td>\n",
       "      <td>5</td>\n",
       "      <td>2</td>\n",
       "      <td>5</td>\n",
       "      <td>Sunflower oil</td>\n",
       "    </tr>\n",
       "  </tbody>\n",
       "</table>\n",
       "<p>3 rows × 14 columns</p>\n",
       "</div>"
      ],
      "text/plain": [
       "   Unnamed: 0  gender  situation  tea  coffee  ...  fish  raw_fruit  \\\n",
       "0           0  Female          1    0       0  ...     3          1   \n",
       "1           1  Female          1    1       1  ...     2          5   \n",
       "2           2  Female          1    0       4  ...     1          5   \n",
       "\n",
       "   cooked_fruit_veg  chocol                                  fat  \n",
       "0                 4       5  Mix of vegetable oils (e.g., Isio4)  \n",
       "1                 5       1                        Sunflower oil  \n",
       "2                 2       5                        Sunflower oil  \n",
       "\n",
       "[3 rows x 14 columns]"
      ]
     },
     "execution_count": 7,
     "metadata": {},
     "output_type": "execute_result"
    }
   ],
   "source": [
    "pd.set_option('display.max_columns', 10)  # Sets the maximum number of columns to display when printing to 10\n",
    "nutri.head(3)"
   ]
  },
  {
   "cell_type": "markdown",
   "metadata": {},
   "source": [
    "You can check the type (or structure) of the variables via the info method of nutri."
   ]
  },
  {
   "cell_type": "code",
   "execution_count": 8,
   "metadata": {
    "ExecuteTime": {
     "end_time": "2024-09-12T01:52:47.763957Z",
     "start_time": "2024-09-12T01:52:47.757742Z"
    }
   },
   "outputs": [
    {
     "name": "stdout",
     "output_type": "stream",
     "text": [
      "<class 'pandas.core.frame.DataFrame'>\n",
      "RangeIndex: 226 entries, 0 to 225\n",
      "Data columns (total 14 columns):\n",
      " #   Column            Non-Null Count  Dtype  \n",
      "---  ------            --------------  -----  \n",
      " 0   Unnamed: 0        226 non-null    int64  \n",
      " 1   gender            226 non-null    object \n",
      " 2   situation         226 non-null    int64  \n",
      " 3   tea               226 non-null    int64  \n",
      " 4   coffee            226 non-null    int64  \n",
      " 5   height            226 non-null    float64\n",
      " 6   weight            226 non-null    int64  \n",
      " 7   age               226 non-null    int64  \n",
      " 8   meat              226 non-null    int64  \n",
      " 9   fish              226 non-null    int64  \n",
      " 10  raw_fruit         226 non-null    int64  \n",
      " 11  cooked_fruit_veg  226 non-null    int64  \n",
      " 12  chocol            226 non-null    int64  \n",
      " 13  fat               226 non-null    object \n",
      "dtypes: float64(1), int64(11), object(2)\n",
      "memory usage: 24.8+ KB\n"
     ]
    }
   ],
   "source": [
    "nutri.info()"
   ]
  },
  {
   "attachments": {
    "image.png": {
     "image/png": "[encoded data removed]"
    }
   },
   "cell_type": "markdown",
   "metadata": {},
   "source": [
    "All 13 features in nutri are (at the moment) interpreted by Python as quantitative variables, indeed as integers, simply because they have been entered as whole numbers.\n",
    "The meaning of these numbers becomes clear when we consider the description of the features, ![image.png](attachment:image.png). \n",
    "Note that the categories of the qualitative features in the second row, meat, . . . , chocol have a natural order. Such qualitative features are sometimes called ordinal, in contrast to qualitative features without order, which are called nominal."
   ]
  },
  {
   "attachments": {
    "image.png": {
     "image/png": "[encoded data removed]"
    }
   },
   "cell_type": "markdown",
   "metadata": {},
   "source": [
    "the following table shows how the variable types should be classified.\n",
    "![image.png](attachment:image.png)"
   ]
  },
  {
   "cell_type": "markdown",
   "metadata": {},
   "source": [
    "We can modify the Python value and type for each categorical feature, using the replace and astype methods. For categorical features, such as gender, we can replace\n",
    "the value 1 with 'Male' and 2 with 'Female', and change the type to 'category' as follows."
   ]
  },
  {
   "cell_type": "code",
   "execution_count": 9,
   "metadata": {
    "ExecuteTime": {
     "end_time": "2024-09-12T01:52:47.766897Z",
     "start_time": "2024-09-12T01:52:47.764584Z"
    }
   },
   "outputs": [],
   "source": [
    "DICT = {1: 'Male', 2: 'Female'}  # Creates a dictionary that maps numerical keys (1, 2) to gender values ('Male', 'Female')\n",
    "nutri['gender'] = nutri['gender'].replace (DICT)\n",
    "nutri['gender'] = nutri['gender'].astype('category')"
   ]
  },
  {
   "cell_type": "markdown",
   "metadata": {},
   "source": [
    "The structure of the other categorical-type features can be changed in a similar way.\n",
    "Continuous features such as height should have type float:"
   ]
  },
  {
   "cell_type": "code",
   "execution_count": 10,
   "metadata": {
    "ExecuteTime": {
     "end_time": "2024-09-12T01:52:47.769411Z",
     "start_time": "2024-09-12T01:52:47.767671Z"
    }
   },
   "outputs": [],
   "source": [
    "nutri['height'] = nutri['height'].astype(float)"
   ]
  },
  {
   "cell_type": "markdown",
   "metadata": {},
   "source": [
    "We can repeat this for the other variables and save this modified data frame as a CSV file, by using the pandas method to_csv."
   ]
  },
  {
   "cell_type": "code",
   "execution_count": 11,
   "metadata": {
    "ExecuteTime": {
     "end_time": "2024-09-12T01:52:47.773072Z",
     "start_time": "2024-09-12T01:52:47.770009Z"
    }
   },
   "outputs": [],
   "source": [
    "DICT = {1:'Butter', 2:'Margarine',3:'Peanut oil', 4:'Sunflower oil',5:'Olive oil', 6:'Mix of vegetable oils (e.g., Isio4)',7:'Colza oil', 8:'Duck or goose fat'} # dictionary specifies replacement\n",
    "nutri['fat'] = nutri['fat'].replace(DICT).astype('category')\n",
    "nutri['fat'] = nutri['fat'].astype('category')"
   ]
  },
  {
   "cell_type": "code",
   "execution_count": 12,
   "metadata": {
    "ExecuteTime": {
     "end_time": "2024-09-12T01:52:47.778384Z",
     "start_time": "2024-09-12T01:52:47.773786Z"
    }
   },
   "outputs": [
    {
     "name": "stdout",
     "output_type": "stream",
     "text": [
      "<class 'pandas.core.frame.DataFrame'>\n",
      "RangeIndex: 226 entries, 0 to 225\n",
      "Data columns (total 14 columns):\n",
      " #   Column            Non-Null Count  Dtype   \n",
      "---  ------            --------------  -----   \n",
      " 0   Unnamed: 0        226 non-null    int64   \n",
      " 1   gender            226 non-null    category\n",
      " 2   situation         226 non-null    int64   \n",
      " 3   tea               226 non-null    int64   \n",
      " 4   coffee            226 non-null    int64   \n",
      " 5   height            226 non-null    float64 \n",
      " 6   weight            226 non-null    int64   \n",
      " 7   age               226 non-null    int64   \n",
      " 8   meat              226 non-null    int64   \n",
      " 9   fish              226 non-null    int64   \n",
      " 10  raw_fruit         226 non-null    int64   \n",
      " 11  cooked_fruit_veg  226 non-null    int64   \n",
      " 12  chocol            226 non-null    int64   \n",
      " 13  fat               226 non-null    category\n",
      "dtypes: category(2), float64(1), int64(11)\n",
      "memory usage: 22.2 KB\n"
     ]
    }
   ],
   "source": [
    "nutri.info()"
   ]
  },
  {
   "cell_type": "markdown",
   "metadata": {},
   "source": [
    "## Part 3"
   ]
  },
  {
   "cell_type": "code",
   "execution_count": 13,
   "metadata": {
    "ExecuteTime": {
     "end_time": "2024-09-12T01:52:47.784524Z",
     "start_time": "2024-09-12T01:52:47.779981Z"
    }
   },
   "outputs": [],
   "source": [
    "nutri.to_csv('nutri.csv', index=False)  # Saves the 'nutri' DataFrame to a CSV file named 'nutri.csv' without including the row indices"
   ]
  },
  {
   "cell_type": "markdown",
   "metadata": {},
   "source": [
    "### Summary Tables\n",
    "It is often useful to summarize a large spreadsheet of data in a more condensed form. A table of counts or a table of frequencies makes it easier to gain insight into the underlying distribution of a variable, especially if the data are qualitative. Such tables can be obtained with the methods `describe` and `value_counts`.\n",
    "\n",
    "As a first example, we load the nutri DataFrame, which we restructured and saved (see previous step) as 'nutri.csv', and then construct a summary for the feature (column) 'fat'."
   ]
  },
  {
   "cell_type": "code",
   "execution_count": 14,
   "metadata": {
    "ExecuteTime": {
     "end_time": "2024-09-12T01:52:47.788078Z",
     "start_time": "2024-09-12T01:52:47.785009Z"
    }
   },
   "outputs": [],
   "source": [
    "nutri = pd.read_csv('nutri.csv')"
   ]
  },
  {
   "cell_type": "code",
   "execution_count": 15,
   "metadata": {
    "ExecuteTime": {
     "end_time": "2024-09-12T01:52:47.792102Z",
     "start_time": "2024-09-12T01:52:47.788996Z"
    }
   },
   "outputs": [
    {
     "data": {
      "text/plain": [
       "count               226\n",
       "unique                8\n",
       "top       Sunflower oil\n",
       "freq                 68\n",
       "Name: fat, dtype: object"
      ]
     },
     "execution_count": 15,
     "metadata": {},
     "output_type": "execute_result"
    }
   ],
   "source": [
    "nutri['fat'].describe()"
   ]
  },
  {
   "cell_type": "markdown",
   "metadata": {},
   "source": [
    "We see that there are 8 different types of fat used and that sunflower has the highest count, with 68 out of 226 individuals using this type of cooking fat. \n",
    "\n",
    "The method `value_counts` gives the counts for the different fat types."
   ]
  },
  {
   "cell_type": "code",
   "execution_count": 16,
   "metadata": {
    "ExecuteTime": {
     "end_time": "2024-09-12T01:52:47.795477Z",
     "start_time": "2024-09-12T01:52:47.792819Z"
    }
   },
   "outputs": [
    {
     "data": {
      "text/plain": [
       "fat\n",
       "Sunflower oil                          68\n",
       "Peanut oil                             48\n",
       "Olive oil                              40\n",
       "Margarine                              27\n",
       "Mix of vegetable oils (e.g., Isio4)    23\n",
       "Butter                                 15\n",
       "Duck or goose fat                       4\n",
       "Colza oil                               1\n",
       "Name: count, dtype: int64"
      ]
     },
     "execution_count": 16,
     "metadata": {},
     "output_type": "execute_result"
    }
   ],
   "source": [
    "nutri['fat'].value_counts()"
   ]
  },
  {
   "cell_type": "markdown",
   "metadata": {},
   "source": [
    "Note: Column labels are also attributes of a DataFrame, and nutri.fat, for example, is exactly the same object as nutri['fat']."
   ]
  },
  {
   "cell_type": "code",
   "execution_count": 17,
   "metadata": {
    "ExecuteTime": {
     "end_time": "2024-09-12T01:52:47.800658Z",
     "start_time": "2024-09-12T01:52:47.795990Z"
    }
   },
   "outputs": [
    {
     "data": {
      "text/html": [
       "<div>\n",
       "<style scoped>\n",
       "    .dataframe tbody tr th:only-of-type {\n",
       "        vertical-align: middle;\n",
       "    }\n",
       "\n",
       "    .dataframe tbody tr th {\n",
       "        vertical-align: top;\n",
       "    }\n",
       "\n",
       "    .dataframe thead th {\n",
       "        text-align: right;\n",
       "    }\n",
       "</style>\n",
       "<table border=\"1\" class=\"dataframe\">\n",
       "  <thead>\n",
       "    <tr style=\"text-align: right;\">\n",
       "      <th></th>\n",
       "      <th>Unnamed: 0</th>\n",
       "      <th>gender</th>\n",
       "      <th>situation</th>\n",
       "      <th>tea_consumption</th>\n",
       "      <th>coffee</th>\n",
       "      <th>height</th>\n",
       "      <th>weight</th>\n",
       "      <th>age</th>\n",
       "      <th>meat</th>\n",
       "      <th>fish</th>\n",
       "      <th>raw_fruit</th>\n",
       "      <th>cooked_fruit_veg</th>\n",
       "      <th>chocol</th>\n",
       "      <th>fat</th>\n",
       "    </tr>\n",
       "  </thead>\n",
       "  <tbody>\n",
       "    <tr>\n",
       "      <th>0</th>\n",
       "      <td>0</td>\n",
       "      <td>Female</td>\n",
       "      <td>1</td>\n",
       "      <td>0</td>\n",
       "      <td>0</td>\n",
       "      <td>151.0</td>\n",
       "      <td>58</td>\n",
       "      <td>72</td>\n",
       "      <td>4</td>\n",
       "      <td>3</td>\n",
       "      <td>1</td>\n",
       "      <td>4</td>\n",
       "      <td>5</td>\n",
       "      <td>Mix of vegetable oils (e.g., Isio4)</td>\n",
       "    </tr>\n",
       "    <tr>\n",
       "      <th>1</th>\n",
       "      <td>1</td>\n",
       "      <td>Female</td>\n",
       "      <td>1</td>\n",
       "      <td>1</td>\n",
       "      <td>1</td>\n",
       "      <td>162.0</td>\n",
       "      <td>60</td>\n",
       "      <td>68</td>\n",
       "      <td>5</td>\n",
       "      <td>2</td>\n",
       "      <td>5</td>\n",
       "      <td>5</td>\n",
       "      <td>1</td>\n",
       "      <td>Sunflower oil</td>\n",
       "    </tr>\n",
       "    <tr>\n",
       "      <th>2</th>\n",
       "      <td>2</td>\n",
       "      <td>Female</td>\n",
       "      <td>1</td>\n",
       "      <td>0</td>\n",
       "      <td>4</td>\n",
       "      <td>162.0</td>\n",
       "      <td>75</td>\n",
       "      <td>78</td>\n",
       "      <td>3</td>\n",
       "      <td>1</td>\n",
       "      <td>5</td>\n",
       "      <td>2</td>\n",
       "      <td>5</td>\n",
       "      <td>Sunflower oil</td>\n",
       "    </tr>\n",
       "    <tr>\n",
       "      <th>3</th>\n",
       "      <td>3</td>\n",
       "      <td>Female</td>\n",
       "      <td>1</td>\n",
       "      <td>0</td>\n",
       "      <td>0</td>\n",
       "      <td>154.0</td>\n",
       "      <td>45</td>\n",
       "      <td>91</td>\n",
       "      <td>0</td>\n",
       "      <td>4</td>\n",
       "      <td>4</td>\n",
       "      <td>0</td>\n",
       "      <td>3</td>\n",
       "      <td>Margarine</td>\n",
       "    </tr>\n",
       "    <tr>\n",
       "      <th>4</th>\n",
       "      <td>4</td>\n",
       "      <td>Female</td>\n",
       "      <td>1</td>\n",
       "      <td>2</td>\n",
       "      <td>1</td>\n",
       "      <td>154.0</td>\n",
       "      <td>50</td>\n",
       "      <td>65</td>\n",
       "      <td>5</td>\n",
       "      <td>3</td>\n",
       "      <td>5</td>\n",
       "      <td>5</td>\n",
       "      <td>3</td>\n",
       "      <td>Margarine</td>\n",
       "    </tr>\n",
       "  </tbody>\n",
       "</table>\n",
       "</div>"
      ],
      "text/plain": [
       "   Unnamed: 0  gender  situation  tea_consumption  coffee  height  weight  \\\n",
       "0           0  Female          1                0       0   151.0      58   \n",
       "1           1  Female          1                1       1   162.0      60   \n",
       "2           2  Female          1                0       4   162.0      75   \n",
       "3           3  Female          1                0       0   154.0      45   \n",
       "4           4  Female          1                2       1   154.0      50   \n",
       "\n",
       "   age  meat  fish  raw_fruit  cooked_fruit_veg  chocol  \\\n",
       "0   72     4     3          1                 4       5   \n",
       "1   68     5     2          5                 5       1   \n",
       "2   78     3     1          5                 2       5   \n",
       "3   91     0     4          4                 0       3   \n",
       "4   65     5     3          5                 5       3   \n",
       "\n",
       "                                   fat  \n",
       "0  Mix of vegetable oils (e.g., Isio4)  \n",
       "1                        Sunflower oil  \n",
       "2                        Sunflower oil  \n",
       "3                            Margarine  \n",
       "4                            Margarine  "
      ]
     },
     "execution_count": 17,
     "metadata": {},
     "output_type": "execute_result"
    }
   ],
   "source": [
    "nutri = nutri.rename(columns={'tea': 'tea_consumption'}) # Rename a col\n",
    "pd.set_option('display.max_columns', 15) \n",
    "nutri.head()"
   ]
  },
  {
   "cell_type": "markdown",
   "metadata": {},
   "source": [
    "## Part 4"
   ]
  },
  {
   "cell_type": "markdown",
   "metadata": {},
   "source": [
    "We can extract specific subsets of data from a larger dataset based on certain criteria.\n",
    "\n",
    "For example, here we want to filter rows where the age column falls within a particular range [65 ≤ age < 70].\n"
   ]
  },
  {
   "cell_type": "code",
   "execution_count": 18,
   "metadata": {
    "ExecuteTime": {
     "end_time": "2024-09-12T01:52:47.809915Z",
     "start_time": "2024-09-12T01:52:47.801386Z"
    },
    "scrolled": true
   },
   "outputs": [
    {
     "data": {
      "text/html": [
       "<div>\n",
       "<style scoped>\n",
       "    .dataframe tbody tr th:only-of-type {\n",
       "        vertical-align: middle;\n",
       "    }\n",
       "\n",
       "    .dataframe tbody tr th {\n",
       "        vertical-align: top;\n",
       "    }\n",
       "\n",
       "    .dataframe thead th {\n",
       "        text-align: right;\n",
       "    }\n",
       "</style>\n",
       "<table border=\"1\" class=\"dataframe\">\n",
       "  <thead>\n",
       "    <tr style=\"text-align: right;\">\n",
       "      <th></th>\n",
       "      <th>Unnamed: 0</th>\n",
       "      <th>gender</th>\n",
       "      <th>situation</th>\n",
       "      <th>tea_consumption</th>\n",
       "      <th>coffee</th>\n",
       "      <th>height</th>\n",
       "      <th>weight</th>\n",
       "      <th>age</th>\n",
       "      <th>meat</th>\n",
       "      <th>fish</th>\n",
       "      <th>raw_fruit</th>\n",
       "      <th>cooked_fruit_veg</th>\n",
       "      <th>chocol</th>\n",
       "      <th>fat</th>\n",
       "    </tr>\n",
       "  </thead>\n",
       "  <tbody>\n",
       "    <tr>\n",
       "      <th>1</th>\n",
       "      <td>1</td>\n",
       "      <td>Female</td>\n",
       "      <td>1</td>\n",
       "      <td>1</td>\n",
       "      <td>1</td>\n",
       "      <td>162.0</td>\n",
       "      <td>60</td>\n",
       "      <td>68</td>\n",
       "      <td>5</td>\n",
       "      <td>2</td>\n",
       "      <td>5</td>\n",
       "      <td>5</td>\n",
       "      <td>1</td>\n",
       "      <td>Sunflower oil</td>\n",
       "    </tr>\n",
       "    <tr>\n",
       "      <th>4</th>\n",
       "      <td>4</td>\n",
       "      <td>Female</td>\n",
       "      <td>1</td>\n",
       "      <td>2</td>\n",
       "      <td>1</td>\n",
       "      <td>154.0</td>\n",
       "      <td>50</td>\n",
       "      <td>65</td>\n",
       "      <td>5</td>\n",
       "      <td>3</td>\n",
       "      <td>5</td>\n",
       "      <td>5</td>\n",
       "      <td>3</td>\n",
       "      <td>Margarine</td>\n",
       "    </tr>\n",
       "    <tr>\n",
       "      <th>26</th>\n",
       "      <td>26</td>\n",
       "      <td>Female</td>\n",
       "      <td>1</td>\n",
       "      <td>0</td>\n",
       "      <td>0</td>\n",
       "      <td>162.0</td>\n",
       "      <td>58</td>\n",
       "      <td>67</td>\n",
       "      <td>4</td>\n",
       "      <td>3</td>\n",
       "      <td>5</td>\n",
       "      <td>5</td>\n",
       "      <td>0</td>\n",
       "      <td>Peanut oil</td>\n",
       "    </tr>\n",
       "    <tr>\n",
       "      <th>27</th>\n",
       "      <td>27</td>\n",
       "      <td>Male</td>\n",
       "      <td>2</td>\n",
       "      <td>4</td>\n",
       "      <td>5</td>\n",
       "      <td>172.0</td>\n",
       "      <td>80</td>\n",
       "      <td>68</td>\n",
       "      <td>5</td>\n",
       "      <td>3</td>\n",
       "      <td>5</td>\n",
       "      <td>5</td>\n",
       "      <td>5</td>\n",
       "      <td>Olive oil</td>\n",
       "    </tr>\n",
       "    <tr>\n",
       "      <th>28</th>\n",
       "      <td>28</td>\n",
       "      <td>Female</td>\n",
       "      <td>1</td>\n",
       "      <td>1</td>\n",
       "      <td>1</td>\n",
       "      <td>165.0</td>\n",
       "      <td>75</td>\n",
       "      <td>69</td>\n",
       "      <td>4</td>\n",
       "      <td>3</td>\n",
       "      <td>5</td>\n",
       "      <td>5</td>\n",
       "      <td>5</td>\n",
       "      <td>Peanut oil</td>\n",
       "    </tr>\n",
       "    <tr>\n",
       "      <th>30</th>\n",
       "      <td>30</td>\n",
       "      <td>Female</td>\n",
       "      <td>2</td>\n",
       "      <td>0</td>\n",
       "      <td>1</td>\n",
       "      <td>160.0</td>\n",
       "      <td>54</td>\n",
       "      <td>67</td>\n",
       "      <td>4</td>\n",
       "      <td>4</td>\n",
       "      <td>5</td>\n",
       "      <td>3</td>\n",
       "      <td>2</td>\n",
       "      <td>Sunflower oil</td>\n",
       "    </tr>\n",
       "    <tr>\n",
       "      <th>32</th>\n",
       "      <td>32</td>\n",
       "      <td>Male</td>\n",
       "      <td>2</td>\n",
       "      <td>0</td>\n",
       "      <td>3</td>\n",
       "      <td>164.0</td>\n",
       "      <td>53</td>\n",
       "      <td>69</td>\n",
       "      <td>5</td>\n",
       "      <td>3</td>\n",
       "      <td>5</td>\n",
       "      <td>5</td>\n",
       "      <td>1</td>\n",
       "      <td>Olive oil</td>\n",
       "    </tr>\n",
       "    <tr>\n",
       "      <th>33</th>\n",
       "      <td>33</td>\n",
       "      <td>Female</td>\n",
       "      <td>2</td>\n",
       "      <td>1</td>\n",
       "      <td>2</td>\n",
       "      <td>156.0</td>\n",
       "      <td>58</td>\n",
       "      <td>67</td>\n",
       "      <td>5</td>\n",
       "      <td>3</td>\n",
       "      <td>5</td>\n",
       "      <td>5</td>\n",
       "      <td>5</td>\n",
       "      <td>Peanut oil</td>\n",
       "    </tr>\n",
       "    <tr>\n",
       "      <th>34</th>\n",
       "      <td>34</td>\n",
       "      <td>Female</td>\n",
       "      <td>1</td>\n",
       "      <td>0</td>\n",
       "      <td>2</td>\n",
       "      <td>153.0</td>\n",
       "      <td>70</td>\n",
       "      <td>69</td>\n",
       "      <td>5</td>\n",
       "      <td>0</td>\n",
       "      <td>5</td>\n",
       "      <td>5</td>\n",
       "      <td>3</td>\n",
       "      <td>Olive oil</td>\n",
       "    </tr>\n",
       "    <tr>\n",
       "      <th>40</th>\n",
       "      <td>40</td>\n",
       "      <td>Female</td>\n",
       "      <td>2</td>\n",
       "      <td>0</td>\n",
       "      <td>3</td>\n",
       "      <td>168.0</td>\n",
       "      <td>77</td>\n",
       "      <td>69</td>\n",
       "      <td>4</td>\n",
       "      <td>3</td>\n",
       "      <td>5</td>\n",
       "      <td>5</td>\n",
       "      <td>5</td>\n",
       "      <td>Sunflower oil</td>\n",
       "    </tr>\n",
       "    <tr>\n",
       "      <th>47</th>\n",
       "      <td>47</td>\n",
       "      <td>Female</td>\n",
       "      <td>1</td>\n",
       "      <td>0</td>\n",
       "      <td>1</td>\n",
       "      <td>158.0</td>\n",
       "      <td>51</td>\n",
       "      <td>69</td>\n",
       "      <td>5</td>\n",
       "      <td>1</td>\n",
       "      <td>5</td>\n",
       "      <td>5</td>\n",
       "      <td>1</td>\n",
       "      <td>Sunflower oil</td>\n",
       "    </tr>\n",
       "    <tr>\n",
       "      <th>50</th>\n",
       "      <td>50</td>\n",
       "      <td>Female</td>\n",
       "      <td>2</td>\n",
       "      <td>0</td>\n",
       "      <td>3</td>\n",
       "      <td>153.0</td>\n",
       "      <td>60</td>\n",
       "      <td>65</td>\n",
       "      <td>3</td>\n",
       "      <td>3</td>\n",
       "      <td>3</td>\n",
       "      <td>4</td>\n",
       "      <td>3</td>\n",
       "      <td>Sunflower oil</td>\n",
       "    </tr>\n",
       "    <tr>\n",
       "      <th>51</th>\n",
       "      <td>51</td>\n",
       "      <td>Male</td>\n",
       "      <td>2</td>\n",
       "      <td>0</td>\n",
       "      <td>4</td>\n",
       "      <td>169.0</td>\n",
       "      <td>68</td>\n",
       "      <td>66</td>\n",
       "      <td>3</td>\n",
       "      <td>3</td>\n",
       "      <td>1</td>\n",
       "      <td>4</td>\n",
       "      <td>1</td>\n",
       "      <td>Sunflower oil</td>\n",
       "    </tr>\n",
       "    <tr>\n",
       "      <th>64</th>\n",
       "      <td>64</td>\n",
       "      <td>Male</td>\n",
       "      <td>1</td>\n",
       "      <td>0</td>\n",
       "      <td>3</td>\n",
       "      <td>174.0</td>\n",
       "      <td>74</td>\n",
       "      <td>68</td>\n",
       "      <td>3</td>\n",
       "      <td>5</td>\n",
       "      <td>5</td>\n",
       "      <td>5</td>\n",
       "      <td>5</td>\n",
       "      <td>Olive oil</td>\n",
       "    </tr>\n",
       "    <tr>\n",
       "      <th>67</th>\n",
       "      <td>67</td>\n",
       "      <td>Female</td>\n",
       "      <td>1</td>\n",
       "      <td>0</td>\n",
       "      <td>2</td>\n",
       "      <td>150.0</td>\n",
       "      <td>55</td>\n",
       "      <td>67</td>\n",
       "      <td>5</td>\n",
       "      <td>2</td>\n",
       "      <td>5</td>\n",
       "      <td>5</td>\n",
       "      <td>0</td>\n",
       "      <td>Peanut oil</td>\n",
       "    </tr>\n",
       "    <tr>\n",
       "      <th>69</th>\n",
       "      <td>69</td>\n",
       "      <td>Male</td>\n",
       "      <td>2</td>\n",
       "      <td>0</td>\n",
       "      <td>3</td>\n",
       "      <td>180.0</td>\n",
       "      <td>90</td>\n",
       "      <td>68</td>\n",
       "      <td>5</td>\n",
       "      <td>3</td>\n",
       "      <td>5</td>\n",
       "      <td>5</td>\n",
       "      <td>5</td>\n",
       "      <td>Sunflower oil</td>\n",
       "    </tr>\n",
       "    <tr>\n",
       "      <th>70</th>\n",
       "      <td>70</td>\n",
       "      <td>Female</td>\n",
       "      <td>2</td>\n",
       "      <td>0</td>\n",
       "      <td>2</td>\n",
       "      <td>152.0</td>\n",
       "      <td>60</td>\n",
       "      <td>69</td>\n",
       "      <td>5</td>\n",
       "      <td>3</td>\n",
       "      <td>5</td>\n",
       "      <td>4</td>\n",
       "      <td>1</td>\n",
       "      <td>Sunflower oil</td>\n",
       "    </tr>\n",
       "    <tr>\n",
       "      <th>71</th>\n",
       "      <td>71</td>\n",
       "      <td>Male</td>\n",
       "      <td>2</td>\n",
       "      <td>0</td>\n",
       "      <td>3</td>\n",
       "      <td>162.0</td>\n",
       "      <td>74</td>\n",
       "      <td>67</td>\n",
       "      <td>5</td>\n",
       "      <td>3</td>\n",
       "      <td>5</td>\n",
       "      <td>4</td>\n",
       "      <td>2</td>\n",
       "      <td>Sunflower oil</td>\n",
       "    </tr>\n",
       "    <tr>\n",
       "      <th>72</th>\n",
       "      <td>72</td>\n",
       "      <td>Female</td>\n",
       "      <td>2</td>\n",
       "      <td>1</td>\n",
       "      <td>2</td>\n",
       "      <td>152.0</td>\n",
       "      <td>64</td>\n",
       "      <td>66</td>\n",
       "      <td>5</td>\n",
       "      <td>3</td>\n",
       "      <td>3</td>\n",
       "      <td>5</td>\n",
       "      <td>5</td>\n",
       "      <td>Peanut oil</td>\n",
       "    </tr>\n",
       "    <tr>\n",
       "      <th>81</th>\n",
       "      <td>81</td>\n",
       "      <td>Female</td>\n",
       "      <td>2</td>\n",
       "      <td>0</td>\n",
       "      <td>2</td>\n",
       "      <td>155.0</td>\n",
       "      <td>52</td>\n",
       "      <td>67</td>\n",
       "      <td>3</td>\n",
       "      <td>1</td>\n",
       "      <td>5</td>\n",
       "      <td>4</td>\n",
       "      <td>0</td>\n",
       "      <td>Sunflower oil</td>\n",
       "    </tr>\n",
       "    <tr>\n",
       "      <th>88</th>\n",
       "      <td>88</td>\n",
       "      <td>Female</td>\n",
       "      <td>2</td>\n",
       "      <td>4</td>\n",
       "      <td>0</td>\n",
       "      <td>164.0</td>\n",
       "      <td>80</td>\n",
       "      <td>65</td>\n",
       "      <td>3</td>\n",
       "      <td>2</td>\n",
       "      <td>3</td>\n",
       "      <td>3</td>\n",
       "      <td>1</td>\n",
       "      <td>Olive oil</td>\n",
       "    </tr>\n",
       "    <tr>\n",
       "      <th>92</th>\n",
       "      <td>92</td>\n",
       "      <td>Female</td>\n",
       "      <td>2</td>\n",
       "      <td>0</td>\n",
       "      <td>2</td>\n",
       "      <td>168.0</td>\n",
       "      <td>70</td>\n",
       "      <td>69</td>\n",
       "      <td>4</td>\n",
       "      <td>3</td>\n",
       "      <td>5</td>\n",
       "      <td>4</td>\n",
       "      <td>5</td>\n",
       "      <td>Margarine</td>\n",
       "    </tr>\n",
       "    <tr>\n",
       "      <th>100</th>\n",
       "      <td>100</td>\n",
       "      <td>Female</td>\n",
       "      <td>2</td>\n",
       "      <td>0</td>\n",
       "      <td>2</td>\n",
       "      <td>168.0</td>\n",
       "      <td>69</td>\n",
       "      <td>66</td>\n",
       "      <td>3</td>\n",
       "      <td>3</td>\n",
       "      <td>5</td>\n",
       "      <td>5</td>\n",
       "      <td>5</td>\n",
       "      <td>Butter</td>\n",
       "    </tr>\n",
       "    <tr>\n",
       "      <th>101</th>\n",
       "      <td>101</td>\n",
       "      <td>Female</td>\n",
       "      <td>1</td>\n",
       "      <td>0</td>\n",
       "      <td>2</td>\n",
       "      <td>156.0</td>\n",
       "      <td>57</td>\n",
       "      <td>68</td>\n",
       "      <td>4</td>\n",
       "      <td>2</td>\n",
       "      <td>4</td>\n",
       "      <td>4</td>\n",
       "      <td>3</td>\n",
       "      <td>Margarine</td>\n",
       "    </tr>\n",
       "    <tr>\n",
       "      <th>102</th>\n",
       "      <td>102</td>\n",
       "      <td>Female</td>\n",
       "      <td>1</td>\n",
       "      <td>0</td>\n",
       "      <td>0</td>\n",
       "      <td>164.0</td>\n",
       "      <td>90</td>\n",
       "      <td>68</td>\n",
       "      <td>3</td>\n",
       "      <td>2</td>\n",
       "      <td>3</td>\n",
       "      <td>2</td>\n",
       "      <td>1</td>\n",
       "      <td>Sunflower oil</td>\n",
       "    </tr>\n",
       "    <tr>\n",
       "      <th>108</th>\n",
       "      <td>108</td>\n",
       "      <td>Male</td>\n",
       "      <td>2</td>\n",
       "      <td>0</td>\n",
       "      <td>2</td>\n",
       "      <td>178.0</td>\n",
       "      <td>80</td>\n",
       "      <td>67</td>\n",
       "      <td>5</td>\n",
       "      <td>3</td>\n",
       "      <td>2</td>\n",
       "      <td>3</td>\n",
       "      <td>3</td>\n",
       "      <td>Sunflower oil</td>\n",
       "    </tr>\n",
       "    <tr>\n",
       "      <th>120</th>\n",
       "      <td>120</td>\n",
       "      <td>Female</td>\n",
       "      <td>2</td>\n",
       "      <td>2</td>\n",
       "      <td>0</td>\n",
       "      <td>163.0</td>\n",
       "      <td>58</td>\n",
       "      <td>67</td>\n",
       "      <td>2</td>\n",
       "      <td>4</td>\n",
       "      <td>5</td>\n",
       "      <td>5</td>\n",
       "      <td>3</td>\n",
       "      <td>Olive oil</td>\n",
       "    </tr>\n",
       "    <tr>\n",
       "      <th>121</th>\n",
       "      <td>121</td>\n",
       "      <td>Female</td>\n",
       "      <td>1</td>\n",
       "      <td>1</td>\n",
       "      <td>1</td>\n",
       "      <td>158.0</td>\n",
       "      <td>42</td>\n",
       "      <td>67</td>\n",
       "      <td>1</td>\n",
       "      <td>2</td>\n",
       "      <td>5</td>\n",
       "      <td>2</td>\n",
       "      <td>5</td>\n",
       "      <td>Peanut oil</td>\n",
       "    </tr>\n",
       "    <tr>\n",
       "      <th>127</th>\n",
       "      <td>127</td>\n",
       "      <td>Female</td>\n",
       "      <td>1</td>\n",
       "      <td>0</td>\n",
       "      <td>2</td>\n",
       "      <td>151.0</td>\n",
       "      <td>38</td>\n",
       "      <td>66</td>\n",
       "      <td>4</td>\n",
       "      <td>4</td>\n",
       "      <td>5</td>\n",
       "      <td>5</td>\n",
       "      <td>5</td>\n",
       "      <td>Margarine</td>\n",
       "    </tr>\n",
       "    <tr>\n",
       "      <th>132</th>\n",
       "      <td>132</td>\n",
       "      <td>Female</td>\n",
       "      <td>2</td>\n",
       "      <td>0</td>\n",
       "      <td>3</td>\n",
       "      <td>160.0</td>\n",
       "      <td>58</td>\n",
       "      <td>69</td>\n",
       "      <td>5</td>\n",
       "      <td>3</td>\n",
       "      <td>5</td>\n",
       "      <td>5</td>\n",
       "      <td>1</td>\n",
       "      <td>Sunflower oil</td>\n",
       "    </tr>\n",
       "    <tr>\n",
       "      <th>133</th>\n",
       "      <td>133</td>\n",
       "      <td>Male</td>\n",
       "      <td>2</td>\n",
       "      <td>0</td>\n",
       "      <td>3</td>\n",
       "      <td>174.0</td>\n",
       "      <td>73</td>\n",
       "      <td>69</td>\n",
       "      <td>4</td>\n",
       "      <td>3</td>\n",
       "      <td>5</td>\n",
       "      <td>5</td>\n",
       "      <td>5</td>\n",
       "      <td>Sunflower oil</td>\n",
       "    </tr>\n",
       "    <tr>\n",
       "      <th>135</th>\n",
       "      <td>135</td>\n",
       "      <td>Female</td>\n",
       "      <td>1</td>\n",
       "      <td>0</td>\n",
       "      <td>2</td>\n",
       "      <td>168.0</td>\n",
       "      <td>63</td>\n",
       "      <td>69</td>\n",
       "      <td>3</td>\n",
       "      <td>3</td>\n",
       "      <td>4</td>\n",
       "      <td>5</td>\n",
       "      <td>1</td>\n",
       "      <td>Peanut oil</td>\n",
       "    </tr>\n",
       "    <tr>\n",
       "      <th>136</th>\n",
       "      <td>136</td>\n",
       "      <td>Female</td>\n",
       "      <td>2</td>\n",
       "      <td>2</td>\n",
       "      <td>1</td>\n",
       "      <td>162.0</td>\n",
       "      <td>55</td>\n",
       "      <td>65</td>\n",
       "      <td>3</td>\n",
       "      <td>3</td>\n",
       "      <td>5</td>\n",
       "      <td>5</td>\n",
       "      <td>1</td>\n",
       "      <td>Peanut oil</td>\n",
       "    </tr>\n",
       "    <tr>\n",
       "      <th>149</th>\n",
       "      <td>149</td>\n",
       "      <td>Female</td>\n",
       "      <td>2</td>\n",
       "      <td>0</td>\n",
       "      <td>4</td>\n",
       "      <td>160.0</td>\n",
       "      <td>75</td>\n",
       "      <td>69</td>\n",
       "      <td>4</td>\n",
       "      <td>2</td>\n",
       "      <td>2</td>\n",
       "      <td>5</td>\n",
       "      <td>1</td>\n",
       "      <td>Peanut oil</td>\n",
       "    </tr>\n",
       "    <tr>\n",
       "      <th>153</th>\n",
       "      <td>153</td>\n",
       "      <td>Female</td>\n",
       "      <td>1</td>\n",
       "      <td>0</td>\n",
       "      <td>4</td>\n",
       "      <td>162.0</td>\n",
       "      <td>53</td>\n",
       "      <td>65</td>\n",
       "      <td>4</td>\n",
       "      <td>3</td>\n",
       "      <td>5</td>\n",
       "      <td>5</td>\n",
       "      <td>5</td>\n",
       "      <td>Margarine</td>\n",
       "    </tr>\n",
       "    <tr>\n",
       "      <th>154</th>\n",
       "      <td>154</td>\n",
       "      <td>Female</td>\n",
       "      <td>2</td>\n",
       "      <td>3</td>\n",
       "      <td>0</td>\n",
       "      <td>164.0</td>\n",
       "      <td>67</td>\n",
       "      <td>67</td>\n",
       "      <td>4</td>\n",
       "      <td>3</td>\n",
       "      <td>5</td>\n",
       "      <td>5</td>\n",
       "      <td>1</td>\n",
       "      <td>Mix of vegetable oils (e.g., Isio4)</td>\n",
       "    </tr>\n",
       "    <tr>\n",
       "      <th>163</th>\n",
       "      <td>163</td>\n",
       "      <td>Male</td>\n",
       "      <td>2</td>\n",
       "      <td>4</td>\n",
       "      <td>0</td>\n",
       "      <td>176.0</td>\n",
       "      <td>82</td>\n",
       "      <td>66</td>\n",
       "      <td>3</td>\n",
       "      <td>3</td>\n",
       "      <td>5</td>\n",
       "      <td>5</td>\n",
       "      <td>0</td>\n",
       "      <td>Olive oil</td>\n",
       "    </tr>\n",
       "    <tr>\n",
       "      <th>172</th>\n",
       "      <td>172</td>\n",
       "      <td>Female</td>\n",
       "      <td>1</td>\n",
       "      <td>0</td>\n",
       "      <td>5</td>\n",
       "      <td>155.0</td>\n",
       "      <td>57</td>\n",
       "      <td>69</td>\n",
       "      <td>2</td>\n",
       "      <td>1</td>\n",
       "      <td>2</td>\n",
       "      <td>4</td>\n",
       "      <td>5</td>\n",
       "      <td>Sunflower oil</td>\n",
       "    </tr>\n",
       "    <tr>\n",
       "      <th>173</th>\n",
       "      <td>173</td>\n",
       "      <td>Female</td>\n",
       "      <td>3</td>\n",
       "      <td>2</td>\n",
       "      <td>1</td>\n",
       "      <td>154.0</td>\n",
       "      <td>78</td>\n",
       "      <td>66</td>\n",
       "      <td>4</td>\n",
       "      <td>3</td>\n",
       "      <td>3</td>\n",
       "      <td>5</td>\n",
       "      <td>0</td>\n",
       "      <td>Sunflower oil</td>\n",
       "    </tr>\n",
       "    <tr>\n",
       "      <th>177</th>\n",
       "      <td>177</td>\n",
       "      <td>Female</td>\n",
       "      <td>2</td>\n",
       "      <td>0</td>\n",
       "      <td>1</td>\n",
       "      <td>158.0</td>\n",
       "      <td>65</td>\n",
       "      <td>69</td>\n",
       "      <td>2</td>\n",
       "      <td>2</td>\n",
       "      <td>5</td>\n",
       "      <td>5</td>\n",
       "      <td>5</td>\n",
       "      <td>Peanut oil</td>\n",
       "    </tr>\n",
       "    <tr>\n",
       "      <th>182</th>\n",
       "      <td>182</td>\n",
       "      <td>Female</td>\n",
       "      <td>1</td>\n",
       "      <td>0</td>\n",
       "      <td>1</td>\n",
       "      <td>163.0</td>\n",
       "      <td>62</td>\n",
       "      <td>68</td>\n",
       "      <td>3</td>\n",
       "      <td>3</td>\n",
       "      <td>3</td>\n",
       "      <td>5</td>\n",
       "      <td>0</td>\n",
       "      <td>Mix of vegetable oils (e.g., Isio4)</td>\n",
       "    </tr>\n",
       "    <tr>\n",
       "      <th>188</th>\n",
       "      <td>188</td>\n",
       "      <td>Male</td>\n",
       "      <td>2</td>\n",
       "      <td>0</td>\n",
       "      <td>2</td>\n",
       "      <td>182.0</td>\n",
       "      <td>90</td>\n",
       "      <td>66</td>\n",
       "      <td>5</td>\n",
       "      <td>2</td>\n",
       "      <td>5</td>\n",
       "      <td>3</td>\n",
       "      <td>1</td>\n",
       "      <td>Olive oil</td>\n",
       "    </tr>\n",
       "    <tr>\n",
       "      <th>192</th>\n",
       "      <td>192</td>\n",
       "      <td>Male</td>\n",
       "      <td>2</td>\n",
       "      <td>0</td>\n",
       "      <td>2</td>\n",
       "      <td>162.0</td>\n",
       "      <td>75</td>\n",
       "      <td>65</td>\n",
       "      <td>4</td>\n",
       "      <td>2</td>\n",
       "      <td>4</td>\n",
       "      <td>5</td>\n",
       "      <td>1</td>\n",
       "      <td>Peanut oil</td>\n",
       "    </tr>\n",
       "    <tr>\n",
       "      <th>195</th>\n",
       "      <td>195</td>\n",
       "      <td>Female</td>\n",
       "      <td>1</td>\n",
       "      <td>0</td>\n",
       "      <td>2</td>\n",
       "      <td>152.0</td>\n",
       "      <td>54</td>\n",
       "      <td>69</td>\n",
       "      <td>3</td>\n",
       "      <td>3</td>\n",
       "      <td>5</td>\n",
       "      <td>3</td>\n",
       "      <td>4</td>\n",
       "      <td>Margarine</td>\n",
       "    </tr>\n",
       "    <tr>\n",
       "      <th>202</th>\n",
       "      <td>202</td>\n",
       "      <td>Male</td>\n",
       "      <td>1</td>\n",
       "      <td>0</td>\n",
       "      <td>2</td>\n",
       "      <td>168.0</td>\n",
       "      <td>67</td>\n",
       "      <td>69</td>\n",
       "      <td>3</td>\n",
       "      <td>3</td>\n",
       "      <td>5</td>\n",
       "      <td>5</td>\n",
       "      <td>1</td>\n",
       "      <td>Peanut oil</td>\n",
       "    </tr>\n",
       "    <tr>\n",
       "      <th>203</th>\n",
       "      <td>203</td>\n",
       "      <td>Female</td>\n",
       "      <td>2</td>\n",
       "      <td>0</td>\n",
       "      <td>1</td>\n",
       "      <td>163.0</td>\n",
       "      <td>61</td>\n",
       "      <td>66</td>\n",
       "      <td>2</td>\n",
       "      <td>2</td>\n",
       "      <td>5</td>\n",
       "      <td>3</td>\n",
       "      <td>4</td>\n",
       "      <td>Mix of vegetable oils (e.g., Isio4)</td>\n",
       "    </tr>\n",
       "    <tr>\n",
       "      <th>205</th>\n",
       "      <td>205</td>\n",
       "      <td>Male</td>\n",
       "      <td>2</td>\n",
       "      <td>4</td>\n",
       "      <td>2</td>\n",
       "      <td>168.0</td>\n",
       "      <td>73</td>\n",
       "      <td>67</td>\n",
       "      <td>2</td>\n",
       "      <td>4</td>\n",
       "      <td>5</td>\n",
       "      <td>3</td>\n",
       "      <td>0</td>\n",
       "      <td>Olive oil</td>\n",
       "    </tr>\n",
       "    <tr>\n",
       "      <th>214</th>\n",
       "      <td>214</td>\n",
       "      <td>Male</td>\n",
       "      <td>2</td>\n",
       "      <td>0</td>\n",
       "      <td>1</td>\n",
       "      <td>176.0</td>\n",
       "      <td>73</td>\n",
       "      <td>66</td>\n",
       "      <td>4</td>\n",
       "      <td>3</td>\n",
       "      <td>5</td>\n",
       "      <td>5</td>\n",
       "      <td>1</td>\n",
       "      <td>Olive oil</td>\n",
       "    </tr>\n",
       "    <tr>\n",
       "      <th>215</th>\n",
       "      <td>215</td>\n",
       "      <td>Female</td>\n",
       "      <td>2</td>\n",
       "      <td>0</td>\n",
       "      <td>1</td>\n",
       "      <td>151.0</td>\n",
       "      <td>48</td>\n",
       "      <td>66</td>\n",
       "      <td>4</td>\n",
       "      <td>3</td>\n",
       "      <td>4</td>\n",
       "      <td>5</td>\n",
       "      <td>5</td>\n",
       "      <td>Olive oil</td>\n",
       "    </tr>\n",
       "    <tr>\n",
       "      <th>216</th>\n",
       "      <td>216</td>\n",
       "      <td>Female</td>\n",
       "      <td>2</td>\n",
       "      <td>0</td>\n",
       "      <td>5</td>\n",
       "      <td>153.0</td>\n",
       "      <td>53</td>\n",
       "      <td>69</td>\n",
       "      <td>4</td>\n",
       "      <td>3</td>\n",
       "      <td>5</td>\n",
       "      <td>5</td>\n",
       "      <td>1</td>\n",
       "      <td>Olive oil</td>\n",
       "    </tr>\n",
       "    <tr>\n",
       "      <th>222</th>\n",
       "      <td>222</td>\n",
       "      <td>Female</td>\n",
       "      <td>2</td>\n",
       "      <td>0</td>\n",
       "      <td>3</td>\n",
       "      <td>163.0</td>\n",
       "      <td>62</td>\n",
       "      <td>68</td>\n",
       "      <td>4</td>\n",
       "      <td>3</td>\n",
       "      <td>4</td>\n",
       "      <td>4</td>\n",
       "      <td>1</td>\n",
       "      <td>Peanut oil</td>\n",
       "    </tr>\n",
       "    <tr>\n",
       "      <th>225</th>\n",
       "      <td>225</td>\n",
       "      <td>Female</td>\n",
       "      <td>2</td>\n",
       "      <td>2</td>\n",
       "      <td>0</td>\n",
       "      <td>159.0</td>\n",
       "      <td>63</td>\n",
       "      <td>69</td>\n",
       "      <td>3</td>\n",
       "      <td>3</td>\n",
       "      <td>5</td>\n",
       "      <td>5</td>\n",
       "      <td>1</td>\n",
       "      <td>Sunflower oil</td>\n",
       "    </tr>\n",
       "  </tbody>\n",
       "</table>\n",
       "</div>"
      ],
      "text/plain": [
       "     Unnamed: 0  gender  situation  tea_consumption  coffee  height  weight  \\\n",
       "1             1  Female          1                1       1   162.0      60   \n",
       "4             4  Female          1                2       1   154.0      50   \n",
       "26           26  Female          1                0       0   162.0      58   \n",
       "27           27    Male          2                4       5   172.0      80   \n",
       "28           28  Female          1                1       1   165.0      75   \n",
       "30           30  Female          2                0       1   160.0      54   \n",
       "32           32    Male          2                0       3   164.0      53   \n",
       "33           33  Female          2                1       2   156.0      58   \n",
       "34           34  Female          1                0       2   153.0      70   \n",
       "40           40  Female          2                0       3   168.0      77   \n",
       "47           47  Female          1                0       1   158.0      51   \n",
       "50           50  Female          2                0       3   153.0      60   \n",
       "51           51    Male          2                0       4   169.0      68   \n",
       "64           64    Male          1                0       3   174.0      74   \n",
       "67           67  Female          1                0       2   150.0      55   \n",
       "69           69    Male          2                0       3   180.0      90   \n",
       "70           70  Female          2                0       2   152.0      60   \n",
       "71           71    Male          2                0       3   162.0      74   \n",
       "72           72  Female          2                1       2   152.0      64   \n",
       "81           81  Female          2                0       2   155.0      52   \n",
       "88           88  Female          2                4       0   164.0      80   \n",
       "92           92  Female          2                0       2   168.0      70   \n",
       "100         100  Female          2                0       2   168.0      69   \n",
       "101         101  Female          1                0       2   156.0      57   \n",
       "102         102  Female          1                0       0   164.0      90   \n",
       "108         108    Male          2                0       2   178.0      80   \n",
       "120         120  Female          2                2       0   163.0      58   \n",
       "121         121  Female          1                1       1   158.0      42   \n",
       "127         127  Female          1                0       2   151.0      38   \n",
       "132         132  Female          2                0       3   160.0      58   \n",
       "133         133    Male          2                0       3   174.0      73   \n",
       "135         135  Female          1                0       2   168.0      63   \n",
       "136         136  Female          2                2       1   162.0      55   \n",
       "149         149  Female          2                0       4   160.0      75   \n",
       "153         153  Female          1                0       4   162.0      53   \n",
       "154         154  Female          2                3       0   164.0      67   \n",
       "163         163    Male          2                4       0   176.0      82   \n",
       "172         172  Female          1                0       5   155.0      57   \n",
       "173         173  Female          3                2       1   154.0      78   \n",
       "177         177  Female          2                0       1   158.0      65   \n",
       "182         182  Female          1                0       1   163.0      62   \n",
       "188         188    Male          2                0       2   182.0      90   \n",
       "192         192    Male          2                0       2   162.0      75   \n",
       "195         195  Female          1                0       2   152.0      54   \n",
       "202         202    Male          1                0       2   168.0      67   \n",
       "203         203  Female          2                0       1   163.0      61   \n",
       "205         205    Male          2                4       2   168.0      73   \n",
       "214         214    Male          2                0       1   176.0      73   \n",
       "215         215  Female          2                0       1   151.0      48   \n",
       "216         216  Female          2                0       5   153.0      53   \n",
       "222         222  Female          2                0       3   163.0      62   \n",
       "225         225  Female          2                2       0   159.0      63   \n",
       "\n",
       "     age  meat  fish  raw_fruit  cooked_fruit_veg  chocol  \\\n",
       "1     68     5     2          5                 5       1   \n",
       "4     65     5     3          5                 5       3   \n",
       "26    67     4     3          5                 5       0   \n",
       "27    68     5     3          5                 5       5   \n",
       "28    69     4     3          5                 5       5   \n",
       "30    67     4     4          5                 3       2   \n",
       "32    69     5     3          5                 5       1   \n",
       "33    67     5     3          5                 5       5   \n",
       "34    69     5     0          5                 5       3   \n",
       "40    69     4     3          5                 5       5   \n",
       "47    69     5     1          5                 5       1   \n",
       "50    65     3     3          3                 4       3   \n",
       "51    66     3     3          1                 4       1   \n",
       "64    68     3     5          5                 5       5   \n",
       "67    67     5     2          5                 5       0   \n",
       "69    68     5     3          5                 5       5   \n",
       "70    69     5     3          5                 4       1   \n",
       "71    67     5     3          5                 4       2   \n",
       "72    66     5     3          3                 5       5   \n",
       "81    67     3     1          5                 4       0   \n",
       "88    65     3     2          3                 3       1   \n",
       "92    69     4     3          5                 4       5   \n",
       "100   66     3     3          5                 5       5   \n",
       "101   68     4     2          4                 4       3   \n",
       "102   68     3     2          3                 2       1   \n",
       "108   67     5     3          2                 3       3   \n",
       "120   67     2     4          5                 5       3   \n",
       "121   67     1     2          5                 2       5   \n",
       "127   66     4     4          5                 5       5   \n",
       "132   69     5     3          5                 5       1   \n",
       "133   69     4     3          5                 5       5   \n",
       "135   69     3     3          4                 5       1   \n",
       "136   65     3     3          5                 5       1   \n",
       "149   69     4     2          2                 5       1   \n",
       "153   65     4     3          5                 5       5   \n",
       "154   67     4     3          5                 5       1   \n",
       "163   66     3     3          5                 5       0   \n",
       "172   69     2     1          2                 4       5   \n",
       "173   66     4     3          3                 5       0   \n",
       "177   69     2     2          5                 5       5   \n",
       "182   68     3     3          3                 5       0   \n",
       "188   66     5     2          5                 3       1   \n",
       "192   65     4     2          4                 5       1   \n",
       "195   69     3     3          5                 3       4   \n",
       "202   69     3     3          5                 5       1   \n",
       "203   66     2     2          5                 3       4   \n",
       "205   67     2     4          5                 3       0   \n",
       "214   66     4     3          5                 5       1   \n",
       "215   66     4     3          4                 5       5   \n",
       "216   69     4     3          5                 5       1   \n",
       "222   68     4     3          4                 4       1   \n",
       "225   69     3     3          5                 5       1   \n",
       "\n",
       "                                     fat  \n",
       "1                          Sunflower oil  \n",
       "4                              Margarine  \n",
       "26                            Peanut oil  \n",
       "27                             Olive oil  \n",
       "28                            Peanut oil  \n",
       "30                         Sunflower oil  \n",
       "32                             Olive oil  \n",
       "33                            Peanut oil  \n",
       "34                             Olive oil  \n",
       "40                         Sunflower oil  \n",
       "47                         Sunflower oil  \n",
       "50                         Sunflower oil  \n",
       "51                         Sunflower oil  \n",
       "64                             Olive oil  \n",
       "67                            Peanut oil  \n",
       "69                         Sunflower oil  \n",
       "70                         Sunflower oil  \n",
       "71                         Sunflower oil  \n",
       "72                            Peanut oil  \n",
       "81                         Sunflower oil  \n",
       "88                             Olive oil  \n",
       "92                             Margarine  \n",
       "100                               Butter  \n",
       "101                            Margarine  \n",
       "102                        Sunflower oil  \n",
       "108                        Sunflower oil  \n",
       "120                            Olive oil  \n",
       "121                           Peanut oil  \n",
       "127                            Margarine  \n",
       "132                        Sunflower oil  \n",
       "133                        Sunflower oil  \n",
       "135                           Peanut oil  \n",
       "136                           Peanut oil  \n",
       "149                           Peanut oil  \n",
       "153                            Margarine  \n",
       "154  Mix of vegetable oils (e.g., Isio4)  \n",
       "163                            Olive oil  \n",
       "172                        Sunflower oil  \n",
       "173                        Sunflower oil  \n",
       "177                           Peanut oil  \n",
       "182  Mix of vegetable oils (e.g., Isio4)  \n",
       "188                            Olive oil  \n",
       "192                           Peanut oil  \n",
       "195                            Margarine  \n",
       "202                           Peanut oil  \n",
       "203  Mix of vegetable oils (e.g., Isio4)  \n",
       "205                            Olive oil  \n",
       "214                            Olive oil  \n",
       "215                            Olive oil  \n",
       "216                            Olive oil  \n",
       "222                           Peanut oil  \n",
       "225                        Sunflower oil  "
      ]
     },
     "execution_count": 18,
     "metadata": {},
     "output_type": "execute_result"
    }
   ],
   "source": [
    "range = nutri[(nutri['age'] >= 65) & (nutri['age'] < 70)] # Filter the data to include only rows where the 'age' column values between 65 & 70\n",
    "range"
   ]
  },
  {
   "cell_type": "markdown",
   "metadata": {},
   "source": [
    "We can also find the minimum or the minimum value in a specific column."
   ]
  },
  {
   "cell_type": "code",
   "execution_count": 19,
   "metadata": {
    "ExecuteTime": {
     "end_time": "2024-09-12T01:52:47.812930Z",
     "start_time": "2024-09-12T01:52:47.810602Z"
    }
   },
   "outputs": [
    {
     "data": {
      "text/plain": [
       "65"
      ]
     },
     "execution_count": 19,
     "metadata": {},
     "output_type": "execute_result"
    }
   ],
   "source": [
    "nutri['age'].min() #  Find min value of age col"
   ]
  },
  {
   "cell_type": "code",
   "execution_count": 20,
   "metadata": {
    "ExecuteTime": {
     "end_time": "2024-09-12T01:52:47.815752Z",
     "start_time": "2024-09-12T01:52:47.813546Z"
    }
   },
   "outputs": [
    {
     "data": {
      "text/plain": [
       "96"
      ]
     },
     "execution_count": 20,
     "metadata": {},
     "output_type": "execute_result"
    }
   ],
   "source": [
    "nutri['weight'].max() # Find max value of weight col"
   ]
  },
  {
   "cell_type": "markdown",
   "metadata": {},
   "source": [
    "Here we are sorting the nutri DataFrame by the height column in ascending order."
   ]
  },
  {
   "cell_type": "code",
   "execution_count": 21,
   "metadata": {
    "ExecuteTime": {
     "end_time": "2024-09-12T01:52:47.821617Z",
     "start_time": "2024-09-12T01:52:47.816456Z"
    }
   },
   "outputs": [
    {
     "data": {
      "text/html": [
       "<div>\n",
       "<style scoped>\n",
       "    .dataframe tbody tr th:only-of-type {\n",
       "        vertical-align: middle;\n",
       "    }\n",
       "\n",
       "    .dataframe tbody tr th {\n",
       "        vertical-align: top;\n",
       "    }\n",
       "\n",
       "    .dataframe thead th {\n",
       "        text-align: right;\n",
       "    }\n",
       "</style>\n",
       "<table border=\"1\" class=\"dataframe\">\n",
       "  <thead>\n",
       "    <tr style=\"text-align: right;\">\n",
       "      <th></th>\n",
       "      <th>Unnamed: 0</th>\n",
       "      <th>gender</th>\n",
       "      <th>situation</th>\n",
       "      <th>tea_consumption</th>\n",
       "      <th>coffee</th>\n",
       "      <th>height</th>\n",
       "      <th>weight</th>\n",
       "      <th>age</th>\n",
       "      <th>meat</th>\n",
       "      <th>fish</th>\n",
       "      <th>raw_fruit</th>\n",
       "      <th>cooked_fruit_veg</th>\n",
       "      <th>chocol</th>\n",
       "      <th>fat</th>\n",
       "    </tr>\n",
       "  </thead>\n",
       "  <tbody>\n",
       "    <tr>\n",
       "      <th>117</th>\n",
       "      <td>117</td>\n",
       "      <td>Male</td>\n",
       "      <td>2</td>\n",
       "      <td>2</td>\n",
       "      <td>1</td>\n",
       "      <td>181.0</td>\n",
       "      <td>76</td>\n",
       "      <td>78</td>\n",
       "      <td>4</td>\n",
       "      <td>3</td>\n",
       "      <td>5</td>\n",
       "      <td>5</td>\n",
       "      <td>5</td>\n",
       "      <td>Olive oil</td>\n",
       "    </tr>\n",
       "    <tr>\n",
       "      <th>41</th>\n",
       "      <td>41</td>\n",
       "      <td>Male</td>\n",
       "      <td>1</td>\n",
       "      <td>0</td>\n",
       "      <td>0</td>\n",
       "      <td>181.0</td>\n",
       "      <td>94</td>\n",
       "      <td>71</td>\n",
       "      <td>3</td>\n",
       "      <td>2</td>\n",
       "      <td>5</td>\n",
       "      <td>3</td>\n",
       "      <td>5</td>\n",
       "      <td>Olive oil</td>\n",
       "    </tr>\n",
       "    <tr>\n",
       "      <th>184</th>\n",
       "      <td>184</td>\n",
       "      <td>Male</td>\n",
       "      <td>2</td>\n",
       "      <td>0</td>\n",
       "      <td>1</td>\n",
       "      <td>182.0</td>\n",
       "      <td>74</td>\n",
       "      <td>75</td>\n",
       "      <td>3</td>\n",
       "      <td>3</td>\n",
       "      <td>5</td>\n",
       "      <td>4</td>\n",
       "      <td>2</td>\n",
       "      <td>Mix of vegetable oils (e.g., Isio4)</td>\n",
       "    </tr>\n",
       "    <tr>\n",
       "      <th>188</th>\n",
       "      <td>188</td>\n",
       "      <td>Male</td>\n",
       "      <td>2</td>\n",
       "      <td>0</td>\n",
       "      <td>2</td>\n",
       "      <td>182.0</td>\n",
       "      <td>90</td>\n",
       "      <td>66</td>\n",
       "      <td>5</td>\n",
       "      <td>2</td>\n",
       "      <td>5</td>\n",
       "      <td>3</td>\n",
       "      <td>1</td>\n",
       "      <td>Olive oil</td>\n",
       "    </tr>\n",
       "    <tr>\n",
       "      <th>98</th>\n",
       "      <td>98</td>\n",
       "      <td>Male</td>\n",
       "      <td>2</td>\n",
       "      <td>3</td>\n",
       "      <td>0</td>\n",
       "      <td>186.0</td>\n",
       "      <td>63</td>\n",
       "      <td>72</td>\n",
       "      <td>4</td>\n",
       "      <td>3</td>\n",
       "      <td>5</td>\n",
       "      <td>4</td>\n",
       "      <td>4</td>\n",
       "      <td>Peanut oil</td>\n",
       "    </tr>\n",
       "    <tr>\n",
       "      <th>39</th>\n",
       "      <td>39</td>\n",
       "      <td>Male</td>\n",
       "      <td>2</td>\n",
       "      <td>0</td>\n",
       "      <td>3</td>\n",
       "      <td>186.0</td>\n",
       "      <td>95</td>\n",
       "      <td>74</td>\n",
       "      <td>4</td>\n",
       "      <td>3</td>\n",
       "      <td>5</td>\n",
       "      <td>5</td>\n",
       "      <td>5</td>\n",
       "      <td>Sunflower oil</td>\n",
       "    </tr>\n",
       "    <tr>\n",
       "      <th>94</th>\n",
       "      <td>94</td>\n",
       "      <td>Male</td>\n",
       "      <td>1</td>\n",
       "      <td>0</td>\n",
       "      <td>2</td>\n",
       "      <td>186.0</td>\n",
       "      <td>85</td>\n",
       "      <td>74</td>\n",
       "      <td>2</td>\n",
       "      <td>4</td>\n",
       "      <td>5</td>\n",
       "      <td>5</td>\n",
       "      <td>0</td>\n",
       "      <td>Olive oil</td>\n",
       "    </tr>\n",
       "    <tr>\n",
       "      <th>131</th>\n",
       "      <td>131</td>\n",
       "      <td>Male</td>\n",
       "      <td>2</td>\n",
       "      <td>0</td>\n",
       "      <td>3</td>\n",
       "      <td>188.0</td>\n",
       "      <td>75</td>\n",
       "      <td>75</td>\n",
       "      <td>5</td>\n",
       "      <td>3</td>\n",
       "      <td>5</td>\n",
       "      <td>5</td>\n",
       "      <td>5</td>\n",
       "      <td>Sunflower oil</td>\n",
       "    </tr>\n",
       "    <tr>\n",
       "      <th>63</th>\n",
       "      <td>63</td>\n",
       "      <td>Male</td>\n",
       "      <td>2</td>\n",
       "      <td>0</td>\n",
       "      <td>2</td>\n",
       "      <td>188.0</td>\n",
       "      <td>96</td>\n",
       "      <td>88</td>\n",
       "      <td>3</td>\n",
       "      <td>3</td>\n",
       "      <td>5</td>\n",
       "      <td>5</td>\n",
       "      <td>0</td>\n",
       "      <td>Margarine</td>\n",
       "    </tr>\n",
       "    <tr>\n",
       "      <th>59</th>\n",
       "      <td>59</td>\n",
       "      <td>Male</td>\n",
       "      <td>2</td>\n",
       "      <td>0</td>\n",
       "      <td>0</td>\n",
       "      <td>188.0</td>\n",
       "      <td>82</td>\n",
       "      <td>70</td>\n",
       "      <td>4</td>\n",
       "      <td>3</td>\n",
       "      <td>5</td>\n",
       "      <td>4</td>\n",
       "      <td>0</td>\n",
       "      <td>Peanut oil</td>\n",
       "    </tr>\n",
       "  </tbody>\n",
       "</table>\n",
       "</div>"
      ],
      "text/plain": [
       "     Unnamed: 0 gender  situation  tea_consumption  coffee  height  weight  \\\n",
       "117         117   Male          2                2       1   181.0      76   \n",
       "41           41   Male          1                0       0   181.0      94   \n",
       "184         184   Male          2                0       1   182.0      74   \n",
       "188         188   Male          2                0       2   182.0      90   \n",
       "98           98   Male          2                3       0   186.0      63   \n",
       "39           39   Male          2                0       3   186.0      95   \n",
       "94           94   Male          1                0       2   186.0      85   \n",
       "131         131   Male          2                0       3   188.0      75   \n",
       "63           63   Male          2                0       2   188.0      96   \n",
       "59           59   Male          2                0       0   188.0      82   \n",
       "\n",
       "     age  meat  fish  raw_fruit  cooked_fruit_veg  chocol  \\\n",
       "117   78     4     3          5                 5       5   \n",
       "41    71     3     2          5                 3       5   \n",
       "184   75     3     3          5                 4       2   \n",
       "188   66     5     2          5                 3       1   \n",
       "98    72     4     3          5                 4       4   \n",
       "39    74     4     3          5                 5       5   \n",
       "94    74     2     4          5                 5       0   \n",
       "131   75     5     3          5                 5       5   \n",
       "63    88     3     3          5                 5       0   \n",
       "59    70     4     3          5                 4       0   \n",
       "\n",
       "                                     fat  \n",
       "117                            Olive oil  \n",
       "41                             Olive oil  \n",
       "184  Mix of vegetable oils (e.g., Isio4)  \n",
       "188                            Olive oil  \n",
       "98                            Peanut oil  \n",
       "39                         Sunflower oil  \n",
       "94                             Olive oil  \n",
       "131                        Sunflower oil  \n",
       "63                             Margarine  \n",
       "59                            Peanut oil  "
      ]
     },
     "execution_count": 21,
     "metadata": {},
     "output_type": "execute_result"
    }
   ],
   "source": [
    "nutri.sort_values(by='height', ascending=True, inplace=True) # Sort the data according to height col\n",
    "nutri.tail(10)"
   ]
  },
  {
   "cell_type": "markdown",
   "metadata": {},
   "source": [
    "#### What is Normalization?\n",
    "Normalization is a data preprocessing technique used to scale numerical features to a standard range, often between 0 and 1, to improve the performance and stability of machine learning algorithms."
   ]
  },
  {
   "cell_type": "markdown",
   "metadata": {},
   "source": [
    "We can apply min-max normalization to the weight column of the nutri DataFrame to scale its values between 0 and 1."
   ]
  },
  {
   "cell_type": "code",
   "execution_count": 22,
   "metadata": {
    "ExecuteTime": {
     "end_time": "2024-09-12T01:52:47.828237Z",
     "start_time": "2024-09-12T01:52:47.825120Z"
    }
   },
   "outputs": [
    {
     "name": "stdout",
     "output_type": "stream",
     "text": [
      "     weight  weight_normalization\n",
      "138      56              0.310345\n",
      "109      50              0.206897\n",
      "169      60              0.379310\n",
      "122      56              0.310345\n",
      "134      40              0.034483\n",
      "..      ...                   ...\n",
      "39       95              0.982759\n",
      "94       85              0.810345\n",
      "131      75              0.637931\n",
      "63       96              1.000000\n",
      "59       82              0.758621\n",
      "\n",
      "[226 rows x 2 columns]\n"
     ]
    }
   ],
   "source": [
    "# min-max normalization: normalized_value= x−min(x) / max(x)−min(x)\n",
    "\n",
    "nutri['weight_normalization'] = (nutri['weight'] - nutri['weight'].min()) / (nutri['weight'].max() - nutri['weight'].min())\n",
    "\n",
    "print(nutri[['weight', 'weight_normalization']])"
   ]
  },
  {
   "cell_type": "code",
   "execution_count": 23,
   "metadata": {
    "ExecuteTime": {
     "end_time": "2024-09-12T01:52:47.830604Z",
     "start_time": "2024-09-12T01:52:47.828838Z"
    }
   },
   "outputs": [],
   "source": [
    "# Drop weight column after we created a new normalized one\n",
    "nutri = nutri.drop(columns=['weight'])"
   ]
  },
  {
   "cell_type": "markdown",
   "metadata": {},
   "source": [
    "#### What are dummy variables?\n",
    "Dummy variables are used to represent each categorical variable with a separate binary (0 or 1) column. This is useful because many machine learning algorithms and statistical methods require numerical input."
   ]
  },
  {
   "cell_type": "markdown",
   "metadata": {},
   "source": [
    "Example of creating Dummy Variables for gender column:\n",
    "One-hot encoding will create a separate column for each category:\n",
    "- gender_Male (1 if Male, 0 otherwise)\n",
    "- gender_Female (1 if Female, 0 otherwise)\n",
    "\n",
    "We can convert the categorical gender column into numerical dummy variables like this:"
   ]
  },
  {
   "cell_type": "code",
   "execution_count": 24,
   "metadata": {
    "ExecuteTime": {
     "end_time": "2024-09-12T01:52:47.835890Z",
     "start_time": "2024-09-12T01:52:47.831036Z"
    },
    "scrolled": true
   },
   "outputs": [
    {
     "name": "stdout",
     "output_type": "stream",
     "text": [
      "     Unnamed: 0  situation  tea_consumption  coffee  height  age  meat  fish  \\\n",
      "138         138          1                0       2   140.0   84     3     1   \n",
      "109         109          1                0       2   148.0   87     5     2   \n",
      "169         169          1                2       0   148.0   73     3     1   \n",
      "122         122          1                0       3   150.0   77     4     2   \n",
      "134         134          2                0       2   150.0   70     4     3   \n",
      "..          ...        ...              ...     ...     ...  ...   ...   ...   \n",
      "39           39          2                0       3   186.0   74     4     3   \n",
      "94           94          1                0       2   186.0   74     2     4   \n",
      "131         131          2                0       3   188.0   75     5     3   \n",
      "63           63          2                0       2   188.0   88     3     3   \n",
      "59           59          2                0       0   188.0   70     4     3   \n",
      "\n",
      "     raw_fruit  cooked_fruit_veg  chocol            fat  weight_normalization  \\\n",
      "138          3                 3       4     Peanut oil              0.310345   \n",
      "109          5                 5       5  Sunflower oil              0.206897   \n",
      "169          3                 4       3  Sunflower oil              0.379310   \n",
      "122          2                 5       0     Peanut oil              0.310345   \n",
      "134          5                 5       5  Sunflower oil              0.034483   \n",
      "..         ...               ...     ...            ...                   ...   \n",
      "39           5                 5       5  Sunflower oil              0.982759   \n",
      "94           5                 5       0      Olive oil              0.810345   \n",
      "131          5                 5       5  Sunflower oil              0.637931   \n",
      "63           5                 5       0      Margarine              1.000000   \n",
      "59           5                 4       0     Peanut oil              0.758621   \n",
      "\n",
      "     gender_Male  \n",
      "138        False  \n",
      "109        False  \n",
      "169        False  \n",
      "122        False  \n",
      "134        False  \n",
      "..           ...  \n",
      "39          True  \n",
      "94          True  \n",
      "131         True  \n",
      "63          True  \n",
      "59          True  \n",
      "\n",
      "[226 rows x 14 columns]\n"
     ]
    }
   ],
   "source": [
    "nutri = pd.get_dummies(nutri, columns=['gender'], drop_first=True) # One of the dummy variables is dropped to avoid redundancy\n",
    "print(nutri)"
   ]
  },
  {
   "cell_type": "code",
   "execution_count": 25,
   "metadata": {
    "ExecuteTime": {
     "end_time": "2024-09-12T01:52:47.839026Z",
     "start_time": "2024-09-12T01:52:47.836682Z"
    }
   },
   "outputs": [
    {
     "name": "stdout",
     "output_type": "stream",
     "text": [
      "138    0\n",
      "109    0\n",
      "169    0\n",
      "122    0\n",
      "134    0\n",
      "      ..\n",
      "39     1\n",
      "94     1\n",
      "131    1\n",
      "63     1\n",
      "59     1\n",
      "Name: gender_Male, Length: 226, dtype: int64\n"
     ]
    }
   ],
   "source": [
    "# Convert the data type of the gender_Male column to integer type\n",
    "nutri['gender_Male'] = nutri['gender_Male'].astype(int)\n",
    "print(nutri['gender_Male'])"
   ]
  },
  {
   "cell_type": "code",
   "execution_count": 26,
   "metadata": {
    "ExecuteTime": {
     "end_time": "2024-09-12T01:52:47.843403Z",
     "start_time": "2024-09-12T01:52:47.839723Z"
    }
   },
   "outputs": [
    {
     "name": "stdout",
     "output_type": "stream",
     "text": [
      "<class 'pandas.core.frame.DataFrame'>\n",
      "Index: 226 entries, 138 to 59\n",
      "Data columns (total 14 columns):\n",
      " #   Column                Non-Null Count  Dtype  \n",
      "---  ------                --------------  -----  \n",
      " 0   Unnamed: 0            226 non-null    int64  \n",
      " 1   situation             226 non-null    int64  \n",
      " 2   tea_consumption       226 non-null    int64  \n",
      " 3   coffee                226 non-null    int64  \n",
      " 4   height                226 non-null    float64\n",
      " 5   age                   226 non-null    int64  \n",
      " 6   meat                  226 non-null    int64  \n",
      " 7   fish                  226 non-null    int64  \n",
      " 8   raw_fruit             226 non-null    int64  \n",
      " 9   cooked_fruit_veg      226 non-null    int64  \n",
      " 10  chocol                226 non-null    int64  \n",
      " 11  fat                   226 non-null    object \n",
      " 12  weight_normalization  226 non-null    float64\n",
      " 13  gender_Male           226 non-null    int64  \n",
      "dtypes: float64(2), int64(11), object(1)\n",
      "memory usage: 26.5+ KB\n"
     ]
    }
   ],
   "source": [
    "nutri.info()"
   ]
  },
  {
   "cell_type": "markdown",
   "metadata": {},
   "source": [
    "## Part 5"
   ]
  },
  {
   "cell_type": "markdown",
   "metadata": {},
   "source": [
    "### Visualizing Data\n",
    "In this section we describe various methods for visualizing data. The main point we would like to make is that the way in which variables are visualized should always be adapted to the variable types; for example, qualitative data should be plotted differently from quantitative data."
   ]
  },
  {
   "cell_type": "markdown",
   "metadata": {},
   "source": [
    "For the rest of this section, it is assumed that matplotlib.pyplot, pandas, and numpy, have been imported in the Python code as follows."
   ]
  },
  {
   "cell_type": "code",
   "execution_count": 27,
   "metadata": {
    "ExecuteTime": {
     "end_time": "2024-09-12T01:52:47.845550Z",
     "start_time": "2024-09-12T01:52:47.843994Z"
    }
   },
   "outputs": [],
   "source": [
    "import matplotlib.pyplot as plt\n",
    "import pandas as pd\n",
    "import numpy as np"
   ]
  },
  {
   "cell_type": "markdown",
   "metadata": {},
   "source": [
    "#### Plotting Qualitative Variables\n",
    "Suppose we wish to display graphically how many elderly people are living by themselves, as a couple, with family, or other. Recall that the data are given in the situation column of our nutri data. Assuming that we already restructured the data, we can make a barplot of the number of people in each category via the plt.bar function of barplot the standard matplotlib plotting library. The inputs are the x-axis positions, heights, and widths of each bar respectively."
   ]
  },
  {
   "cell_type": "code",
   "execution_count": 28,
   "metadata": {
    "ExecuteTime": {
     "end_time": "2024-09-12T01:52:48.092787Z",
     "start_time": "2024-09-12T01:52:47.846153Z"
    }
   },
   "outputs": [
    {
     "data": {
      "image/png": "[encoded data removed]",
      "text/plain": [
       "<Figure size 640x480 with 1 Axes>"
      ]
     },
     "metadata": {},
     "output_type": "display_data"
    }
   ],
   "source": [
    "DICT_SITUATION = {2:\"Couple\",1:\"Single\",3:\"Family\"}\n",
    "nutri['situation'] = nutri['situation'].replace(DICT_SITUATION) # show situation instead of integers\n",
    "width = 0.5 # the width of the bars\n",
    "x = [0, 1 , 2] # the bar positions on x-axis\n",
    "situation_counts = nutri['situation'].value_counts()\n",
    "plt.bar(x, situation_counts , width , edgecolor = 'black')\n",
    "plt.xticks(x, situation_counts.index) # situation counts = Index(['Couple', 'Single', 'Family'], dtype='object', name='situation')\n",
    "plt.show()"
   ]
  },
  {
   "cell_type": "markdown",
   "metadata": {},
   "source": [
    "#### Plotting Quantitative Variables\n",
    "We now present a few useful methods for visualizing quantitative data, again using the nutri data set.We will first focus on continuous features (e.g., 'age') and then add some specific graphs related to discrete features (e.g., 'tea'). The aim is to describe the variability present in a single feature. \n",
    "\n",
    "This typically involves a central tendency, where observations tend to gather around, with fewer observations further away. \n",
    "\n",
    "The main aspects of the distribution are the location (or center) of the variability, the spread of the variability (how far the values extend from the center), and the shape of the variability; e.g., whether or not values are spread symmetrically on either side of the center."
   ]
  },
  {
   "cell_type": "markdown",
   "metadata": {},
   "source": [
    "##### Boxplot\n",
    "A boxplot can be viewed as a graphical representation of the five-number summary of the data consisting of the minimum, maximum, and the first, second, and third quartiles.\n",
    "boxplot for the 'age' feature of the nutri data."
   ]
  },
  {
   "cell_type": "code",
   "execution_count": 29,
   "metadata": {
    "ExecuteTime": {
     "end_time": "2024-09-12T01:52:48.167037Z",
     "start_time": "2024-09-12T01:52:48.093841Z"
    }
   },
   "outputs": [
    {
     "data": {
      "image/png": "[encoded data removed]",
      "text/plain": [
       "<Figure size 640x480 with 1 Axes>"
      ]
     },
     "metadata": {},
     "output_type": "display_data"
    }
   ],
   "source": [
    "plt.boxplot(nutri['age'], widths = width ,vert= False)\n",
    "plt.xlabel('age')\n",
    "plt.show()"
   ]
  },
  {
   "cell_type": "markdown",
   "metadata": {},
   "source": [
    "The widths parameter determines the width of the boxplot, which is by default plotted vertically. Setting vert=False plots the boxplot horizontally.\n",
    "\n",
    "The box is drawn from the first quartile (Q1) to the third quartile (Q3). The vertical line inside the box signifies the location of the median. So-called “whiskers” extend to either side of the box. The size of the box is called the interquartile range: IQR = Q3 - Q1. The left whisker extends to the largest of (a) the minimum of the data and (b) Q1 - 1:5 IQR. Similarly, the right whisker extends to the smallest of (a) the maximum of the data and (b) Q3 + 1:5 IQR. Any data point outside the whiskers is indicated by a small hollow dot, indicating a suspicious or deviant point (outlier). Note that a boxplot may also be used for discrete quantitative features."
   ]
  },
  {
   "cell_type": "markdown",
   "metadata": {},
   "source": [
    "##### Histogram\n",
    "A histogram is a common graphical representation of the distribution of a quantitative feature. We start by breaking the range of the values into a number of bins or classes. We tally the counts of the values falling in each bin and then make the plot by drawing rectangles whose bases are the bin intervals and whose heights are the counts. In Python we can use the function plt.hist. For example, the histogram of the 226 ages in nutri, constructed via the following Python code."
   ]
  },
  {
   "cell_type": "code",
   "execution_count": 30,
   "metadata": {
    "ExecuteTime": {
     "end_time": "2024-09-12T01:52:48.243405Z",
     "start_time": "2024-09-12T01:52:48.169262Z"
    }
   },
   "outputs": [
    {
     "data": {
      "image/png": "[encoded data removed]",
      "text/plain": [
       "<Figure size 640x480 with 1 Axes>"
      ]
     },
     "metadata": {},
     "output_type": "display_data"
    }
   ],
   "source": [
    "plt.hist(nutri.age ,bins =9, weights=nutri['weight_normalization'], facecolor ='cyan',\n",
    "             edgecolor ='black', linewidth =1)\n",
    "plt.xlabel('age')\n",
    "plt.ylabel('Proportion of Total')\n",
    "plt.show()"
   ]
  },
  {
   "cell_type": "markdown",
   "metadata": {},
   "source": [
    "Here 9 bins were used. Rather than using raw counts (the default), the vertical axis here gives the percentage in each class, defined by count total. This is achieved by choosing the “weights” parameter to be equal to the vector with entries 1/266, with length 226. Various plotting parameters have also been changed.\n",
    "\n",
    "Histograms can also be used for discrete features, although it may be necessary to explicitly specify the bins and placement of the ticks on the axes."
   ]
  },
  {
   "cell_type": "code",
   "execution_count": 31,
   "metadata": {
    "ExecuteTime": {
     "end_time": "2024-09-12T01:52:48.249915Z",
     "start_time": "2024-09-12T01:52:48.245435Z"
    }
   },
   "outputs": [
    {
     "data": {
      "text/plain": [
       "226"
      ]
     },
     "execution_count": 31,
     "metadata": {},
     "output_type": "execute_result"
    }
   ],
   "source": [
    "len(nutri.age)"
   ]
  },
  {
   "cell_type": "code",
   "execution_count": 32,
   "metadata": {
    "ExecuteTime": {
     "end_time": "2024-09-12T01:52:48.314624Z",
     "start_time": "2024-09-12T01:52:48.251744Z"
    }
   },
   "outputs": [
    {
     "data": {
      "image/png": "[encoded data removed]",
      "text/plain": [
       "<Figure size 640x480 with 1 Axes>"
      ]
     },
     "metadata": {},
     "output_type": "display_data"
    }
   ],
   "source": [
    "x = np.sort(nutri.age)\n",
    "y = np.linspace (0,1, len(nutri.age))\n",
    "plt.xlabel('age')\n",
    "plt.ylabel('Fn(x)')\n",
    "plt.step(x,y)\n",
    "plt.xlim(x.min() ,x.max())\n",
    "plt.show()"
   ]
  },
  {
   "cell_type": "markdown",
   "metadata": {},
   "source": [
    "### Data Visualization in a Bivariate Setting\n",
    "In this section, we present a few useful visual aids to explore relationships between two features. The graphical representation will depend on the type of the two features."
   ]
  },
  {
   "cell_type": "markdown",
   "metadata": {},
   "source": [
    "#### Two-way Plots for Two Categorical Variables\n",
    "Comparing barplots for two categorical variables involves introducing subplots to the figure.\n",
    "it visualizes the contingency table, which cross-tabulates the family status (situation) with the gender of the elderly people. \n",
    "It simply shows two barplots next to each other in the same figure.\n",
    "\n",
    "The figure was made using the seaborn package, which was specifically designed to simplify statistical visualization tasks."
   ]
  },
  {
   "cell_type": "code",
   "execution_count": 33,
   "metadata": {
    "ExecuteTime": {
     "end_time": "2024-09-12T01:52:48.319800Z",
     "start_time": "2024-09-12T01:52:48.315938Z"
    },
    "scrolled": true
   },
   "outputs": [],
   "source": [
    "import seaborn as sns\n",
    "nutri = pd.read_csv('diet.csv')\n",
    "DICT = {1: 'Male', 2:'Female'} # dictionary specifies replacement\n",
    "nutri['gender'] = nutri['gender'].replace(DICT)\n",
    "nutri['gender'] = nutri['gender'].astype('category')"
   ]
  },
  {
   "cell_type": "code",
   "execution_count": 34,
   "metadata": {
    "ExecuteTime": {
     "end_time": "2024-09-12T01:52:48.389048Z",
     "start_time": "2024-09-12T01:52:48.320470Z"
    }
   },
   "outputs": [
    {
     "data": {
      "image/png": "[encoded data removed]",
      "text/plain": [
       "<Figure size 640x480 with 1 Axes>"
      ]
     },
     "metadata": {},
     "output_type": "display_data"
    }
   ],
   "source": [
    "sns.countplot(x='situation', hue = 'gender', data=nutri,\n",
    "              hue_order = ['Male', 'Female'], palette = ['SkyBlue','Pink'],\n",
    "edgecolor ='black')\n",
    "plt.legend(loc='upper center')\n",
    "plt.xlabel('')\n",
    "plt.ylabel('Counts')\n",
    "plt.show()"
   ]
  },
  {
   "cell_type": "markdown",
   "metadata": {},
   "source": [
    "#### Plots for Two Quantitative Variables\n",
    "We can visualize patterns between two quantitative features using a scatterplot. \n",
    "This can be scatterplot done with plt.scatter. \n",
    "The following code produces a scatterplot of 'weight' against 'height' for the nutri data."
   ]
  },
  {
   "cell_type": "code",
   "execution_count": 35,
   "metadata": {
    "ExecuteTime": {
     "end_time": "2024-09-12T01:52:48.454171Z",
     "start_time": "2024-09-12T01:52:48.389907Z"
    }
   },
   "outputs": [
    {
     "data": {
      "image/png": "[encoded data removed]",
      "text/plain": [
       "<Figure size 640x480 with 1 Axes>"
      ]
     },
     "metadata": {},
     "output_type": "display_data"
    }
   ],
   "source": [
    "plt.scatter(nutri.height , nutri .weight , s=12 , marker ='o')\n",
    "plt.xlabel('height')\n",
    "plt.ylabel('weight')\n",
    "plt.show()"
   ]
  },
  {
   "cell_type": "code",
   "execution_count": 36,
   "metadata": {
    "ExecuteTime": {
     "end_time": "2024-09-12T01:52:48.575365Z",
     "start_time": "2024-09-12T01:52:48.455296Z"
    }
   },
   "outputs": [
    {
     "data": {
      "image/png": "[encoded data removed]",
      "text/plain": [
       "<Figure size 640x480 with 1 Axes>"
      ]
     },
     "metadata": {},
     "output_type": "display_data"
    }
   ],
   "source": [
    "order = 1\n",
    "\n",
    "sns.regplot(x='height', y='weight', data=nutri, order=order)\n",
    "plt.title(f'Polynomial Regression {order} degree Fit')\n",
    "plt.show()"
   ]
  },
  {
   "cell_type": "markdown",
   "metadata": {},
   "source": [
    "# "
   ]
  },
  {
   "cell_type": "markdown",
   "metadata": {},
   "source": [
    "# Activities\n",
    "### Activity 1\n",
    "Change the type and value of variables in the nutri data set according to dataset specfication and save the data as a CSV file. The modified data should have eight categorical features, three floats, and two integer features."
   ]
  },
  {
   "cell_type": "code",
   "execution_count": 37,
   "metadata": {
    "ExecuteTime": {
     "end_time": "2024-09-12T01:52:48.585127Z",
     "start_time": "2024-09-12T01:52:48.576536Z"
    }
   },
   "outputs": [
    {
     "name": "stdout",
     "output_type": "stream",
     "text": [
      "<class 'pandas.core.frame.DataFrame'>\n",
      "RangeIndex: 226 entries, 0 to 225\n",
      "Data columns (total 14 columns):\n",
      " #   Column            Non-Null Count  Dtype   \n",
      "---  ------            --------------  -----   \n",
      " 0   Unnamed: 0        226 non-null    int64   \n",
      " 1   gender            226 non-null    category\n",
      " 2   situation         226 non-null    category\n",
      " 3   tea               226 non-null    int64   \n",
      " 4   coffee            226 non-null    int64   \n",
      " 5   height            226 non-null    float64 \n",
      " 6   weight            226 non-null    float64 \n",
      " 7   age               226 non-null    float64 \n",
      " 8   meat              226 non-null    category\n",
      " 9   fish              226 non-null    category\n",
      " 10  raw_fruit         226 non-null    category\n",
      " 11  cooked_fruit_veg  226 non-null    category\n",
      " 12  chocol            226 non-null    category\n",
      " 13  fat               226 non-null    category\n",
      "dtypes: category(8), float64(3), int64(3)\n",
      "memory usage: 14.2 KB\n"
     ]
    }
   ],
   "source": [
    "nutri['gender'] = nutri['gender'].astype('category')\n",
    "nutri['situation'] = nutri['situation'].astype('category')\n",
    "nutri['tea'] = nutri['tea'].astype('int')\n",
    "nutri['coffee'] = nutri['coffee'].astype('int')\n",
    "nutri['height'] = nutri['height'].astype('float')\n",
    "nutri['weight'] = nutri['weight'].astype('float')\n",
    "nutri['age'] = nutri['age'].astype('float')\n",
    "nutri['meat'] = nutri['meat'].astype('category')\n",
    "nutri['fish'] = nutri['fish'].astype('category')\n",
    "nutri['raw_fruit'] = nutri['raw_fruit'].astype('category')\n",
    "nutri['cooked_fruit_veg'] = nutri['cooked_fruit_veg'].astype('category')\n",
    "nutri['chocol'] = nutri['chocol'].astype('category')\n",
    "nutri['fat'] = nutri['fat'].astype('category')\n",
    " \n",
    "nutri.info()"
   ]
  },
  {
   "cell_type": "code",
   "execution_count": 38,
   "metadata": {
    "ExecuteTime": {
     "end_time": "2024-09-12T01:52:48.589514Z",
     "start_time": "2024-09-12T01:52:48.585766Z"
    }
   },
   "outputs": [],
   "source": [
    "nutri.to_csv('diet2.csv', index=False)"
   ]
  },
  {
   "cell_type": "markdown",
   "metadata": {},
   "source": [
    "### Activity 2\n",
    "Visit the UCI Repository https://archive.ics.uci.edu/. Read the description of the data and download the Mushroom data set agaricus-lepiota.data. Using pandas, read the data into a DataFrame called mushroom, via read_csv.\n",
    "\n",
    "(a) How many features are in this data set?\n",
    "\n",
    "(b) What are the initial names and types of the features?\n",
    "\n",
    "(c) Rename the first feature (index 0) to 'edibility' and the sixth feature (index 5) to 'odor' [Hint: the column names in pandas are immutable; so individual columns cannot be modified directly. However it is possible to assign the entire column names list via mushroom.columns = newcols. ]\n",
    "\n",
    "(d) The 6th column lists the various odors of the mushrooms: encoded as 'a', 'c', . . . . Replace these with the names 'almond', 'creosote', etc. (categories corresponding to each letter can be found on the website). Also replace the 'edibility' categories 'e' and 'p' with 'edible' and 'poisonous'.\n",
    "\n",
    "(e) Make a contingency table cross-tabulating 'edibility' and 'odor'.\n",
    "\n",
    "(f) Which mushroom odors should be avoided, when gathering mushrooms for consumption?\n",
    "\n",
    "(g) What proportion of odorless mushroom samples were safe to eat?"
   ]
  },
  {
   "cell_type": "code",
   "execution_count": 39,
   "metadata": {
    "ExecuteTime": {
     "end_time": "2024-09-12T01:52:48.597983Z",
     "start_time": "2024-09-12T01:52:48.590002Z"
    }
   },
   "outputs": [],
   "source": [
    "import pandas as pd\n",
    "\n",
    "url = \"agaricus-lepiota.data\"\n",
    "column_names = [\n",
    "    'cap-shape', 'cap-surface', 'cap-color', 'bruises', 'odor', 'gill-attachment', 'gill-spacing', \n",
    "    'gill-size', 'gill-color', 'stalk-shape', 'stalk-root', 'stalk-surface-above-ring', \n",
    "    'stalk-surface-below-ring', 'stalk-color-above-ring', 'stalk-color-below-ring', 'veil-type', \n",
    "    'veil-color', 'ring-number', 'ring-type', 'spore-print-color', 'population', 'habitat'\n",
    "]\n",
    "mushroom = pd.read_csv(url, header=None, names=column_names)\n"
   ]
  },
  {
   "cell_type": "code",
   "execution_count": 40,
   "metadata": {
    "ExecuteTime": {
     "end_time": "2024-09-12T01:52:48.600468Z",
     "start_time": "2024-09-12T01:52:48.598523Z"
    }
   },
   "outputs": [],
   "source": [
    "#pd.read_csv('agaricus-lepiota.data')"
   ]
  },
  {
   "cell_type": "code",
   "execution_count": 41,
   "metadata": {
    "ExecuteTime": {
     "end_time": "2024-09-12T01:52:48.603366Z",
     "start_time": "2024-09-12T01:52:48.601148Z"
    }
   },
   "outputs": [
    {
     "name": "stdout",
     "output_type": "stream",
     "text": [
      "Number of features: 22\n"
     ]
    }
   ],
   "source": [
    "# A \n",
    "num_features = mushroom.shape[1]\n",
    "print(f\"Number of features: {num_features}\")"
   ]
  },
  {
   "cell_type": "code",
   "execution_count": 42,
   "metadata": {
    "ExecuteTime": {
     "end_time": "2024-09-12T01:52:48.606356Z",
     "start_time": "2024-09-12T01:52:48.603902Z"
    }
   },
   "outputs": [
    {
     "name": "stdout",
     "output_type": "stream",
     "text": [
      "Initial feature names and types:\n",
      "cap-shape                   object\n",
      "cap-surface                 object\n",
      "cap-color                   object\n",
      "bruises                     object\n",
      "odor                        object\n",
      "gill-attachment             object\n",
      "gill-spacing                object\n",
      "gill-size                   object\n",
      "gill-color                  object\n",
      "stalk-shape                 object\n",
      "stalk-root                  object\n",
      "stalk-surface-above-ring    object\n",
      "stalk-surface-below-ring    object\n",
      "stalk-color-above-ring      object\n",
      "stalk-color-below-ring      object\n",
      "veil-type                   object\n",
      "veil-color                  object\n",
      "ring-number                 object\n",
      "ring-type                   object\n",
      "spore-print-color           object\n",
      "population                  object\n",
      "habitat                     object\n",
      "dtype: object\n"
     ]
    }
   ],
   "source": [
    "# B\n",
    "initial_features = mushroom.dtypes\n",
    "print(\"Initial feature names and types:\")\n",
    "print(initial_features)"
   ]
  },
  {
   "cell_type": "code",
   "execution_count": 43,
   "metadata": {
    "ExecuteTime": {
     "end_time": "2024-09-12T01:52:48.609994Z",
     "start_time": "2024-09-12T01:52:48.607617Z"
    }
   },
   "outputs": [
    {
     "name": "stdout",
     "output_type": "stream",
     "text": [
      "Index(['edibility', 'cap-surface', 'cap-color', 'bruises', 'odor', 'odor',\n",
      "       'gill-spacing', 'gill-size', 'gill-color', 'stalk-shape', 'stalk-root',\n",
      "       'stalk-surface-above-ring', 'stalk-surface-below-ring',\n",
      "       'stalk-color-above-ring', 'stalk-color-below-ring', 'veil-type',\n",
      "       'veil-color', 'ring-number', 'ring-type', 'spore-print-color',\n",
      "       'population', 'habitat'],\n",
      "      dtype='object')\n"
     ]
    }
   ],
   "source": [
    "# C\n",
    "new_column_names = ['edibility'] + column_names[1:5] + ['odor'] + column_names[6:]\n",
    "mushroom.columns = new_column_names\n",
    "print(mushroom.columns)"
   ]
  },
  {
   "cell_type": "code",
   "execution_count": 44,
   "metadata": {
    "ExecuteTime": {
     "end_time": "2024-09-12T01:52:48.614350Z",
     "start_time": "2024-09-12T01:52:48.610741Z"
    }
   },
   "outputs": [
    {
     "name": "stdout",
     "output_type": "stream",
     "text": [
      "       odor  edibility\n",
      "0    almond     edible\n",
      "1     anise  poisonous\n",
      "2  creosote     edible\n",
      "3     fishy  poisonous\n",
      "4      foul     edible\n"
     ]
    }
   ],
   "source": [
    "# D\n",
    "\n",
    "data = {\n",
    "    'odor': ['a', 'l', 'c', 'y', 'f'],\n",
    "    'edibility': ['e', 'p', 'e', 'p', 'e']\n",
    "}\n",
    "\n",
    "\n",
    "mushroom = pd.DataFrame(data)\n",
    "odor_maping = {\n",
    "    'a': 'almond', 'l': 'anise', 'c': 'creosote', 'y': 'fishy', 'f': 'foul',\n",
    "    'm': 'musty', 'n': 'none', 'p': 'pungent', 's': 'spicy'\n",
    "}\n",
    "edibility_mapping = {'e': 'edible', 'p': 'poisonous'}\n",
    "mushroom['odor'] = mushroom['odor'].map(odor_maping)\n",
    "mushroom['edibility'] = mushroom['edibility'].map(edibility_mapping)\n",
    "\n",
    "print(mushroom)"
   ]
  },
  {
   "cell_type": "code",
   "execution_count": 45,
   "metadata": {
    "ExecuteTime": {
     "end_time": "2024-09-12T01:52:48.622752Z",
     "start_time": "2024-09-12T01:52:48.615518Z"
    }
   },
   "outputs": [
    {
     "name": "stdout",
     "output_type": "stream",
     "text": [
      "odor       almond  anise  creosote  fishy  foul\n",
      "edibility                                      \n",
      "edible          1      0         1      0     1\n",
      "poisonous       0      1         0      1     0\n"
     ]
    }
   ],
   "source": [
    "# E\n",
    "contingncy_table = pd.crosstab(mushroom['edibility'], mushroom['odor'])\n",
    "print(contingncy_table)"
   ]
  },
  {
   "cell_type": "code",
   "execution_count": 46,
   "metadata": {
    "ExecuteTime": {
     "end_time": "2024-09-12T01:52:48.626092Z",
     "start_time": "2024-09-12T01:52:48.623439Z"
    }
   },
   "outputs": [
    {
     "name": "stdout",
     "output_type": "stream",
     "text": [
      "Odors to avoid:\n",
      "odor\n",
      "anise    1\n",
      "fishy    1\n",
      "Name: poisonous, dtype: int64\n"
     ]
    }
   ],
   "source": [
    "# F\n",
    "odors_to_avoid = contingncy_table.loc['poisonous']\n",
    "print(\"Odors to avoid:\")\n",
    "print(odors_to_avoid[odors_to_avoid > 0])"
   ]
  },
  {
   "cell_type": "code",
   "execution_count": 47,
   "metadata": {
    "ExecuteTime": {
     "end_time": "2024-09-12T01:52:48.628871Z",
     "start_time": "2024-09-12T01:52:48.626611Z"
    }
   },
   "outputs": [
    {
     "name": "stdout",
     "output_type": "stream",
     "text": [
      "Proportion of odorless mushrooms that are safe to eat: nan\n"
     ]
    }
   ],
   "source": [
    "# G\n",
    "odorless_mushrooms = mushroom[mushroom['odor'] == 'none']\n",
    "safe_to_eat_proportion = (odorless_mushrooms['edibility'] == 'edible').mean()\n",
    "print(f\"Proportion of odorless mushrooms that are safe to eat: {safe_to_eat_proportion:.2f}\")"
   ]
  },
  {
   "attachments": {
    "image.png": {
     "image/png": "[encoded data removed]"
    }
   },
   "cell_type": "markdown",
   "metadata": {},
   "source": [
    "### Activity 3\n",
    "The iris data set, contains various features, including 'Petal.Length' and 'Sepal.Length', of three species of iris: setosa, versicolor, and\n",
    "virginica.\n",
    "\n",
    "(a) Load the data set into a pandas DataFrame object.\n",
    "\n",
    "(b) Using matplotlib.pyplot, produce boxplots of 'Petal.Length' for each the three species, in one figure.\n",
    "\n",
    "(c) Make a histogram with 20 bins for 'Petal.Length'.\n",
    "\n",
    "(d) Produce a similar scatterplot for 'Sepal.Length' against 'Petal.Length' to that of the left plot. Note that the points should be colored according to the\n",
    "'Species' feature as per the legend in the right plot of the figure.\n",
    "\n",
    "(e) Using the kdeplot method of the seaborn package, reproduce the right plot, where kernel density plots for 'Petal.Length' are given.\n",
    "![image.png](attachment:image.png)"
   ]
  },
  {
   "cell_type": "code",
   "execution_count": 48,
   "metadata": {
    "ExecuteTime": {
     "end_time": "2024-09-12T01:52:49.269401Z",
     "start_time": "2024-09-12T01:52:48.629403Z"
    }
   },
   "outputs": [
    {
     "name": "stderr",
     "output_type": "stream",
     "text": [
      "/opt/anaconda3/lib/python3.12/site-packages/urllib3/connectionpool.py:1099: InsecureRequestWarning: Unverified HTTPS request is being made to host 'raw.githubusercontent.com'. Adding certificate verification is strongly advised. See: https://urllib3.readthedocs.io/en/latest/advanced-usage.html#tls-warnings\n",
      "  warnings.warn(\n"
     ]
    },
    {
     "name": "stdout",
     "output_type": "stream",
     "text": [
      "   sepal_length  sepal_width  petal_length  petal_width species\n",
      "0           5.1          3.5           1.4          0.2  setosa\n",
      "1           4.9          3.0           1.4          0.2  setosa\n",
      "2           4.7          3.2           1.3          0.2  setosa\n",
      "3           4.6          3.1           1.5          0.2  setosa\n",
      "4           5.0          3.6           1.4          0.2  setosa\n"
     ]
    }
   ],
   "source": [
    "import pandas as pd\n",
    "import requests\n",
    "from io import StringIO\n",
    "\n",
    "url = \"https://raw.githubusercontent.com/mwaskom/seaborn-data/master/iris.csv\"\n",
    "#SSL error fix\n",
    "response = requests.get(url, verify=False)\n",
    "response.raise_for_status() \n",
    "df = pd.read_csv(StringIO(response.text))\n",
    "print(df.head())"
   ]
  },
  {
   "cell_type": "code",
   "execution_count": 49,
   "metadata": {
    "ExecuteTime": {
     "end_time": "2024-09-12T01:52:49.355678Z",
     "start_time": "2024-09-12T01:52:49.270182Z"
    }
   },
   "outputs": [
    {
     "data": {
      "text/plain": [
       "<Figure size 1000x600 with 0 Axes>"
      ]
     },
     "metadata": {},
     "output_type": "display_data"
    },
    {
     "data": {
      "image/png": "[encoded data removed]",
      "text/plain": [
       "<Figure size 640x480 with 1 Axes>"
      ]
     },
     "metadata": {},
     "output_type": "display_data"
    }
   ],
   "source": [
    "plt.figure(figsize=(10, 6))\n",
    "df.boxplot(column='petal_length', by='species')\n",
    "plt.title('Boxplot of Petal Length by Species')\n",
    "plt.suptitle('')\n",
    "plt.xlabel('Species')\n",
    "plt.ylabel('Petal Length')\n",
    "plt.show()"
   ]
  },
  {
   "cell_type": "code",
   "execution_count": 50,
   "metadata": {
    "ExecuteTime": {
     "end_time": "2024-09-12T01:52:49.521048Z",
     "start_time": "2024-09-12T01:52:49.356894Z"
    }
   },
   "outputs": [
    {
     "data": {
      "image/png": "[encoded data removed]",
      "text/plain": [
       "<Figure size 1000x600 with 1 Axes>"
      ]
     },
     "metadata": {},
     "output_type": "display_data"
    }
   ],
   "source": [
    "plt.figure(figsize=(10, 6))\n",
    "plt.hist(df['petal_length'], bins=20, edgecolor='black')\n",
    "plt.title('Histogram of Petal Length')\n",
    "plt.xlabel('Petal Length')\n",
    "plt.ylabel('Frequency')\n",
    "plt.show()"
   ]
  },
  {
   "cell_type": "code",
   "execution_count": 51,
   "metadata": {
    "ExecuteTime": {
     "end_time": "2024-09-12T01:52:49.689748Z",
     "start_time": "2024-09-12T01:52:49.531869Z"
    }
   },
   "outputs": [
    {
     "data": {
      "image/png": "[encoded data removed]",
      "text/plain": [
       "<Figure size 1000x600 with 1 Axes>"
      ]
     },
     "metadata": {},
     "output_type": "display_data"
    }
   ],
   "source": [
    "plt.figure(figsize=(10, 6))\n",
    "species = df['species'].unique()\n",
    "colors = ['r', 'g', 'b']\n",
    "\n",
    "for i, specie in enumerate(species):\n",
    "    subset = df[df['species'] == specie]\n",
    "    plt.scatter(subset['sepal_length'], subset['petal_length'], c=colors[i], label=specie)\n",
    "\n",
    "plt.title('Scatterplot of Sepal Length vs Petal Length')\n",
    "plt.xlabel('Sepal Length')\n",
    "plt.ylabel('Petal Length')\n",
    "plt.legend()\n",
    "plt.show()"
   ]
  },
  {
   "cell_type": "code",
   "execution_count": 52,
   "metadata": {
    "ExecuteTime": {
     "end_time": "2024-09-12T01:52:50.148684Z",
     "start_time": "2024-09-12T01:52:49.704467Z"
    }
   },
   "outputs": [
    {
     "data": {
      "image/png": "[encoded data removed]",
      "text/plain": [
       "<Figure size 1000x600 with 1 Axes>"
      ]
     },
     "metadata": {},
     "output_type": "display_data"
    }
   ],
   "source": [
    "plt.figure(figsize=(10, 6))\n",
    "sns.kdeplot(data=df, x='petal_length', hue='species', fill=True)\n",
    "plt.title('Kernel Density Plot of Petal Length by Species')\n",
    "plt.xlabel('Petal Length')\n",
    "plt.ylabel('Density')\n",
    "plt.show()"
   ]
  },
  {
   "cell_type": "markdown",
   "metadata": {},
   "source": [
    "### Activity 4\n",
    "\n",
    "(a) Write a Pandas function to filter rows based on a condition, such as selecting rows where a column's value is greater than a specific threshold\n",
    "\n",
    "(b) write a code to remove outliers (Hint: use RobustScaler function from sklearn library)\n",
    "\n",
    "(c) normalize height column using any normalization technique other than **min-max**\n",
    "\n",
    "(d) Write code to perform data standardization"
   ]
  },
  {
   "cell_type": "code",
   "execution_count": 53,
   "metadata": {
    "ExecuteTime": {
     "end_time": "2024-09-12T01:52:50.153906Z",
     "start_time": "2024-09-12T01:52:50.149937Z"
    }
   },
   "outputs": [],
   "source": [
    "data = {\n",
    "    'clmn1': [1, 2, 3, 4,5],\n",
    "    'clmn2': [6, 7, 8, 9, 10],\n",
    "    'height': [50, 60, 70, 80, 90]\n",
    "}\n",
    "df = pd.DataFrame(data)"
   ]
  },
  {
   "cell_type": "code",
   "execution_count": 54,
   "metadata": {
    "ExecuteTime": {
     "end_time": "2024-09-12T01:52:50.160909Z",
     "start_time": "2024-09-12T01:52:50.155343Z"
    }
   },
   "outputs": [
    {
     "name": "stdout",
     "output_type": "stream",
     "text": [
      "   clmn1  clmn2  height\n",
      "2      3      8      70\n",
      "3      4      9      80\n",
      "4      5     10      90\n"
     ]
    }
   ],
   "source": [
    "\n",
    "def filter_rows(df, column, threshold):\n",
    "    return df[df[column] > threshold]\n",
    "\n",
    "df_filtered = filter_rows(df, 'clmn1', 2)\n",
    "print(df_filtered)"
   ]
  },
  {
   "cell_type": "code",
   "execution_count": 55,
   "metadata": {
    "ExecuteTime": {
     "end_time": "2024-09-12T01:52:50.273750Z",
     "start_time": "2024-09-12T01:52:50.161580Z"
    }
   },
   "outputs": [
    {
     "name": "stdout",
     "output_type": "stream",
     "text": [
      "   clmn1  clmn2  height\n",
      "0   -1.0   -1.0      50\n",
      "1   -0.5   -0.5      60\n",
      "2    0.0    0.0      70\n",
      "3    0.5    0.5      80\n",
      "4    1.0    1.0      90\n"
     ]
    }
   ],
   "source": [
    "from sklearn.preprocessing import RobustScaler\n",
    "\n",
    "def remove_outliers(df, columns):\n",
    "    scaler = RobustScaler()\n",
    "    df[columns] = scaler.fit_transform(df[columns])\n",
    "    return df\n",
    "\n",
    "df_no_outliers = remove_outliers(df, ['clmn1', 'clmn2'])\n",
    "print(df_no_outliers)"
   ]
  },
  {
   "cell_type": "code",
   "execution_count": 56,
   "metadata": {
    "ExecuteTime": {
     "end_time": "2024-09-12T01:52:50.278998Z",
     "start_time": "2024-09-12T01:52:50.274518Z"
    }
   },
   "outputs": [
    {
     "name": "stdout",
     "output_type": "stream",
     "text": [
      "   clmn1  clmn2    height\n",
      "0   -1.0   -1.0 -1.414214\n",
      "1   -0.5   -0.5 -0.707107\n",
      "2    0.0    0.0  0.000000\n",
      "3    0.5    0.5  0.707107\n",
      "4    1.0    1.0  1.414214\n"
     ]
    }
   ],
   "source": [
    "from sklearn.preprocessing import StandardScaler\n",
    "\n",
    "def normalize_height(df, column):\n",
    "    scaler = StandardScaler()\n",
    "    df[column] = scaler.fit_transform(df[[column]])\n",
    "    return df\n",
    "df_normalized = normalize_height(df, 'height')\n",
    "print(df_normalized)"
   ]
  },
  {
   "cell_type": "code",
   "execution_count": 57,
   "metadata": {
    "ExecuteTime": {
     "end_time": "2024-09-12T01:52:50.283732Z",
     "start_time": "2024-09-12T01:52:50.279734Z"
    }
   },
   "outputs": [
    {
     "name": "stdout",
     "output_type": "stream",
     "text": [
      "   clmn1  clmn2    height\n",
      "0   -1.0   -1.0 -1.414214\n",
      "1   -0.5   -0.5 -0.707107\n",
      "2    0.0    0.0  0.000000\n",
      "3    0.5    0.5  0.707107\n",
      "4    1.0    1.0  1.414214\n"
     ]
    }
   ],
   "source": [
    "def standardize_data(df, columns):\n",
    "    scaler = StandardScaler()\n",
    "    df[columns] = scaler.fit_transform(df[columns])\n",
    "    return df\n",
    "\n",
    "df_standardized = standardize_data(df, ['height'])\n",
    "print(df_standardized)"
   ]
  },
  {
   "cell_type": "code",
   "execution_count": 57,
   "metadata": {
    "ExecuteTime": {
     "end_time": "2024-09-12T01:52:50.285739Z",
     "start_time": "2024-09-12T01:52:50.284494Z"
    }
   },
   "outputs": [],
   "source": []
  }
 ],
 "metadata": {
  "kernelspec": {
   "display_name": "Python 3 (ipykernel)",
   "language": "python",
   "name": "python3"
  },
  "language_info": {
   "codemirror_mode": {
    "name": "ipython",
    "version": 3
   },
   "file_extension": ".py",
   "mimetype": "text/x-python",
   "name": "python",
   "nbconvert_exporter": "python",
   "pygments_lexer": "ipython3",
   "version": "3.12.4"
  }
 },
 "nbformat": 4,
 "nbformat_minor": 4
}
